{
 "cells": [
  {
   "cell_type": "markdown",
   "id": "2cd06eba",
   "metadata": {},
   "source": [
    "# Retail Customer Segmentation\n",
    "Congratulations! You just got some contract work with a Retail company based in Seattle that sells clothing online but they also have in-store style and clothing advice sessions. Customers come in to the store, have sessions/meetings with a personal stylist, then they can go home and order either on a mobile app or website for the clothes they want.\n",
    "\n",
    "The company would like to know if they can segment their customers in groups with different spending habits.\n",
    "\n",
    "We'll work with the Ecommerce Customers csv file from the company. It has Customer info, suchas __Email__, __Address__, and their color __Avatar__. Then it also has numerical value columns:\n",
    "\n",
    "* __Avg. Session Length__: Average session of in-store style advice sessions.\n",
    "* __Time on App__: Average time spent on App in minutes\n",
    "* __Time on Website__: Average time spent on Website in minutes\n",
    "* __Length of Membership__: How many years the customer has been a member. "
   ]
  },
  {
   "cell_type": "markdown",
   "id": "9c3396c3",
   "metadata": {},
   "source": [
    "# Imports"
   ]
  },
  {
   "cell_type": "code",
   "execution_count": 1,
   "id": "5eeecb27",
   "metadata": {
    "ExecuteTime": {
     "end_time": "2022-03-16T13:06:53.529741Z",
     "start_time": "2022-03-16T13:06:36.288540Z"
    }
   },
   "outputs": [],
   "source": [
    "import pandas as pd\n",
    "import numpy as np\n",
    "import matplotlib.pyplot as plt\n",
    "import seaborn as sns"
   ]
  },
  {
   "cell_type": "code",
   "execution_count": 2,
   "id": "d8e26d7e",
   "metadata": {
    "ExecuteTime": {
     "end_time": "2022-03-16T13:45:19.125603Z",
     "start_time": "2022-03-16T13:45:19.110289Z"
    }
   },
   "outputs": [],
   "source": [
    "%matplotlib inline"
   ]
  },
  {
   "cell_type": "code",
   "execution_count": 3,
   "id": "9016c046",
   "metadata": {
    "ExecuteTime": {
     "end_time": "2022-03-16T13:45:19.520207Z",
     "start_time": "2022-03-16T13:45:19.502676Z"
    }
   },
   "outputs": [],
   "source": [
    "sns.set_style('whitegrid')"
   ]
  },
  {
   "cell_type": "markdown",
   "id": "c9450f4b",
   "metadata": {},
   "source": [
    "# Get the Data"
   ]
  },
  {
   "cell_type": "code",
   "execution_count": 4,
   "id": "b9233c53",
   "metadata": {
    "ExecuteTime": {
     "end_time": "2022-03-16T13:45:21.146598Z",
     "start_time": "2022-03-16T13:45:20.914934Z"
    }
   },
   "outputs": [],
   "source": [
    "customers = pd.read_csv('Ecommerce Customers')"
   ]
  },
  {
   "cell_type": "code",
   "execution_count": 5,
   "id": "0c63eb4d",
   "metadata": {
    "ExecuteTime": {
     "end_time": "2022-03-16T13:45:22.404349Z",
     "start_time": "2022-03-16T13:45:22.324636Z"
    }
   },
   "outputs": [
    {
     "data": {
      "text/html": [
       "<div>\n",
       "<style scoped>\n",
       "    .dataframe tbody tr th:only-of-type {\n",
       "        vertical-align: middle;\n",
       "    }\n",
       "\n",
       "    .dataframe tbody tr th {\n",
       "        vertical-align: top;\n",
       "    }\n",
       "\n",
       "    .dataframe thead th {\n",
       "        text-align: right;\n",
       "    }\n",
       "</style>\n",
       "<table border=\"1\" class=\"dataframe\">\n",
       "  <thead>\n",
       "    <tr style=\"text-align: right;\">\n",
       "      <th></th>\n",
       "      <th>Email</th>\n",
       "      <th>Address</th>\n",
       "      <th>Avatar</th>\n",
       "      <th>Avg. Session Length</th>\n",
       "      <th>Time on App</th>\n",
       "      <th>Time on Website</th>\n",
       "      <th>Length of Membership</th>\n",
       "      <th>Yearly Amount Spent</th>\n",
       "    </tr>\n",
       "  </thead>\n",
       "  <tbody>\n",
       "    <tr>\n",
       "      <th>0</th>\n",
       "      <td>mstephenson@fernandez.com</td>\n",
       "      <td>835 Frank Tunnel\\nWrightmouth, MI 82180-9605</td>\n",
       "      <td>Violet</td>\n",
       "      <td>34.497268</td>\n",
       "      <td>12.655651</td>\n",
       "      <td>39.577668</td>\n",
       "      <td>4.082621</td>\n",
       "      <td>587.951054</td>\n",
       "    </tr>\n",
       "    <tr>\n",
       "      <th>1</th>\n",
       "      <td>hduke@hotmail.com</td>\n",
       "      <td>4547 Archer Common\\nDiazchester, CA 06566-8576</td>\n",
       "      <td>DarkGreen</td>\n",
       "      <td>31.926272</td>\n",
       "      <td>11.109461</td>\n",
       "      <td>37.268959</td>\n",
       "      <td>2.664034</td>\n",
       "      <td>392.204933</td>\n",
       "    </tr>\n",
       "    <tr>\n",
       "      <th>2</th>\n",
       "      <td>pallen@yahoo.com</td>\n",
       "      <td>24645 Valerie Unions Suite 582\\nCobbborough, D...</td>\n",
       "      <td>Bisque</td>\n",
       "      <td>33.000915</td>\n",
       "      <td>11.330278</td>\n",
       "      <td>37.110597</td>\n",
       "      <td>4.104543</td>\n",
       "      <td>487.547505</td>\n",
       "    </tr>\n",
       "    <tr>\n",
       "      <th>3</th>\n",
       "      <td>riverarebecca@gmail.com</td>\n",
       "      <td>1414 David Throughway\\nPort Jason, OH 22070-1220</td>\n",
       "      <td>SaddleBrown</td>\n",
       "      <td>34.305557</td>\n",
       "      <td>13.717514</td>\n",
       "      <td>36.721283</td>\n",
       "      <td>3.120179</td>\n",
       "      <td>581.852344</td>\n",
       "    </tr>\n",
       "    <tr>\n",
       "      <th>4</th>\n",
       "      <td>mstephens@davidson-herman.com</td>\n",
       "      <td>14023 Rodriguez Passage\\nPort Jacobville, PR 3...</td>\n",
       "      <td>MediumAquaMarine</td>\n",
       "      <td>33.330673</td>\n",
       "      <td>12.795189</td>\n",
       "      <td>37.536653</td>\n",
       "      <td>4.446308</td>\n",
       "      <td>599.406092</td>\n",
       "    </tr>\n",
       "  </tbody>\n",
       "</table>\n",
       "</div>"
      ],
      "text/plain": [
       "                           Email  \\\n",
       "0      mstephenson@fernandez.com   \n",
       "1              hduke@hotmail.com   \n",
       "2               pallen@yahoo.com   \n",
       "3        riverarebecca@gmail.com   \n",
       "4  mstephens@davidson-herman.com   \n",
       "\n",
       "                                             Address            Avatar  \\\n",
       "0       835 Frank Tunnel\\nWrightmouth, MI 82180-9605            Violet   \n",
       "1     4547 Archer Common\\nDiazchester, CA 06566-8576         DarkGreen   \n",
       "2  24645 Valerie Unions Suite 582\\nCobbborough, D...            Bisque   \n",
       "3   1414 David Throughway\\nPort Jason, OH 22070-1220       SaddleBrown   \n",
       "4  14023 Rodriguez Passage\\nPort Jacobville, PR 3...  MediumAquaMarine   \n",
       "\n",
       "   Avg. Session Length  Time on App  Time on Website  Length of Membership  \\\n",
       "0            34.497268    12.655651        39.577668              4.082621   \n",
       "1            31.926272    11.109461        37.268959              2.664034   \n",
       "2            33.000915    11.330278        37.110597              4.104543   \n",
       "3            34.305557    13.717514        36.721283              3.120179   \n",
       "4            33.330673    12.795189        37.536653              4.446308   \n",
       "\n",
       "   Yearly Amount Spent  \n",
       "0           587.951054  \n",
       "1           392.204933  \n",
       "2           487.547505  \n",
       "3           581.852344  \n",
       "4           599.406092  "
      ]
     },
     "execution_count": 5,
     "metadata": {},
     "output_type": "execute_result"
    }
   ],
   "source": [
    "customers.head()"
   ]
  },
  {
   "cell_type": "code",
   "execution_count": 6,
   "id": "f3f76d48",
   "metadata": {
    "ExecuteTime": {
     "end_time": "2022-02-19T21:27:42.145785Z",
     "start_time": "2022-02-19T21:27:42.125836Z"
    }
   },
   "outputs": [],
   "source": [
    "customers_original = customers.copy()"
   ]
  },
  {
   "cell_type": "markdown",
   "id": "fa85a6c5",
   "metadata": {},
   "source": [
    "# Variable Information"
   ]
  },
  {
   "cell_type": "code",
   "execution_count": 6,
   "id": "b01285cb",
   "metadata": {
    "ExecuteTime": {
     "end_time": "2022-03-16T13:45:27.795552Z",
     "start_time": "2022-03-16T13:45:27.602405Z"
    }
   },
   "outputs": [
    {
     "name": "stdout",
     "output_type": "stream",
     "text": [
      "<class 'pandas.core.frame.DataFrame'>\n",
      "RangeIndex: 500 entries, 0 to 499\n",
      "Data columns (total 8 columns):\n",
      " #   Column                Non-Null Count  Dtype  \n",
      "---  ------                --------------  -----  \n",
      " 0   Email                 500 non-null    object \n",
      " 1   Address               500 non-null    object \n",
      " 2   Avatar                500 non-null    object \n",
      " 3   Avg. Session Length   500 non-null    float64\n",
      " 4   Time on App           500 non-null    float64\n",
      " 5   Time on Website       500 non-null    float64\n",
      " 6   Length of Membership  500 non-null    float64\n",
      " 7   Yearly Amount Spent   500 non-null    float64\n",
      "dtypes: float64(5), object(3)\n",
      "memory usage: 31.4+ KB\n"
     ]
    }
   ],
   "source": [
    "customers.info()"
   ]
  },
  {
   "cell_type": "code",
   "execution_count": 7,
   "id": "43203470",
   "metadata": {
    "ExecuteTime": {
     "end_time": "2022-03-16T13:45:31.515560Z",
     "start_time": "2022-03-16T13:45:31.470691Z"
    }
   },
   "outputs": [
    {
     "data": {
      "text/html": [
       "<div>\n",
       "<style scoped>\n",
       "    .dataframe tbody tr th:only-of-type {\n",
       "        vertical-align: middle;\n",
       "    }\n",
       "\n",
       "    .dataframe tbody tr th {\n",
       "        vertical-align: top;\n",
       "    }\n",
       "\n",
       "    .dataframe thead th {\n",
       "        text-align: right;\n",
       "    }\n",
       "</style>\n",
       "<table border=\"1\" class=\"dataframe\">\n",
       "  <thead>\n",
       "    <tr style=\"text-align: right;\">\n",
       "      <th></th>\n",
       "      <th>Avg. Session Length</th>\n",
       "      <th>Time on App</th>\n",
       "      <th>Time on Website</th>\n",
       "      <th>Length of Membership</th>\n",
       "      <th>Yearly Amount Spent</th>\n",
       "    </tr>\n",
       "  </thead>\n",
       "  <tbody>\n",
       "    <tr>\n",
       "      <th>count</th>\n",
       "      <td>500.000000</td>\n",
       "      <td>500.000000</td>\n",
       "      <td>500.000000</td>\n",
       "      <td>500.000000</td>\n",
       "      <td>500.000000</td>\n",
       "    </tr>\n",
       "    <tr>\n",
       "      <th>mean</th>\n",
       "      <td>33.053194</td>\n",
       "      <td>12.052488</td>\n",
       "      <td>37.060445</td>\n",
       "      <td>3.533462</td>\n",
       "      <td>499.314038</td>\n",
       "    </tr>\n",
       "    <tr>\n",
       "      <th>std</th>\n",
       "      <td>0.992563</td>\n",
       "      <td>0.994216</td>\n",
       "      <td>1.010489</td>\n",
       "      <td>0.999278</td>\n",
       "      <td>79.314782</td>\n",
       "    </tr>\n",
       "    <tr>\n",
       "      <th>min</th>\n",
       "      <td>29.532429</td>\n",
       "      <td>8.508152</td>\n",
       "      <td>33.913847</td>\n",
       "      <td>0.269901</td>\n",
       "      <td>256.670582</td>\n",
       "    </tr>\n",
       "    <tr>\n",
       "      <th>25%</th>\n",
       "      <td>32.341822</td>\n",
       "      <td>11.388153</td>\n",
       "      <td>36.349257</td>\n",
       "      <td>2.930450</td>\n",
       "      <td>445.038277</td>\n",
       "    </tr>\n",
       "    <tr>\n",
       "      <th>50%</th>\n",
       "      <td>33.082008</td>\n",
       "      <td>11.983231</td>\n",
       "      <td>37.069367</td>\n",
       "      <td>3.533975</td>\n",
       "      <td>498.887875</td>\n",
       "    </tr>\n",
       "    <tr>\n",
       "      <th>75%</th>\n",
       "      <td>33.711985</td>\n",
       "      <td>12.753850</td>\n",
       "      <td>37.716432</td>\n",
       "      <td>4.126502</td>\n",
       "      <td>549.313828</td>\n",
       "    </tr>\n",
       "    <tr>\n",
       "      <th>max</th>\n",
       "      <td>36.139662</td>\n",
       "      <td>15.126994</td>\n",
       "      <td>40.005182</td>\n",
       "      <td>6.922689</td>\n",
       "      <td>765.518462</td>\n",
       "    </tr>\n",
       "  </tbody>\n",
       "</table>\n",
       "</div>"
      ],
      "text/plain": [
       "       Avg. Session Length  Time on App  Time on Website  \\\n",
       "count           500.000000   500.000000       500.000000   \n",
       "mean             33.053194    12.052488        37.060445   \n",
       "std               0.992563     0.994216         1.010489   \n",
       "min              29.532429     8.508152        33.913847   \n",
       "25%              32.341822    11.388153        36.349257   \n",
       "50%              33.082008    11.983231        37.069367   \n",
       "75%              33.711985    12.753850        37.716432   \n",
       "max              36.139662    15.126994        40.005182   \n",
       "\n",
       "       Length of Membership  Yearly Amount Spent  \n",
       "count            500.000000           500.000000  \n",
       "mean               3.533462           499.314038  \n",
       "std                0.999278            79.314782  \n",
       "min                0.269901           256.670582  \n",
       "25%                2.930450           445.038277  \n",
       "50%                3.533975           498.887875  \n",
       "75%                4.126502           549.313828  \n",
       "max                6.922689           765.518462  "
      ]
     },
     "execution_count": 7,
     "metadata": {},
     "output_type": "execute_result"
    }
   ],
   "source": [
    "customers.describe()"
   ]
  },
  {
   "cell_type": "markdown",
   "id": "aebb11bf",
   "metadata": {},
   "source": [
    "# Check Missing or Duplicated Data"
   ]
  },
  {
   "cell_type": "code",
   "execution_count": 8,
   "id": "2595c2a9",
   "metadata": {
    "ExecuteTime": {
     "end_time": "2022-03-16T13:45:36.410335Z",
     "start_time": "2022-03-16T13:45:35.325393Z"
    }
   },
   "outputs": [
    {
     "data": {
      "text/plain": [
       "<AxesSubplot:>"
      ]
     },
     "execution_count": 8,
     "metadata": {},
     "output_type": "execute_result"
    },
    {
     "data": {
      "image/png": "[encoded data removed]",
      "text/plain": [
       "<Figure size 432x288 with 1 Axes>"
      ]
     },
     "metadata": {},
     "output_type": "display_data"
    }
   ],
   "source": [
    "sns.heatmap(data = customers.isnull(), yticklabels = False, cbar = False, cmap = 'viridis')"
   ]
  },
  {
   "cell_type": "markdown",
   "id": "be54084a",
   "metadata": {},
   "source": [
    "* No missing data"
   ]
  },
  {
   "cell_type": "code",
   "execution_count": 9,
   "id": "0c7dfacf",
   "metadata": {
    "ExecuteTime": {
     "end_time": "2022-03-16T13:45:37.404478Z",
     "start_time": "2022-03-16T13:45:37.372474Z"
    }
   },
   "outputs": [
    {
     "data": {
      "text/plain": [
       "False    500\n",
       "dtype: int64"
      ]
     },
     "execution_count": 9,
     "metadata": {},
     "output_type": "execute_result"
    }
   ],
   "source": [
    "customers.duplicated().value_counts()"
   ]
  },
  {
   "cell_type": "markdown",
   "id": "a8368771",
   "metadata": {},
   "source": [
    "* No duplicated data"
   ]
  },
  {
   "cell_type": "markdown",
   "id": "ecefb844",
   "metadata": {},
   "source": [
    "# Exploratory Data Analysis - EDA"
   ]
  },
  {
   "cell_type": "markdown",
   "id": "e6a5d4af",
   "metadata": {},
   "source": [
    "## Response Variable - Yearly Amount Spent"
   ]
  },
  {
   "cell_type": "code",
   "execution_count": 11,
   "id": "b9d13004",
   "metadata": {
    "ExecuteTime": {
     "end_time": "2022-03-16T13:47:14.835387Z",
     "start_time": "2022-03-16T13:47:14.653312Z"
    }
   },
   "outputs": [
    {
     "data": {
      "text/plain": [
       "<AxesSubplot:xlabel='Yearly Amount Spent', ylabel='Count'>"
      ]
     },
     "execution_count": 11,
     "metadata": {},
     "output_type": "execute_result"
    },
    {
     "data": {
      "image/png": "[encoded data removed]",
      "text/plain": [
       "<Figure size 1080x360 with 1 Axes>"
      ]
     },
     "metadata": {},
     "output_type": "display_data"
    }
   ],
   "source": [
    "plt.figure(figsize=(15,5))\n",
    "sns.histplot(data = customers['Yearly Amount Spent'], kde = True)"
   ]
  },
  {
   "cell_type": "code",
   "execution_count": 20,
   "id": "14a61ab0",
   "metadata": {
    "ExecuteTime": {
     "end_time": "2022-03-16T14:32:44.917173Z",
     "start_time": "2022-03-16T14:32:44.897285Z"
    }
   },
   "outputs": [
    {
     "name": "stdout",
     "output_type": "stream",
     "text": [
      "Yearly Amount Spent mean: 499.31\n",
      "Yearly Amount Spent median: 498.89\n",
      "Yearly Amount Spent standard deviation: 79.31\n",
      "95% of Yearly Amount Spent between 340.69 and 657.93\n"
     ]
    }
   ],
   "source": [
    "spent_mean = round(customers['Yearly Amount Spent'].mean(),2)\n",
    "spent_median = round(customers['Yearly Amount Spent'].median(),2)\n",
    "spent_std = round(customers['Yearly Amount Spent'].std(),2)\n",
    "print(f'Yearly Amount Spent mean: {spent_mean}')\n",
    "print(f'Yearly Amount Spent median: {spent_median}')\n",
    "print(f'Yearly Amount Spent standard deviation: {spent_std}')\n",
    "print(f'95% of Yearly Amount Spent between {spent_mean - (2 * spent_std)} and {round(spent_mean + (2 * spent_std),2)}')"
   ]
  },
  {
   "cell_type": "markdown",
   "id": "3f4ae7e5",
   "metadata": {
    "ExecuteTime": {
     "end_time": "2022-02-16T15:12:56.811919Z",
     "start_time": "2022-02-16T15:12:56.792337Z"
    }
   },
   "source": [
    "## Email"
   ]
  },
  {
   "cell_type": "code",
   "execution_count": 11,
   "id": "e9b2ca56",
   "metadata": {
    "ExecuteTime": {
     "end_time": "2022-02-19T21:27:49.845760Z",
     "start_time": "2022-02-19T21:27:49.835616Z"
    }
   },
   "outputs": [
    {
     "data": {
      "text/plain": [
       "mstephenson@fernandez.com        1\n",
       "elizabeth61@berg-braun.com       1\n",
       "pamelahampton@martin-cobb.com    1\n",
       "dbell@hotmail.com                1\n",
       "vancealicia@hotmail.com          1\n",
       "                                ..\n",
       "stevenking@patterson.com         1\n",
       "blevinseric@stephens.com         1\n",
       "campbellross@yahoo.com           1\n",
       "casey21@johnson.com              1\n",
       "hannahwilson@davidson.com        1\n",
       "Name: Email, Length: 500, dtype: int64"
      ]
     },
     "execution_count": 11,
     "metadata": {},
     "output_type": "execute_result"
    }
   ],
   "source": [
    "customers['Email'].value_counts()"
   ]
  },
  {
   "cell_type": "markdown",
   "id": "a98f7c97",
   "metadata": {},
   "source": [
    "* Varible will need feature engineering to generate insights"
   ]
  },
  {
   "cell_type": "code",
   "execution_count": 12,
   "id": "7c25fdc3",
   "metadata": {
    "ExecuteTime": {
     "end_time": "2022-02-19T21:27:50.965888Z",
     "start_time": "2022-02-19T21:27:50.955591Z"
    }
   },
   "outputs": [],
   "source": [
    "customers.drop('Email', axis = 1, inplace = True)"
   ]
  },
  {
   "cell_type": "markdown",
   "id": "e8aa2c78",
   "metadata": {},
   "source": [
    "## Address"
   ]
  },
  {
   "cell_type": "code",
   "execution_count": 13,
   "id": "cb1856b0",
   "metadata": {
    "ExecuteTime": {
     "end_time": "2022-02-19T21:27:52.120733Z",
     "start_time": "2022-02-19T21:27:52.100883Z"
    }
   },
   "outputs": [
    {
     "data": {
      "text/plain": [
       "835 Frank Tunnel\\nWrightmouth, MI 82180-9605                      1\n",
       "649 King Extension\\nNorth April, NY 54175                         1\n",
       "91542 Jessica Springs Suite 255\\nThomashaven, MT 39239-3790       1\n",
       "3485 Anthony Street Apt. 119\\nMikeberg, FL 32602                  1\n",
       "06307 Scott Spurs Suite 161\\nJessicaburgh, NH 26093-5908          1\n",
       "                                                                 ..\n",
       "94730 Martin Mount\\nNew Matthew, VI 08142-6708                    1\n",
       "PSC 3676, Box 1549\\nAPO AE 26130-7683                             1\n",
       "6218 Michael Station Apt. 982\\nSalazarburgh, NJ 79955             1\n",
       "691 Johnson Field Apt. 510\\nMichaelville, VI 78140                1\n",
       "49791 Rachel Heights Apt. 898\\nEast Drewborough, OR 55919-9528    1\n",
       "Name: Address, Length: 500, dtype: int64"
      ]
     },
     "execution_count": 13,
     "metadata": {},
     "output_type": "execute_result"
    }
   ],
   "source": [
    "customers['Address'].value_counts()"
   ]
  },
  {
   "cell_type": "markdown",
   "id": "d894af98",
   "metadata": {},
   "source": [
    "* Varible will need feature engineering to generate insights"
   ]
  },
  {
   "cell_type": "code",
   "execution_count": 14,
   "id": "a3be8d88",
   "metadata": {
    "ExecuteTime": {
     "end_time": "2022-02-19T21:27:53.335757Z",
     "start_time": "2022-02-19T21:27:53.315772Z"
    }
   },
   "outputs": [],
   "source": [
    "customers.drop('Address', axis = 1, inplace = True)"
   ]
  },
  {
   "cell_type": "markdown",
   "id": "0708c24d",
   "metadata": {},
   "source": [
    "## Avatar"
   ]
  },
  {
   "cell_type": "code",
   "execution_count": 15,
   "id": "bd0ca5fb",
   "metadata": {
    "ExecuteTime": {
     "end_time": "2022-02-19T21:27:54.405645Z",
     "start_time": "2022-02-19T21:27:54.395809Z"
    }
   },
   "outputs": [
    {
     "data": {
      "text/plain": [
       "SlateBlue               7\n",
       "Cyan                    7\n",
       "CadetBlue               7\n",
       "GreenYellow             7\n",
       "Teal                    7\n",
       "                       ..\n",
       "MediumPurple            1\n",
       "CornflowerBlue          1\n",
       "LightGoldenRodYellow    1\n",
       "PowderBlue              1\n",
       "LawnGreen               1\n",
       "Name: Avatar, Length: 138, dtype: int64"
      ]
     },
     "execution_count": 15,
     "metadata": {},
     "output_type": "execute_result"
    }
   ],
   "source": [
    "customers['Avatar'].value_counts()"
   ]
  },
  {
   "cell_type": "markdown",
   "id": "2870a024",
   "metadata": {},
   "source": [
    "* Varible will need feature engineering to generate insights"
   ]
  },
  {
   "cell_type": "code",
   "execution_count": 16,
   "id": "033c2c8e",
   "metadata": {
    "ExecuteTime": {
     "end_time": "2022-02-19T21:27:55.485847Z",
     "start_time": "2022-02-19T21:27:55.465830Z"
    }
   },
   "outputs": [],
   "source": [
    "customers.drop('Avatar', axis = 1 , inplace = True)"
   ]
  },
  {
   "cell_type": "markdown",
   "id": "de0a85e8",
   "metadata": {},
   "source": [
    "## Variable Correlation"
   ]
  },
  {
   "cell_type": "code",
   "execution_count": 17,
   "id": "c5a757d6",
   "metadata": {
    "ExecuteTime": {
     "end_time": "2022-02-19T21:27:56.825431Z",
     "start_time": "2022-02-19T21:27:56.575929Z"
    }
   },
   "outputs": [
    {
     "data": {
      "text/plain": [
       "<AxesSubplot:>"
      ]
     },
     "execution_count": 17,
     "metadata": {},
     "output_type": "execute_result"
    },
    {
     "data": {
      "image/png": "[encoded data removed]",
      "text/plain": [
       "<Figure size 1440x576 with 2 Axes>"
      ]
     },
     "metadata": {},
     "output_type": "display_data"
    }
   ],
   "source": [
    "plt.figure(figsize=(20,8))\n",
    "sns.heatmap(data = customers.corr(), annot = True)"
   ]
  },
  {
   "cell_type": "markdown",
   "id": "a7b98ac2",
   "metadata": {},
   "source": [
    "# Normalizing Variables"
   ]
  },
  {
   "cell_type": "code",
   "execution_count": 18,
   "id": "e26c3fff",
   "metadata": {
    "ExecuteTime": {
     "end_time": "2022-02-19T21:27:59.655920Z",
     "start_time": "2022-02-19T21:27:57.776016Z"
    }
   },
   "outputs": [],
   "source": [
    "from sklearn.preprocessing import MinMaxScaler"
   ]
  },
  {
   "cell_type": "code",
   "execution_count": 19,
   "id": "9b632456",
   "metadata": {
    "ExecuteTime": {
     "end_time": "2022-02-19T21:27:59.695823Z",
     "start_time": "2022-02-19T21:27:59.675917Z"
    }
   },
   "outputs": [],
   "source": [
    "scaler = MinMaxScaler()"
   ]
  },
  {
   "cell_type": "code",
   "execution_count": 20,
   "id": "94efd089",
   "metadata": {
    "ExecuteTime": {
     "end_time": "2022-02-19T21:28:00.596054Z",
     "start_time": "2022-02-19T21:28:00.575614Z"
    }
   },
   "outputs": [
    {
     "data": {
      "text/plain": [
       "MinMaxScaler()"
      ]
     },
     "execution_count": 20,
     "metadata": {},
     "output_type": "execute_result"
    }
   ],
   "source": [
    "scaler.fit(customers)"
   ]
  },
  {
   "cell_type": "code",
   "execution_count": 21,
   "id": "4aabd33c",
   "metadata": {
    "ExecuteTime": {
     "end_time": "2022-02-19T21:28:01.215775Z",
     "start_time": "2022-02-19T21:28:01.200467Z"
    }
   },
   "outputs": [],
   "source": [
    "scaled_features = scaler.transform(customers)"
   ]
  },
  {
   "cell_type": "code",
   "execution_count": 22,
   "id": "526a502e",
   "metadata": {
    "ExecuteTime": {
     "end_time": "2022-02-19T21:28:01.895495Z",
     "start_time": "2022-02-19T21:28:01.885568Z"
    }
   },
   "outputs": [],
   "source": [
    "customers_feat = pd.DataFrame(data = scaled_features, columns = customers.columns)"
   ]
  },
  {
   "cell_type": "code",
   "execution_count": 23,
   "id": "01d31c40",
   "metadata": {
    "ExecuteTime": {
     "end_time": "2022-02-19T21:28:02.596104Z",
     "start_time": "2022-02-19T21:28:02.571589Z"
    }
   },
   "outputs": [
    {
     "data": {
      "text/html": [
       "<div>\n",
       "<style scoped>\n",
       "    .dataframe tbody tr th:only-of-type {\n",
       "        vertical-align: middle;\n",
       "    }\n",
       "\n",
       "    .dataframe tbody tr th {\n",
       "        vertical-align: top;\n",
       "    }\n",
       "\n",
       "    .dataframe thead th {\n",
       "        text-align: right;\n",
       "    }\n",
       "</style>\n",
       "<table border=\"1\" class=\"dataframe\">\n",
       "  <thead>\n",
       "    <tr style=\"text-align: right;\">\n",
       "      <th></th>\n",
       "      <th>Avg. Session Length</th>\n",
       "      <th>Time on App</th>\n",
       "      <th>Time on Website</th>\n",
       "      <th>Length of Membership</th>\n",
       "      <th>Yearly Amount Spent</th>\n",
       "    </tr>\n",
       "  </thead>\n",
       "  <tbody>\n",
       "    <tr>\n",
       "      <th>0</th>\n",
       "      <td>0.751425</td>\n",
       "      <td>0.626620</td>\n",
       "      <td>0.929816</td>\n",
       "      <td>0.573101</td>\n",
       "      <td>0.651040</td>\n",
       "    </tr>\n",
       "    <tr>\n",
       "      <th>1</th>\n",
       "      <td>0.362306</td>\n",
       "      <td>0.393016</td>\n",
       "      <td>0.550801</td>\n",
       "      <td>0.359869</td>\n",
       "      <td>0.266355</td>\n",
       "    </tr>\n",
       "    <tr>\n",
       "      <th>2</th>\n",
       "      <td>0.524953</td>\n",
       "      <td>0.426378</td>\n",
       "      <td>0.524803</td>\n",
       "      <td>0.576396</td>\n",
       "      <td>0.453725</td>\n",
       "    </tr>\n",
       "    <tr>\n",
       "      <th>3</th>\n",
       "      <td>0.722409</td>\n",
       "      <td>0.787050</td>\n",
       "      <td>0.460890</td>\n",
       "      <td>0.428434</td>\n",
       "      <td>0.639055</td>\n",
       "    </tr>\n",
       "    <tr>\n",
       "      <th>4</th>\n",
       "      <td>0.574861</td>\n",
       "      <td>0.647702</td>\n",
       "      <td>0.594748</td>\n",
       "      <td>0.627768</td>\n",
       "      <td>0.673552</td>\n",
       "    </tr>\n",
       "  </tbody>\n",
       "</table>\n",
       "</div>"
      ],
      "text/plain": [
       "   Avg. Session Length  Time on App  Time on Website  Length of Membership  \\\n",
       "0             0.751425     0.626620         0.929816              0.573101   \n",
       "1             0.362306     0.393016         0.550801              0.359869   \n",
       "2             0.524953     0.426378         0.524803              0.576396   \n",
       "3             0.722409     0.787050         0.460890              0.428434   \n",
       "4             0.574861     0.647702         0.594748              0.627768   \n",
       "\n",
       "   Yearly Amount Spent  \n",
       "0             0.651040  \n",
       "1             0.266355  \n",
       "2             0.453725  \n",
       "3             0.639055  \n",
       "4             0.673552  "
      ]
     },
     "execution_count": 23,
     "metadata": {},
     "output_type": "execute_result"
    }
   ],
   "source": [
    "customers_feat.head()"
   ]
  },
  {
   "cell_type": "markdown",
   "id": "9c3736f1",
   "metadata": {},
   "source": [
    "# Training the Model"
   ]
  },
  {
   "cell_type": "code",
   "execution_count": 24,
   "id": "ca103490",
   "metadata": {
    "ExecuteTime": {
     "end_time": "2022-02-19T21:28:06.946088Z",
     "start_time": "2022-02-19T21:28:03.705796Z"
    }
   },
   "outputs": [],
   "source": [
    "from sklearn.cluster import KMeans"
   ]
  },
  {
   "cell_type": "markdown",
   "id": "8cad9c45",
   "metadata": {},
   "source": [
    "## Clusters = 2"
   ]
  },
  {
   "cell_type": "code",
   "execution_count": 25,
   "id": "89ad5c2b",
   "metadata": {
    "ExecuteTime": {
     "end_time": "2022-02-19T21:28:08.066060Z",
     "start_time": "2022-02-19T21:28:08.046113Z"
    }
   },
   "outputs": [],
   "source": [
    "model = KMeans(n_clusters = 2)"
   ]
  },
  {
   "cell_type": "code",
   "execution_count": 26,
   "id": "1aaf7fbc",
   "metadata": {
    "ExecuteTime": {
     "end_time": "2022-02-19T21:28:08.905548Z",
     "start_time": "2022-02-19T21:28:08.536117Z"
    }
   },
   "outputs": [
    {
     "data": {
      "text/plain": [
       "KMeans(n_clusters=2)"
      ]
     },
     "execution_count": 26,
     "metadata": {},
     "output_type": "execute_result"
    }
   ],
   "source": [
    "model.fit(customers_feat)"
   ]
  },
  {
   "cell_type": "code",
   "execution_count": 27,
   "id": "8d0a21ff",
   "metadata": {
    "ExecuteTime": {
     "end_time": "2022-02-19T21:28:09.045916Z",
     "start_time": "2022-02-19T21:28:09.025528Z"
    }
   },
   "outputs": [
    {
     "data": {
      "text/plain": [
       "array([[0.48554782, 0.49070505, 0.51249833, 0.39937115, 0.36372312],\n",
       "       [0.58708718, 0.58681399, 0.52123497, 0.59504527, 0.6064819 ]])"
      ]
     },
     "execution_count": 27,
     "metadata": {},
     "output_type": "execute_result"
    }
   ],
   "source": [
    "model.cluster_centers_"
   ]
  },
  {
   "cell_type": "code",
   "execution_count": 28,
   "id": "a4b84c8e",
   "metadata": {
    "ExecuteTime": {
     "end_time": "2022-02-19T21:28:09.845760Z",
     "start_time": "2022-02-19T21:28:09.825724Z"
    }
   },
   "outputs": [
    {
     "data": {
      "text/plain": [
       "array([1, 0, 0, 1, 1, 1, 1, 1, 1, 0, 0, 1, 0, 1, 0, 0, 0, 0, 0, 1, 1, 0,\n",
       "       0, 1, 1, 0, 1, 0, 1, 1, 0, 0, 1, 0, 1, 1, 0, 0, 0, 1, 1, 1, 1, 1,\n",
       "       0, 1, 1, 1, 0, 0, 1, 0, 0, 0, 1, 0, 1, 0, 0, 1, 1, 1, 1, 0, 1, 1,\n",
       "       1, 0, 0, 0, 0, 1, 0, 1, 1, 0, 0, 1, 0, 0, 0, 0, 1, 0, 1, 1, 0, 0,\n",
       "       1, 1, 0, 1, 1, 0, 1, 1, 1, 1, 1, 0, 1, 0, 0, 0, 0, 0, 0, 0, 1, 1,\n",
       "       0, 0, 0, 0, 1, 0, 0, 1, 1, 1, 1, 1, 1, 0, 1, 1, 1, 0, 1, 0, 1, 1,\n",
       "       0, 1, 0, 0, 1, 0, 0, 0, 0, 0, 0, 0, 0, 1, 0, 0, 0, 0, 0, 1, 1, 1,\n",
       "       1, 0, 1, 1, 1, 1, 0, 0, 1, 0, 1, 1, 0, 1, 1, 1, 0, 0, 1, 0, 0, 0,\n",
       "       1, 1, 1, 0, 1, 1, 0, 0, 1, 0, 0, 1, 1, 0, 1, 0, 1, 1, 0, 0, 0, 1,\n",
       "       1, 0, 0, 1, 0, 0, 1, 1, 0, 1, 0, 0, 0, 1, 1, 1, 0, 1, 0, 1, 0, 0,\n",
       "       1, 1, 1, 1, 1, 0, 1, 0, 0, 0, 1, 1, 1, 0, 0, 0, 0, 0, 0, 1, 0, 1,\n",
       "       0, 0, 1, 0, 1, 1, 0, 1, 1, 0, 0, 0, 0, 1, 1, 1, 1, 0, 1, 1, 0, 0,\n",
       "       1, 1, 1, 0, 0, 1, 1, 1, 1, 1, 0, 1, 0, 1, 1, 0, 0, 1, 0, 0, 0, 0,\n",
       "       1, 0, 0, 0, 0, 0, 1, 0, 1, 0, 1, 1, 1, 0, 0, 0, 1, 0, 0, 1, 0, 0,\n",
       "       1, 0, 0, 1, 0, 1, 1, 1, 0, 0, 1, 1, 0, 1, 0, 0, 1, 0, 1, 1, 0, 0,\n",
       "       0, 1, 0, 0, 0, 0, 0, 0, 0, 0, 0, 1, 0, 1, 0, 0, 0, 1, 0, 0, 1, 1,\n",
       "       1, 1, 0, 0, 1, 0, 0, 1, 0, 0, 0, 1, 0, 1, 0, 0, 1, 1, 1, 0, 0, 0,\n",
       "       0, 0, 0, 1, 0, 0, 1, 1, 0, 1, 0, 0, 1, 0, 0, 1, 1, 0, 1, 0, 1, 0,\n",
       "       1, 1, 1, 0, 1, 0, 1, 1, 0, 1, 0, 0, 0, 1, 1, 1, 0, 0, 1, 0, 1, 0,\n",
       "       0, 0, 1, 1, 1, 0, 0, 1, 1, 1, 1, 0, 1, 0, 0, 0, 0, 1, 1, 0, 0, 1,\n",
       "       0, 0, 0, 1, 0, 1, 1, 0, 0, 0, 0, 0, 1, 0, 0, 0, 0, 1, 1, 0, 1, 0,\n",
       "       0, 0, 1, 1, 1, 0, 1, 0, 0, 1, 0, 0, 0, 1, 0, 0, 0, 0, 1, 0, 0, 0,\n",
       "       0, 1, 1, 0, 1, 0, 1, 1, 0, 1, 1, 1, 1, 1, 0, 0])"
      ]
     },
     "execution_count": 28,
     "metadata": {},
     "output_type": "execute_result"
    }
   ],
   "source": [
    "model.labels_"
   ]
  },
  {
   "cell_type": "code",
   "execution_count": 29,
   "id": "6bc3a6d5",
   "metadata": {
    "ExecuteTime": {
     "end_time": "2022-02-19T21:28:10.426084Z",
     "start_time": "2022-02-19T21:28:10.415939Z"
    }
   },
   "outputs": [
    {
     "data": {
      "text/plain": [
       "45.095932298288936"
      ]
     },
     "execution_count": 29,
     "metadata": {},
     "output_type": "execute_result"
    }
   ],
   "source": [
    "model.inertia_"
   ]
  },
  {
   "cell_type": "markdown",
   "id": "6f491ef2",
   "metadata": {},
   "source": [
    "## Apply Elbow Method por Optimal Number of Clusters"
   ]
  },
  {
   "cell_type": "code",
   "execution_count": 30,
   "id": "571ca125",
   "metadata": {
    "ExecuteTime": {
     "end_time": "2022-02-19T21:28:13.365781Z",
     "start_time": "2022-02-19T21:28:12.565732Z"
    }
   },
   "outputs": [
    {
     "name": "stderr",
     "output_type": "stream",
     "text": [
      "C:\\Users\\breno\\anaconda3\\envs\\dsdegree\\lib\\site-packages\\sklearn\\cluster\\_kmeans.py:1039: UserWarning: KMeans is known to have a memory leak on Windows with MKL, when there are less chunks than available threads. You can avoid it by setting the environment variable OMP_NUM_THREADS=2.\n",
      "  warnings.warn(\n"
     ]
    }
   ],
   "source": [
    "inert = []\n",
    "for i in range(1, 11):\n",
    "    model = KMeans(n_clusters = i)\n",
    "    model.fit(customers_feat)\n",
    "    inert.append(model.inertia_)"
   ]
  },
  {
   "cell_type": "code",
   "execution_count": 31,
   "id": "3d77867f",
   "metadata": {
    "ExecuteTime": {
     "end_time": "2022-02-19T21:28:13.565512Z",
     "start_time": "2022-02-19T21:28:13.387381Z"
    }
   },
   "outputs": [
    {
     "data": {
      "image/png": "[encoded data removed]",
      "text/plain": [
       "<Figure size 1080x360 with 1 Axes>"
      ]
     },
     "metadata": {},
     "output_type": "display_data"
    }
   ],
   "source": [
    "plt.figure(figsize=(15,5))\n",
    "plt.plot(range(1, 11), inert)\n",
    "plt.title('Elbow Method')\n",
    "plt.xlabel('Number of clusters')\n",
    "plt.ylabel('Inertia')\n",
    "plt.show()"
   ]
  },
  {
   "cell_type": "code",
   "execution_count": 32,
   "id": "4cf5b7c5",
   "metadata": {
    "ExecuteTime": {
     "end_time": "2022-02-19T21:28:14.125643Z",
     "start_time": "2022-02-19T21:28:14.105573Z"
    }
   },
   "outputs": [
    {
     "data": {
      "text/plain": [
       "[59.63385727302952,\n",
       " 45.095932298288936,\n",
       " 39.0995584028509,\n",
       " 34.969251512456395,\n",
       " 31.66597497523736,\n",
       " 29.17029073563175,\n",
       " 27.161157148270533,\n",
       " 25.30444614436224,\n",
       " 23.789169050982437,\n",
       " 22.572786857447998]"
      ]
     },
     "execution_count": 32,
     "metadata": {},
     "output_type": "execute_result"
    }
   ],
   "source": [
    "inert"
   ]
  },
  {
   "cell_type": "markdown",
   "id": "a78e0089",
   "metadata": {},
   "source": [
    "## Visualizing the Clusters"
   ]
  },
  {
   "cell_type": "code",
   "execution_count": 33,
   "id": "32f22a1c",
   "metadata": {
    "ExecuteTime": {
     "end_time": "2022-02-19T21:28:16.035719Z",
     "start_time": "2022-02-19T21:28:16.015799Z"
    }
   },
   "outputs": [],
   "source": [
    "model = KMeans(n_clusters = 2)"
   ]
  },
  {
   "cell_type": "code",
   "execution_count": 34,
   "id": "d62d80d2",
   "metadata": {
    "ExecuteTime": {
     "end_time": "2022-02-19T21:28:17.010674Z",
     "start_time": "2022-02-19T21:28:16.905855Z"
    }
   },
   "outputs": [],
   "source": [
    "customers_feat['Cluster'] = model.fit_predict(customers_feat)\n",
    "customers_feat['Cluster'] = customers_feat['Cluster'].astype('category')"
   ]
  },
  {
   "cell_type": "code",
   "execution_count": 35,
   "id": "3707f4bd",
   "metadata": {
    "ExecuteTime": {
     "end_time": "2022-02-19T21:28:17.806026Z",
     "start_time": "2022-02-19T21:28:17.786142Z"
    }
   },
   "outputs": [
    {
     "data": {
      "text/html": [
       "<div>\n",
       "<style scoped>\n",
       "    .dataframe tbody tr th:only-of-type {\n",
       "        vertical-align: middle;\n",
       "    }\n",
       "\n",
       "    .dataframe tbody tr th {\n",
       "        vertical-align: top;\n",
       "    }\n",
       "\n",
       "    .dataframe thead th {\n",
       "        text-align: right;\n",
       "    }\n",
       "</style>\n",
       "<table border=\"1\" class=\"dataframe\">\n",
       "  <thead>\n",
       "    <tr style=\"text-align: right;\">\n",
       "      <th></th>\n",
       "      <th>Avg. Session Length</th>\n",
       "      <th>Time on App</th>\n",
       "      <th>Time on Website</th>\n",
       "      <th>Length of Membership</th>\n",
       "      <th>Yearly Amount Spent</th>\n",
       "      <th>Cluster</th>\n",
       "    </tr>\n",
       "  </thead>\n",
       "  <tbody>\n",
       "    <tr>\n",
       "      <th>0</th>\n",
       "      <td>0.751425</td>\n",
       "      <td>0.626620</td>\n",
       "      <td>0.929816</td>\n",
       "      <td>0.573101</td>\n",
       "      <td>0.651040</td>\n",
       "      <td>0</td>\n",
       "    </tr>\n",
       "    <tr>\n",
       "      <th>1</th>\n",
       "      <td>0.362306</td>\n",
       "      <td>0.393016</td>\n",
       "      <td>0.550801</td>\n",
       "      <td>0.359869</td>\n",
       "      <td>0.266355</td>\n",
       "      <td>1</td>\n",
       "    </tr>\n",
       "    <tr>\n",
       "      <th>2</th>\n",
       "      <td>0.524953</td>\n",
       "      <td>0.426378</td>\n",
       "      <td>0.524803</td>\n",
       "      <td>0.576396</td>\n",
       "      <td>0.453725</td>\n",
       "      <td>1</td>\n",
       "    </tr>\n",
       "    <tr>\n",
       "      <th>3</th>\n",
       "      <td>0.722409</td>\n",
       "      <td>0.787050</td>\n",
       "      <td>0.460890</td>\n",
       "      <td>0.428434</td>\n",
       "      <td>0.639055</td>\n",
       "      <td>0</td>\n",
       "    </tr>\n",
       "    <tr>\n",
       "      <th>4</th>\n",
       "      <td>0.574861</td>\n",
       "      <td>0.647702</td>\n",
       "      <td>0.594748</td>\n",
       "      <td>0.627768</td>\n",
       "      <td>0.673552</td>\n",
       "      <td>0</td>\n",
       "    </tr>\n",
       "  </tbody>\n",
       "</table>\n",
       "</div>"
      ],
      "text/plain": [
       "   Avg. Session Length  Time on App  Time on Website  Length of Membership  \\\n",
       "0             0.751425     0.626620         0.929816              0.573101   \n",
       "1             0.362306     0.393016         0.550801              0.359869   \n",
       "2             0.524953     0.426378         0.524803              0.576396   \n",
       "3             0.722409     0.787050         0.460890              0.428434   \n",
       "4             0.574861     0.647702         0.594748              0.627768   \n",
       "\n",
       "   Yearly Amount Spent Cluster  \n",
       "0             0.651040       0  \n",
       "1             0.266355       1  \n",
       "2             0.453725       1  \n",
       "3             0.639055       0  \n",
       "4             0.673552       0  "
      ]
     },
     "execution_count": 35,
     "metadata": {},
     "output_type": "execute_result"
    }
   ],
   "source": [
    "customers_feat.head()"
   ]
  },
  {
   "cell_type": "markdown",
   "id": "f790d683",
   "metadata": {},
   "source": [
    "## Clusters by Features"
   ]
  },
  {
   "cell_type": "code",
   "execution_count": 59,
   "id": "d76f6cbf",
   "metadata": {
    "ExecuteTime": {
     "end_time": "2022-02-21T18:35:53.940913Z",
     "start_time": "2022-02-21T18:35:53.330596Z"
    }
   },
   "outputs": [
    {
     "data": {
      "text/plain": [
       "<AxesSubplot:xlabel='Yearly Amount Spent', ylabel='Cluster'>"
      ]
     },
     "execution_count": 59,
     "metadata": {},
     "output_type": "execute_result"
    },
    {
     "data": {
      "image/png": "[encoded data removed]",
      "text/plain": [
       "<Figure size 1296x720 with 6 Axes>"
      ]
     },
     "metadata": {},
     "output_type": "display_data"
    }
   ],
   "source": [
    "fig, axes = plt.subplots(2,3, figsize = (18,10))\n",
    "\n",
    "fig.suptitle('Clusters by Features', fontsize = 20)\n",
    "\n",
    "sns.boxenplot(data = customers_feat,\n",
    "            x = 'Avg. Session Length',\n",
    "            y = 'Cluster',\n",
    "            ax = axes[0,0])\n",
    "\n",
    "sns.boxenplot(data = customers_feat,\n",
    "            x = 'Time on App',\n",
    "            y = 'Cluster',\n",
    "            ax = axes[0,1])\n",
    "\n",
    "sns.boxenplot(data = customers_feat,\n",
    "            x = 'Time on Website',\n",
    "            y = 'Cluster',\n",
    "            ax = axes[0,2])\n",
    "\n",
    "sns.boxenplot(data = customers_feat,\n",
    "            x = 'Length of Membership',\n",
    "            y = 'Cluster',\n",
    "            ax = axes[1,0])\n",
    "\n",
    "sns.boxenplot(data = customers_feat,\n",
    "            x = 'Yearly Amount Spent',\n",
    "            y = 'Cluster',\n",
    "            ax = axes[1,1])"
   ]
  },
  {
   "cell_type": "markdown",
   "id": "e576cdb6",
   "metadata": {},
   "source": [
    "## Yearly Amount Spent vs Cluster"
   ]
  },
  {
   "cell_type": "code",
   "execution_count": 42,
   "id": "06285e9d",
   "metadata": {
    "ExecuteTime": {
     "end_time": "2022-02-19T21:55:31.291068Z",
     "start_time": "2022-02-19T21:55:31.080930Z"
    }
   },
   "outputs": [
    {
     "data": {
      "text/plain": [
       "Text(0.5, 1.0, 'Yearly Amount Spent vs Cluster')"
      ]
     },
     "execution_count": 42,
     "metadata": {},
     "output_type": "execute_result"
    },
    {
     "data": {
      "image/png": "[encoded data removed]",
      "text/plain": [
       "<Figure size 360x360 with 1 Axes>"
      ]
     },
     "metadata": {},
     "output_type": "display_data"
    }
   ],
   "source": [
    "sns.catplot(data = customers_feat,\n",
    "            x = 'Yearly Amount Spent',\n",
    "            y = 'Cluster',\n",
    "            kind = 'boxen')\n",
    "plt.title('Yearly Amount Spent vs Cluster', fontsize = 20)"
   ]
  },
  {
   "cell_type": "markdown",
   "id": "77599423",
   "metadata": {},
   "source": [
    "## Time on App vs Cluster"
   ]
  },
  {
   "cell_type": "code",
   "execution_count": 45,
   "id": "6900e3f5",
   "metadata": {
    "ExecuteTime": {
     "end_time": "2022-02-19T21:57:28.412294Z",
     "start_time": "2022-02-19T21:57:28.202381Z"
    }
   },
   "outputs": [
    {
     "data": {
      "text/plain": [
       "Text(0.5, 1.0, 'Time on App vs Cluster')"
      ]
     },
     "execution_count": 45,
     "metadata": {},
     "output_type": "execute_result"
    },
    {
     "data": {
      "image/png": "[encoded data removed]",
      "text/plain": [
       "<Figure size 360x360 with 1 Axes>"
      ]
     },
     "metadata": {},
     "output_type": "display_data"
    }
   ],
   "source": [
    "sns.catplot(data = customers_feat,\n",
    "            x = 'Time on App',\n",
    "            y = 'Cluster',\n",
    "            kind = 'boxen')\n",
    "plt.title('Time on App vs Cluster', fontsize = 20)"
   ]
  },
  {
   "cell_type": "markdown",
   "id": "e70e096c",
   "metadata": {},
   "source": [
    "## Time on Website vs Cluster"
   ]
  },
  {
   "cell_type": "code",
   "execution_count": 54,
   "id": "d42ac24d",
   "metadata": {
    "ExecuteTime": {
     "end_time": "2022-02-21T18:31:40.738709Z",
     "start_time": "2022-02-21T18:31:40.598257Z"
    }
   },
   "outputs": [
    {
     "data": {
      "text/plain": [
       "Text(0.5, 1.0, 'Time on Website vs Cluster')"
      ]
     },
     "execution_count": 54,
     "metadata": {},
     "output_type": "execute_result"
    },
    {
     "data": {
      "image/png": "[encoded data removed]",
      "text/plain": [
       "<Figure size 432x288 with 1 Axes>"
      ]
     },
     "metadata": {},
     "output_type": "display_data"
    }
   ],
   "source": [
    "sns.boxenplot(data = customers_feat,\n",
    "            x = 'Time on Website',\n",
    "            y = 'Cluster'\n",
    "             )\n",
    "plt.title('Time on Website vs Cluster', fontsize = 20)"
   ]
  },
  {
   "cell_type": "markdown",
   "id": "23cd8b29",
   "metadata": {
    "ExecuteTime": {
     "end_time": "2022-02-21T18:20:24.612155Z",
     "start_time": "2022-02-21T18:20:24.592098Z"
    }
   },
   "source": [
    "## Conclusions 💯\n",
    "* The data __indicates__ that the company could develop different strategies for __customer targeting__ based on __Yearly Amount Spent__, such as:\n",
    " \n",
    " 1) Focus on customers who spend __less__:  \n",
    "    \n",
    "    1.1) __Free shipping__  \n",
    "    1.2) __Progressive discounts__  \n",
    "    1.3) __Increase payment options__  \n",
    " \n",
    " 2) Focus on customers who spend __more__:\n",
    " \n",
    "    2.1) __Offer similar products through email marketing__  \n",
    "    2.2) __Offer in-cart complementary products__ (E.g: customer adds a shirt, receives recommendation for a pair of pants)  \n",
    "    2.3) __Develop Loyalty Program to maintain/increase high value customers' engagement__"
   ]
  }
 ],
 "metadata": {
  "kernelspec": {
   "display_name": "Python 3 (ipykernel)",
   "language": "python",
   "name": "python3"
  },
  "language_info": {
   "codemirror_mode": {
    "name": "ipython",
    "version": 3
   },
   "file_extension": ".py",
   "mimetype": "text/x-python",
   "name": "python",
   "nbconvert_exporter": "python",
   "pygments_lexer": "ipython3",
   "version": "3.9.5"
  },
  "varInspector": {
   "cols": {
    "lenName": 16,
    "lenType": 16,
    "lenVar": 40
   },
   "kernels_config": {
    "python": {
     "delete_cmd_postfix": "",
     "delete_cmd_prefix": "del ",
     "library": "var_list.py",
     "varRefreshCmd": "print(var_dic_list())"
    },
    "r": {
     "delete_cmd_postfix": ") ",
     "delete_cmd_prefix": "rm(",
     "library": "var_list.r",
     "varRefreshCmd": "cat(var_dic_list()) "
    }
   },
   "position": {
    "height": "145.083px",
    "left": "1155.37px",
    "right": "20px",
    "top": "119px",
    "width": "350px"
   },
   "types_to_exclude": [
    "module",
    "function",
    "builtin_function_or_method",
    "instance",
    "_Feature"
   ],
   "window_display": false
  }
 },
 "nbformat": 4,
 "nbformat_minor": 5
}
