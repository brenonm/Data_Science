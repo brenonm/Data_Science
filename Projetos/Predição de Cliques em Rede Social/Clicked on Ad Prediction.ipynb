{
 "cells": [
  {
   "cell_type": "markdown",
   "id": "4728bfb7",
   "metadata": {},
   "source": [
    "# To Click or Not to Click - An Advertisement Click Rate Prediction\n",
    "\n",
    "In this project we will be working with a data set indicating whether or not a particular internet user clicked on an Advertisement. We will try to create a model that will predict whether or not they will click on an ad based off the features of that user.\n",
    "\n",
    "This data set contains the following features:\n",
    "\n",
    "* __Daily Time Spent on Site__: consumer time on site in minutes\n",
    "* __Age__: cutomer age in years\n",
    "* __Area Income__: Avg. Income of geographical area of consumer\n",
    "* __Daily Internet Usage__: Avg. minutes a day consumer is on the internet\n",
    "* __Ad Topic Line__: Headline of the advertisement\n",
    "* __City__: City of consumer\n",
    "* __Male__: Whether or not consumer was male\n",
    "* __Country__: Country of consumer\n",
    "* __Timestamp__: Time at which consumer clicked on Ad or closed window\n",
    "* __Clicked on Ad__: 0 or 1 indicated clicking on Ad\n"
   ]
  },
  {
   "cell_type": "markdown",
   "id": "6eaf61f7",
   "metadata": {},
   "source": [
    "# Imports"
   ]
  },
  {
   "cell_type": "code",
   "execution_count": 1,
   "id": "c7a32dbf",
   "metadata": {
    "ExecuteTime": {
     "end_time": "2022-02-21T18:50:00.378523Z",
     "start_time": "2022-02-21T18:49:45.403532Z"
    }
   },
   "outputs": [],
   "source": [
    "import pandas as pd\n",
    "import numpy as np\n",
    "import matplotlib.pyplot as plt\n",
    "import seaborn as sns"
   ]
  },
  {
   "cell_type": "code",
   "execution_count": 2,
   "id": "1d6beed1",
   "metadata": {
    "ExecuteTime": {
     "end_time": "2022-02-21T18:50:02.018686Z",
     "start_time": "2022-02-21T18:50:01.999197Z"
    }
   },
   "outputs": [],
   "source": [
    "%matplotlib inline"
   ]
  },
  {
   "cell_type": "code",
   "execution_count": 3,
   "id": "a813d6c2",
   "metadata": {
    "ExecuteTime": {
     "end_time": "2022-02-21T18:50:03.118670Z",
     "start_time": "2022-02-21T18:50:03.098794Z"
    }
   },
   "outputs": [],
   "source": [
    "sns.set_style('whitegrid')"
   ]
  },
  {
   "cell_type": "markdown",
   "id": "0ab8e312",
   "metadata": {},
   "source": [
    "# Get the Data"
   ]
  },
  {
   "cell_type": "code",
   "execution_count": 4,
   "id": "e8282d0a",
   "metadata": {
    "ExecuteTime": {
     "end_time": "2022-02-21T18:50:08.836029Z",
     "start_time": "2022-02-21T18:50:08.768784Z"
    }
   },
   "outputs": [],
   "source": [
    "adv = pd.read_csv('advertising.csv')"
   ]
  },
  {
   "cell_type": "code",
   "execution_count": 5,
   "id": "32280f6a",
   "metadata": {
    "ExecuteTime": {
     "end_time": "2022-02-21T18:50:09.698481Z",
     "start_time": "2022-02-21T18:50:09.558455Z"
    }
   },
   "outputs": [
    {
     "data": {
      "text/html": [
       "<div>\n",
       "<style scoped>\n",
       "    .dataframe tbody tr th:only-of-type {\n",
       "        vertical-align: middle;\n",
       "    }\n",
       "\n",
       "    .dataframe tbody tr th {\n",
       "        vertical-align: top;\n",
       "    }\n",
       "\n",
       "    .dataframe thead th {\n",
       "        text-align: right;\n",
       "    }\n",
       "</style>\n",
       "<table border=\"1\" class=\"dataframe\">\n",
       "  <thead>\n",
       "    <tr style=\"text-align: right;\">\n",
       "      <th></th>\n",
       "      <th>Daily Time Spent on Site</th>\n",
       "      <th>Age</th>\n",
       "      <th>Area Income</th>\n",
       "      <th>Daily Internet Usage</th>\n",
       "      <th>Ad Topic Line</th>\n",
       "      <th>City</th>\n",
       "      <th>Male</th>\n",
       "      <th>Country</th>\n",
       "      <th>Timestamp</th>\n",
       "      <th>Clicked on Ad</th>\n",
       "    </tr>\n",
       "  </thead>\n",
       "  <tbody>\n",
       "    <tr>\n",
       "      <th>0</th>\n",
       "      <td>68.95</td>\n",
       "      <td>35</td>\n",
       "      <td>61833.90</td>\n",
       "      <td>256.09</td>\n",
       "      <td>Cloned 5thgeneration orchestration</td>\n",
       "      <td>Wrightburgh</td>\n",
       "      <td>0</td>\n",
       "      <td>Tunisia</td>\n",
       "      <td>2016-03-27 00:53:11</td>\n",
       "      <td>0</td>\n",
       "    </tr>\n",
       "    <tr>\n",
       "      <th>1</th>\n",
       "      <td>80.23</td>\n",
       "      <td>31</td>\n",
       "      <td>68441.85</td>\n",
       "      <td>193.77</td>\n",
       "      <td>Monitored national standardization</td>\n",
       "      <td>West Jodi</td>\n",
       "      <td>1</td>\n",
       "      <td>Nauru</td>\n",
       "      <td>2016-04-04 01:39:02</td>\n",
       "      <td>0</td>\n",
       "    </tr>\n",
       "    <tr>\n",
       "      <th>2</th>\n",
       "      <td>69.47</td>\n",
       "      <td>26</td>\n",
       "      <td>59785.94</td>\n",
       "      <td>236.50</td>\n",
       "      <td>Organic bottom-line service-desk</td>\n",
       "      <td>Davidton</td>\n",
       "      <td>0</td>\n",
       "      <td>San Marino</td>\n",
       "      <td>2016-03-13 20:35:42</td>\n",
       "      <td>0</td>\n",
       "    </tr>\n",
       "    <tr>\n",
       "      <th>3</th>\n",
       "      <td>74.15</td>\n",
       "      <td>29</td>\n",
       "      <td>54806.18</td>\n",
       "      <td>245.89</td>\n",
       "      <td>Triple-buffered reciprocal time-frame</td>\n",
       "      <td>West Terrifurt</td>\n",
       "      <td>1</td>\n",
       "      <td>Italy</td>\n",
       "      <td>2016-01-10 02:31:19</td>\n",
       "      <td>0</td>\n",
       "    </tr>\n",
       "    <tr>\n",
       "      <th>4</th>\n",
       "      <td>68.37</td>\n",
       "      <td>35</td>\n",
       "      <td>73889.99</td>\n",
       "      <td>225.58</td>\n",
       "      <td>Robust logistical utilization</td>\n",
       "      <td>South Manuel</td>\n",
       "      <td>0</td>\n",
       "      <td>Iceland</td>\n",
       "      <td>2016-06-03 03:36:18</td>\n",
       "      <td>0</td>\n",
       "    </tr>\n",
       "  </tbody>\n",
       "</table>\n",
       "</div>"
      ],
      "text/plain": [
       "   Daily Time Spent on Site  Age  Area Income  Daily Internet Usage  \\\n",
       "0                     68.95   35     61833.90                256.09   \n",
       "1                     80.23   31     68441.85                193.77   \n",
       "2                     69.47   26     59785.94                236.50   \n",
       "3                     74.15   29     54806.18                245.89   \n",
       "4                     68.37   35     73889.99                225.58   \n",
       "\n",
       "                           Ad Topic Line            City  Male     Country  \\\n",
       "0     Cloned 5thgeneration orchestration     Wrightburgh     0     Tunisia   \n",
       "1     Monitored national standardization       West Jodi     1       Nauru   \n",
       "2       Organic bottom-line service-desk        Davidton     0  San Marino   \n",
       "3  Triple-buffered reciprocal time-frame  West Terrifurt     1       Italy   \n",
       "4          Robust logistical utilization    South Manuel     0     Iceland   \n",
       "\n",
       "             Timestamp  Clicked on Ad  \n",
       "0  2016-03-27 00:53:11              0  \n",
       "1  2016-04-04 01:39:02              0  \n",
       "2  2016-03-13 20:35:42              0  \n",
       "3  2016-01-10 02:31:19              0  \n",
       "4  2016-06-03 03:36:18              0  "
      ]
     },
     "execution_count": 5,
     "metadata": {},
     "output_type": "execute_result"
    }
   ],
   "source": [
    "adv.head()"
   ]
  },
  {
   "cell_type": "markdown",
   "id": "73b2bbd3",
   "metadata": {},
   "source": [
    "# Variable Content"
   ]
  },
  {
   "cell_type": "code",
   "execution_count": 6,
   "id": "ebb6120c",
   "metadata": {
    "ExecuteTime": {
     "end_time": "2022-02-21T18:50:12.099014Z",
     "start_time": "2022-02-21T18:50:12.078975Z"
    }
   },
   "outputs": [
    {
     "name": "stdout",
     "output_type": "stream",
     "text": [
      "<class 'pandas.core.frame.DataFrame'>\n",
      "RangeIndex: 1000 entries, 0 to 999\n",
      "Data columns (total 10 columns):\n",
      " #   Column                    Non-Null Count  Dtype  \n",
      "---  ------                    --------------  -----  \n",
      " 0   Daily Time Spent on Site  1000 non-null   float64\n",
      " 1   Age                       1000 non-null   int64  \n",
      " 2   Area Income               1000 non-null   float64\n",
      " 3   Daily Internet Usage      1000 non-null   float64\n",
      " 4   Ad Topic Line             1000 non-null   object \n",
      " 5   City                      1000 non-null   object \n",
      " 6   Male                      1000 non-null   int64  \n",
      " 7   Country                   1000 non-null   object \n",
      " 8   Timestamp                 1000 non-null   object \n",
      " 9   Clicked on Ad             1000 non-null   int64  \n",
      "dtypes: float64(3), int64(3), object(4)\n",
      "memory usage: 78.2+ KB\n"
     ]
    }
   ],
   "source": [
    "adv.info()"
   ]
  },
  {
   "cell_type": "markdown",
   "id": "2e7d1152",
   "metadata": {},
   "source": [
    "* 1) Daily Time Spent on Site --> numerical\n",
    "* 2) Age --> numerical\n",
    "* 3) Area Income --> numerical\n",
    "* 4) Daily Internet Usage --> numerical\n",
    "* 5) Male --> numerical\n",
    "* 6) Clicked on Ad --> numerical\n",
    "--------------------------------------\n",
    "* 7) Ad Topic Line --> object\n",
    "* 8) City --> object\n",
    "* 9) Country --> object\n",
    "* 10) Timestamp --> object"
   ]
  },
  {
   "cell_type": "code",
   "execution_count": 7,
   "id": "cf0af3a9",
   "metadata": {
    "ExecuteTime": {
     "end_time": "2022-02-21T18:50:16.739136Z",
     "start_time": "2022-02-21T18:50:16.689082Z"
    }
   },
   "outputs": [
    {
     "data": {
      "text/html": [
       "<div>\n",
       "<style scoped>\n",
       "    .dataframe tbody tr th:only-of-type {\n",
       "        vertical-align: middle;\n",
       "    }\n",
       "\n",
       "    .dataframe tbody tr th {\n",
       "        vertical-align: top;\n",
       "    }\n",
       "\n",
       "    .dataframe thead th {\n",
       "        text-align: right;\n",
       "    }\n",
       "</style>\n",
       "<table border=\"1\" class=\"dataframe\">\n",
       "  <thead>\n",
       "    <tr style=\"text-align: right;\">\n",
       "      <th></th>\n",
       "      <th>Daily Time Spent on Site</th>\n",
       "      <th>Age</th>\n",
       "      <th>Area Income</th>\n",
       "      <th>Daily Internet Usage</th>\n",
       "      <th>Male</th>\n",
       "      <th>Clicked on Ad</th>\n",
       "    </tr>\n",
       "  </thead>\n",
       "  <tbody>\n",
       "    <tr>\n",
       "      <th>count</th>\n",
       "      <td>1000.000000</td>\n",
       "      <td>1000.000000</td>\n",
       "      <td>1000.000000</td>\n",
       "      <td>1000.000000</td>\n",
       "      <td>1000.000000</td>\n",
       "      <td>1000.00000</td>\n",
       "    </tr>\n",
       "    <tr>\n",
       "      <th>mean</th>\n",
       "      <td>65.000200</td>\n",
       "      <td>36.009000</td>\n",
       "      <td>55000.000080</td>\n",
       "      <td>180.000100</td>\n",
       "      <td>0.481000</td>\n",
       "      <td>0.50000</td>\n",
       "    </tr>\n",
       "    <tr>\n",
       "      <th>std</th>\n",
       "      <td>15.853615</td>\n",
       "      <td>8.785562</td>\n",
       "      <td>13414.634022</td>\n",
       "      <td>43.902339</td>\n",
       "      <td>0.499889</td>\n",
       "      <td>0.50025</td>\n",
       "    </tr>\n",
       "    <tr>\n",
       "      <th>min</th>\n",
       "      <td>32.600000</td>\n",
       "      <td>19.000000</td>\n",
       "      <td>13996.500000</td>\n",
       "      <td>104.780000</td>\n",
       "      <td>0.000000</td>\n",
       "      <td>0.00000</td>\n",
       "    </tr>\n",
       "    <tr>\n",
       "      <th>25%</th>\n",
       "      <td>51.360000</td>\n",
       "      <td>29.000000</td>\n",
       "      <td>47031.802500</td>\n",
       "      <td>138.830000</td>\n",
       "      <td>0.000000</td>\n",
       "      <td>0.00000</td>\n",
       "    </tr>\n",
       "    <tr>\n",
       "      <th>50%</th>\n",
       "      <td>68.215000</td>\n",
       "      <td>35.000000</td>\n",
       "      <td>57012.300000</td>\n",
       "      <td>183.130000</td>\n",
       "      <td>0.000000</td>\n",
       "      <td>0.50000</td>\n",
       "    </tr>\n",
       "    <tr>\n",
       "      <th>75%</th>\n",
       "      <td>78.547500</td>\n",
       "      <td>42.000000</td>\n",
       "      <td>65470.635000</td>\n",
       "      <td>218.792500</td>\n",
       "      <td>1.000000</td>\n",
       "      <td>1.00000</td>\n",
       "    </tr>\n",
       "    <tr>\n",
       "      <th>max</th>\n",
       "      <td>91.430000</td>\n",
       "      <td>61.000000</td>\n",
       "      <td>79484.800000</td>\n",
       "      <td>269.960000</td>\n",
       "      <td>1.000000</td>\n",
       "      <td>1.00000</td>\n",
       "    </tr>\n",
       "  </tbody>\n",
       "</table>\n",
       "</div>"
      ],
      "text/plain": [
       "       Daily Time Spent on Site          Age   Area Income  \\\n",
       "count               1000.000000  1000.000000   1000.000000   \n",
       "mean                  65.000200    36.009000  55000.000080   \n",
       "std                   15.853615     8.785562  13414.634022   \n",
       "min                   32.600000    19.000000  13996.500000   \n",
       "25%                   51.360000    29.000000  47031.802500   \n",
       "50%                   68.215000    35.000000  57012.300000   \n",
       "75%                   78.547500    42.000000  65470.635000   \n",
       "max                   91.430000    61.000000  79484.800000   \n",
       "\n",
       "       Daily Internet Usage         Male  Clicked on Ad  \n",
       "count           1000.000000  1000.000000     1000.00000  \n",
       "mean             180.000100     0.481000        0.50000  \n",
       "std               43.902339     0.499889        0.50025  \n",
       "min              104.780000     0.000000        0.00000  \n",
       "25%              138.830000     0.000000        0.00000  \n",
       "50%              183.130000     0.000000        0.50000  \n",
       "75%              218.792500     1.000000        1.00000  \n",
       "max              269.960000     1.000000        1.00000  "
      ]
     },
     "execution_count": 7,
     "metadata": {},
     "output_type": "execute_result"
    }
   ],
   "source": [
    "# numeric variables overview\n",
    "adv.describe()"
   ]
  },
  {
   "cell_type": "markdown",
   "id": "c8c59804",
   "metadata": {},
   "source": [
    "# Check for Missing or Duplicated Data"
   ]
  },
  {
   "cell_type": "code",
   "execution_count": 8,
   "id": "5e466125",
   "metadata": {
    "ExecuteTime": {
     "end_time": "2022-02-21T18:50:24.829131Z",
     "start_time": "2022-02-21T18:50:24.199359Z"
    }
   },
   "outputs": [
    {
     "data": {
      "text/plain": [
       "<AxesSubplot:>"
      ]
     },
     "execution_count": 8,
     "metadata": {},
     "output_type": "execute_result"
    },
    {
     "data": {
      "image/png": "[encoded data removed]",
      "text/plain": [
       "<Figure size 432x288 with 1 Axes>"
      ]
     },
     "metadata": {},
     "output_type": "display_data"
    }
   ],
   "source": [
    "sns.heatmap(data = adv.isnull(), yticklabels = False, cbar = False, cmap = 'viridis')"
   ]
  },
  {
   "cell_type": "markdown",
   "id": "72c324fe",
   "metadata": {},
   "source": [
    "* No missing data"
   ]
  },
  {
   "cell_type": "code",
   "execution_count": 11,
   "id": "e7cbe66b",
   "metadata": {
    "ExecuteTime": {
     "end_time": "2022-02-21T18:51:17.439552Z",
     "start_time": "2022-02-21T18:51:17.419376Z"
    }
   },
   "outputs": [
    {
     "data": {
      "text/plain": [
       "False    1000\n",
       "dtype: int64"
      ]
     },
     "execution_count": 11,
     "metadata": {},
     "output_type": "execute_result"
    }
   ],
   "source": [
    "adv.duplicated().value_counts()"
   ]
  },
  {
   "cell_type": "markdown",
   "id": "9bc89d42",
   "metadata": {},
   "source": [
    "* No duplicated data"
   ]
  },
  {
   "cell_type": "markdown",
   "id": "3e7bd43d",
   "metadata": {},
   "source": [
    "# Exploratory Data Analysis - EDA"
   ]
  },
  {
   "cell_type": "markdown",
   "id": "dcfe846f",
   "metadata": {},
   "source": [
    "## Numerical Variables"
   ]
  },
  {
   "cell_type": "markdown",
   "id": "0200bfd9",
   "metadata": {},
   "source": [
    "### Daily Time Spent on Site vs Clicked on Ad"
   ]
  },
  {
   "cell_type": "code",
   "execution_count": 12,
   "id": "9a1c173d",
   "metadata": {
    "ExecuteTime": {
     "end_time": "2022-02-21T18:52:10.500227Z",
     "start_time": "2022-02-21T18:52:10.060105Z"
    }
   },
   "outputs": [
    {
     "data": {
      "text/plain": [
       "<AxesSubplot:xlabel='Daily Time Spent on Site', ylabel='Count'>"
      ]
     },
     "execution_count": 12,
     "metadata": {},
     "output_type": "execute_result"
    },
    {
     "data": {
      "image/png": "[encoded data removed]",
      "text/plain": [
       "<Figure size 1080x360 with 1 Axes>"
      ]
     },
     "metadata": {},
     "output_type": "display_data"
    }
   ],
   "source": [
    "plt.figure(figsize=(15,5))\n",
    "sns.histplot(data = adv, x = 'Daily Time Spent on Site', hue = 'Clicked on Ad')"
   ]
  },
  {
   "cell_type": "markdown",
   "id": "552d45fc",
   "metadata": {},
   "source": [
    "* Data indicates strong inverse relationship between Daily Time Spent on Site and Clicked on Ad"
   ]
  },
  {
   "cell_type": "markdown",
   "id": "5dd0f237",
   "metadata": {},
   "source": [
    "### Age vs Clicked on Ad"
   ]
  },
  {
   "cell_type": "code",
   "execution_count": 13,
   "id": "518f90fd",
   "metadata": {
    "ExecuteTime": {
     "end_time": "2022-02-21T18:52:12.089508Z",
     "start_time": "2022-02-21T18:52:11.829840Z"
    }
   },
   "outputs": [
    {
     "data": {
      "text/plain": [
       "<AxesSubplot:xlabel='Age', ylabel='Count'>"
      ]
     },
     "execution_count": 13,
     "metadata": {},
     "output_type": "execute_result"
    },
    {
     "data": {
      "image/png": "[encoded data removed]",
      "text/plain": [
       "<Figure size 1080x360 with 1 Axes>"
      ]
     },
     "metadata": {},
     "output_type": "display_data"
    }
   ],
   "source": [
    "plt.figure(figsize=(15,5))\n",
    "sns.histplot(data = adv, x = 'Age', hue = 'Clicked on Ad')"
   ]
  },
  {
   "cell_type": "markdown",
   "id": "a6217889",
   "metadata": {},
   "source": [
    "* Data indicates some relationship between Age and Clicked on Ad"
   ]
  },
  {
   "cell_type": "markdown",
   "id": "258e90f0",
   "metadata": {},
   "source": [
    "### Area Income vs Clicked on Ad"
   ]
  },
  {
   "cell_type": "code",
   "execution_count": 14,
   "id": "dedf5b7e",
   "metadata": {
    "ExecuteTime": {
     "end_time": "2022-02-21T18:52:13.529739Z",
     "start_time": "2022-02-21T18:52:13.290105Z"
    }
   },
   "outputs": [
    {
     "data": {
      "text/plain": [
       "<AxesSubplot:xlabel='Area Income', ylabel='Count'>"
      ]
     },
     "execution_count": 14,
     "metadata": {},
     "output_type": "execute_result"
    },
    {
     "data": {
      "image/png": "[encoded data removed]",
      "text/plain": [
       "<Figure size 1080x360 with 1 Axes>"
      ]
     },
     "metadata": {},
     "output_type": "display_data"
    }
   ],
   "source": [
    "plt.figure(figsize=(15,5))\n",
    "sns.histplot(data = adv, x = 'Area Income', hue = 'Clicked on Ad')"
   ]
  },
  {
   "cell_type": "markdown",
   "id": "565ae50e",
   "metadata": {},
   "source": [
    "* Data indicates some relationship between Area Income and Clicked on Ad"
   ]
  },
  {
   "cell_type": "markdown",
   "id": "ef10fda8",
   "metadata": {},
   "source": [
    "### Daily Internet Usage vs Clicked on Ad"
   ]
  },
  {
   "cell_type": "code",
   "execution_count": 15,
   "id": "3f36077e",
   "metadata": {
    "ExecuteTime": {
     "end_time": "2022-02-21T18:52:14.830104Z",
     "start_time": "2022-02-21T18:52:14.620390Z"
    }
   },
   "outputs": [
    {
     "data": {
      "text/plain": [
       "<AxesSubplot:xlabel='Daily Internet Usage', ylabel='Count'>"
      ]
     },
     "execution_count": 15,
     "metadata": {},
     "output_type": "execute_result"
    },
    {
     "data": {
      "image/png": "[encoded data removed]",
      "text/plain": [
       "<Figure size 1080x360 with 1 Axes>"
      ]
     },
     "metadata": {},
     "output_type": "display_data"
    }
   ],
   "source": [
    "plt.figure(figsize=(15,5))\n",
    "sns.histplot(data = adv, x = 'Daily Internet Usage', hue = 'Clicked on Ad')"
   ]
  },
  {
   "cell_type": "markdown",
   "id": "b4ea205d",
   "metadata": {},
   "source": [
    "* Data indicates strong inverse relationship between Daily Internet Usage and Clicked on Ad"
   ]
  },
  {
   "cell_type": "markdown",
   "id": "4a64aff7",
   "metadata": {},
   "source": [
    "### Male vs Clicked on Ad"
   ]
  },
  {
   "cell_type": "code",
   "execution_count": 16,
   "id": "1e0ed4b3",
   "metadata": {
    "ExecuteTime": {
     "end_time": "2022-02-21T18:52:16.130258Z",
     "start_time": "2022-02-21T18:52:16.000112Z"
    }
   },
   "outputs": [
    {
     "data": {
      "text/plain": [
       "<AxesSubplot:xlabel='Male', ylabel='count'>"
      ]
     },
     "execution_count": 16,
     "metadata": {},
     "output_type": "execute_result"
    },
    {
     "data": {
      "image/png": "[encoded data removed]",
      "text/plain": [
       "<Figure size 1080x360 with 1 Axes>"
      ]
     },
     "metadata": {},
     "output_type": "display_data"
    }
   ],
   "source": [
    "plt.figure(figsize=(15,5))\n",
    "sns.countplot(data = adv, x = 'Male', hue = 'Clicked on Ad')"
   ]
  },
  {
   "cell_type": "markdown",
   "id": "89cb2547",
   "metadata": {},
   "source": [
    "* Data indicates low or no relationship between Male and Clicked on Ad"
   ]
  },
  {
   "cell_type": "markdown",
   "id": "3d5f2e28",
   "metadata": {},
   "source": [
    "## Categorical Variables"
   ]
  },
  {
   "cell_type": "markdown",
   "id": "8ff13445",
   "metadata": {},
   "source": [
    "### Ad Topic Line"
   ]
  },
  {
   "cell_type": "code",
   "execution_count": 17,
   "id": "69e3d636",
   "metadata": {
    "ExecuteTime": {
     "end_time": "2022-02-21T18:52:18.139907Z",
     "start_time": "2022-02-21T18:52:18.120198Z"
    }
   },
   "outputs": [
    {
     "data": {
      "text/plain": [
       "Cloned 5thgeneration orchestration              1\n",
       "Synchronized multi-tasking ability              1\n",
       "Customer-focused impactful success              1\n",
       "Open-source optimizing parallelism              1\n",
       "Organic logistical adapter                      1\n",
       "                                               ..\n",
       "Enhanced zero tolerance Graphic Interface       1\n",
       "De-engineered tertiary secured line             1\n",
       "Reverse-engineered well-modulated capability    1\n",
       "Integrated coherent pricing structure           1\n",
       "Virtual 5thgeneration emulation                 1\n",
       "Name: Ad Topic Line, Length: 1000, dtype: int64"
      ]
     },
     "execution_count": 17,
     "metadata": {},
     "output_type": "execute_result"
    }
   ],
   "source": [
    "adv['Ad Topic Line'].value_counts()"
   ]
  },
  {
   "cell_type": "markdown",
   "id": "7997154e",
   "metadata": {},
   "source": [
    "* The raw data presents no use for the model or apparent pattern for feature engineering"
   ]
  },
  {
   "cell_type": "markdown",
   "id": "7205c14b",
   "metadata": {},
   "source": [
    "### City"
   ]
  },
  {
   "cell_type": "code",
   "execution_count": 18,
   "id": "ad736f56",
   "metadata": {
    "ExecuteTime": {
     "end_time": "2022-02-21T18:52:19.750141Z",
     "start_time": "2022-02-21T18:52:19.740322Z"
    }
   },
   "outputs": [
    {
     "data": {
      "text/plain": [
       "Lisamouth         3\n",
       "Williamsport      3\n",
       "Wrightburgh       2\n",
       "Lake Jose         2\n",
       "Robertfurt        2\n",
       "                 ..\n",
       "Burgessside       1\n",
       "Hurleyborough     1\n",
       "Garychester       1\n",
       "East Kevinbury    1\n",
       "Ronniemouth       1\n",
       "Name: City, Length: 969, dtype: int64"
      ]
     },
     "execution_count": 18,
     "metadata": {},
     "output_type": "execute_result"
    }
   ],
   "source": [
    "adv['City'].value_counts()"
   ]
  },
  {
   "cell_type": "markdown",
   "id": "6eb2a262",
   "metadata": {},
   "source": [
    "* The raw data presents no use for the model or apparent pattern for feature engineering"
   ]
  },
  {
   "cell_type": "markdown",
   "id": "b17eb530",
   "metadata": {},
   "source": [
    "### Country"
   ]
  },
  {
   "cell_type": "code",
   "execution_count": 19,
   "id": "b6e7154e",
   "metadata": {
    "ExecuteTime": {
     "end_time": "2022-02-21T18:52:21.249912Z",
     "start_time": "2022-02-21T18:52:21.219950Z"
    }
   },
   "outputs": [
    {
     "data": {
      "text/plain": [
       "France                                                 9\n",
       "Czech Republic                                         9\n",
       "Peru                                                   8\n",
       "Turkey                                                 8\n",
       "Greece                                                 8\n",
       "                                                      ..\n",
       "Romania                                                1\n",
       "British Indian Ocean Territory (Chagos Archipelago)    1\n",
       "Germany                                                1\n",
       "Aruba                                                  1\n",
       "Lesotho                                                1\n",
       "Name: Country, Length: 237, dtype: int64"
      ]
     },
     "execution_count": 19,
     "metadata": {},
     "output_type": "execute_result"
    }
   ],
   "source": [
    "adv['Country'].value_counts()"
   ]
  },
  {
   "cell_type": "markdown",
   "id": "5acdb89f",
   "metadata": {},
   "source": [
    "* The raw data presents no use for the model\n",
    "* Feature engineering --> possible categories through continents segmentation"
   ]
  },
  {
   "cell_type": "markdown",
   "id": "57e289df",
   "metadata": {},
   "source": [
    "### Timestamp"
   ]
  },
  {
   "cell_type": "code",
   "execution_count": 20,
   "id": "8e8a50d9",
   "metadata": {
    "ExecuteTime": {
     "end_time": "2022-02-21T18:52:22.629951Z",
     "start_time": "2022-02-21T18:52:22.620396Z"
    }
   },
   "outputs": [
    {
     "data": {
      "text/plain": [
       "2016-03-27 00:53:11    1\n",
       "2016-01-07 23:02:43    1\n",
       "2016-04-05 08:18:45    1\n",
       "2016-04-17 18:38:14    1\n",
       "2016-02-03 16:54:33    1\n",
       "                      ..\n",
       "2016-03-13 13:50:25    1\n",
       "2016-07-16 14:13:54    1\n",
       "2016-04-18 00:49:33    1\n",
       "2016-07-17 01:13:56    1\n",
       "2016-06-03 21:43:21    1\n",
       "Name: Timestamp, Length: 1000, dtype: int64"
      ]
     },
     "execution_count": 20,
     "metadata": {},
     "output_type": "execute_result"
    }
   ],
   "source": [
    "adv['Timestamp'].value_counts()"
   ]
  },
  {
   "cell_type": "markdown",
   "id": "43e3b628",
   "metadata": {},
   "source": [
    "* The raw data presents no use for the model\n",
    "* Feature engineering --> possible categories through day of the week or parts of the day segmentation"
   ]
  },
  {
   "cell_type": "markdown",
   "id": "9563ad97",
   "metadata": {},
   "source": [
    "## Variable Correlation"
   ]
  },
  {
   "cell_type": "code",
   "execution_count": 21,
   "id": "01ced1ad",
   "metadata": {
    "ExecuteTime": {
     "end_time": "2022-02-21T18:52:24.789823Z",
     "start_time": "2022-02-21T18:52:24.470233Z"
    }
   },
   "outputs": [
    {
     "data": {
      "text/plain": [
       "<AxesSubplot:>"
      ]
     },
     "execution_count": 21,
     "metadata": {},
     "output_type": "execute_result"
    },
    {
     "data": {
      "image/png": "[encoded data removed]",
      "text/plain": [
       "<Figure size 1080x576 with 2 Axes>"
      ]
     },
     "metadata": {},
     "output_type": "display_data"
    }
   ],
   "source": [
    "plt.figure(figsize=(15,8))\n",
    "sns.heatmap(data = adv.corr(), annot = True)"
   ]
  },
  {
   "cell_type": "markdown",
   "id": "2f71a9f0",
   "metadata": {},
   "source": [
    "Correlation Tier Hypothesis:\n",
    "* 1) Daily Internet Usage: -0.79\n",
    "* 2) Daily Time Spent on Site: -0.75\n",
    "* 3) Age: 0.49\n",
    "* 4) Area Income: -0.48\n",
    "* 5) Male: -0.038"
   ]
  },
  {
   "cell_type": "markdown",
   "id": "17f0554f",
   "metadata": {},
   "source": [
    "# Normalizing Variables"
   ]
  },
  {
   "cell_type": "code",
   "execution_count": 22,
   "id": "3b32b905",
   "metadata": {
    "ExecuteTime": {
     "end_time": "2022-02-21T18:52:29.450107Z",
     "start_time": "2022-02-21T18:52:27.980245Z"
    }
   },
   "outputs": [],
   "source": [
    "from sklearn.preprocessing import StandardScaler"
   ]
  },
  {
   "cell_type": "code",
   "execution_count": 23,
   "id": "a38fccaf",
   "metadata": {
    "ExecuteTime": {
     "end_time": "2022-02-21T18:52:30.170304Z",
     "start_time": "2022-02-21T18:52:30.150251Z"
    }
   },
   "outputs": [],
   "source": [
    "scaler = StandardScaler()"
   ]
  },
  {
   "cell_type": "code",
   "execution_count": 24,
   "id": "c58fa83d",
   "metadata": {
    "ExecuteTime": {
     "end_time": "2022-02-21T18:52:30.809994Z",
     "start_time": "2022-02-21T18:52:30.790118Z"
    }
   },
   "outputs": [
    {
     "data": {
      "text/plain": [
       "StandardScaler()"
      ]
     },
     "execution_count": 24,
     "metadata": {},
     "output_type": "execute_result"
    }
   ],
   "source": [
    "scaler.fit(adv[['Daily Time Spent on Site', 'Age', 'Area Income', 'Daily Internet Usage', 'Male']])"
   ]
  },
  {
   "cell_type": "code",
   "execution_count": 25,
   "id": "025122f0",
   "metadata": {
    "ExecuteTime": {
     "end_time": "2022-02-21T18:52:31.409929Z",
     "start_time": "2022-02-21T18:52:31.390237Z"
    }
   },
   "outputs": [],
   "source": [
    "scaled_features = scaler.transform(adv[['Daily Time Spent on Site', 'Age', 'Area Income',\n",
    "                                        'Daily Internet Usage', 'Male']])"
   ]
  },
  {
   "cell_type": "code",
   "execution_count": 26,
   "id": "2220f290",
   "metadata": {
    "ExecuteTime": {
     "end_time": "2022-02-21T18:52:32.190082Z",
     "start_time": "2022-02-21T18:52:32.160358Z"
    }
   },
   "outputs": [],
   "source": [
    "adv_feat = pd.DataFrame(data = scaled_features, columns = [['Daily Time Spent on Site', 'Age', 'Area Income',\n",
    "                                        'Daily Internet Usage', 'Male']])"
   ]
  },
  {
   "cell_type": "code",
   "execution_count": 27,
   "id": "826a2c5c",
   "metadata": {
    "ExecuteTime": {
     "end_time": "2022-02-21T18:52:33.290218Z",
     "start_time": "2022-02-21T18:52:33.270101Z"
    }
   },
   "outputs": [
    {
     "data": {
      "text/html": [
       "<div>\n",
       "<style scoped>\n",
       "    .dataframe tbody tr th:only-of-type {\n",
       "        vertical-align: middle;\n",
       "    }\n",
       "\n",
       "    .dataframe tbody tr th {\n",
       "        vertical-align: top;\n",
       "    }\n",
       "\n",
       "    .dataframe thead tr th {\n",
       "        text-align: left;\n",
       "    }\n",
       "</style>\n",
       "<table border=\"1\" class=\"dataframe\">\n",
       "  <thead>\n",
       "    <tr>\n",
       "      <th></th>\n",
       "      <th>Daily Time Spent on Site</th>\n",
       "      <th>Age</th>\n",
       "      <th>Area Income</th>\n",
       "      <th>Daily Internet Usage</th>\n",
       "      <th>Male</th>\n",
       "    </tr>\n",
       "  </thead>\n",
       "  <tbody>\n",
       "    <tr>\n",
       "      <th>0</th>\n",
       "      <td>0.249267</td>\n",
       "      <td>-0.114905</td>\n",
       "      <td>0.509691</td>\n",
       "      <td>1.734030</td>\n",
       "      <td>-0.962695</td>\n",
       "    </tr>\n",
       "    <tr>\n",
       "      <th>1</th>\n",
       "      <td>0.961132</td>\n",
       "      <td>-0.570425</td>\n",
       "      <td>1.002530</td>\n",
       "      <td>0.313805</td>\n",
       "      <td>1.038750</td>\n",
       "    </tr>\n",
       "    <tr>\n",
       "      <th>2</th>\n",
       "      <td>0.282083</td>\n",
       "      <td>-1.139826</td>\n",
       "      <td>0.356949</td>\n",
       "      <td>1.287589</td>\n",
       "      <td>-0.962695</td>\n",
       "    </tr>\n",
       "    <tr>\n",
       "      <th>3</th>\n",
       "      <td>0.577432</td>\n",
       "      <td>-0.798185</td>\n",
       "      <td>-0.014456</td>\n",
       "      <td>1.501580</td>\n",
       "      <td>1.038750</td>\n",
       "    </tr>\n",
       "    <tr>\n",
       "      <th>4</th>\n",
       "      <td>0.212664</td>\n",
       "      <td>-0.114905</td>\n",
       "      <td>1.408868</td>\n",
       "      <td>1.038731</td>\n",
       "      <td>-0.962695</td>\n",
       "    </tr>\n",
       "  </tbody>\n",
       "</table>\n",
       "</div>"
      ],
      "text/plain": [
       "  Daily Time Spent on Site       Age Area Income Daily Internet Usage  \\\n",
       "0                 0.249267 -0.114905    0.509691             1.734030   \n",
       "1                 0.961132 -0.570425    1.002530             0.313805   \n",
       "2                 0.282083 -1.139826    0.356949             1.287589   \n",
       "3                 0.577432 -0.798185   -0.014456             1.501580   \n",
       "4                 0.212664 -0.114905    1.408868             1.038731   \n",
       "\n",
       "       Male  \n",
       "0 -0.962695  \n",
       "1  1.038750  \n",
       "2 -0.962695  \n",
       "3  1.038750  \n",
       "4 -0.962695  "
      ]
     },
     "execution_count": 27,
     "metadata": {},
     "output_type": "execute_result"
    }
   ],
   "source": [
    "adv_feat.head()"
   ]
  },
  {
   "cell_type": "markdown",
   "id": "b9ec3832",
   "metadata": {},
   "source": [
    "# Training and Testing Data"
   ]
  },
  {
   "cell_type": "code",
   "execution_count": 28,
   "id": "fd0dccf3",
   "metadata": {
    "ExecuteTime": {
     "end_time": "2022-02-21T18:52:39.159994Z",
     "start_time": "2022-02-21T18:52:39.150360Z"
    }
   },
   "outputs": [],
   "source": [
    "X = adv_feat\n",
    "y = adv['Clicked on Ad']"
   ]
  },
  {
   "cell_type": "code",
   "execution_count": 29,
   "id": "7c66aa9f",
   "metadata": {
    "ExecuteTime": {
     "end_time": "2022-02-21T18:52:40.300160Z",
     "start_time": "2022-02-21T18:52:39.750060Z"
    }
   },
   "outputs": [],
   "source": [
    "from sklearn.model_selection import train_test_split"
   ]
  },
  {
   "cell_type": "code",
   "execution_count": 97,
   "id": "15f331b3",
   "metadata": {
    "ExecuteTime": {
     "end_time": "2022-02-21T20:24:19.922801Z",
     "start_time": "2022-02-21T20:24:19.902607Z"
    }
   },
   "outputs": [],
   "source": [
    "X_train, X_test, y_train, y_test = train_test_split(X, y, test_size=0.2, random_state=101)"
   ]
  },
  {
   "cell_type": "markdown",
   "id": "e9ef0e5b",
   "metadata": {},
   "source": [
    "## Training the Model"
   ]
  },
  {
   "cell_type": "code",
   "execution_count": 98,
   "id": "a5bfbd2c",
   "metadata": {
    "ExecuteTime": {
     "end_time": "2022-02-21T20:24:21.972642Z",
     "start_time": "2022-02-21T20:24:21.952922Z"
    }
   },
   "outputs": [],
   "source": [
    "from sklearn.linear_model import LogisticRegression"
   ]
  },
  {
   "cell_type": "code",
   "execution_count": 99,
   "id": "75f27feb",
   "metadata": {
    "ExecuteTime": {
     "end_time": "2022-02-21T20:24:22.432768Z",
     "start_time": "2022-02-21T20:24:22.422490Z"
    }
   },
   "outputs": [],
   "source": [
    "model = LogisticRegression()"
   ]
  },
  {
   "cell_type": "code",
   "execution_count": 100,
   "id": "fec449e6",
   "metadata": {
    "ExecuteTime": {
     "end_time": "2022-02-21T20:24:22.852842Z",
     "start_time": "2022-02-21T20:24:22.822950Z"
    }
   },
   "outputs": [
    {
     "name": "stderr",
     "output_type": "stream",
     "text": [
      "C:\\Users\\breno\\anaconda3\\envs\\dsdegree\\lib\\site-packages\\sklearn\\utils\\validation.py:1675: FutureWarning: Feature names only support names that are all strings. Got feature names with dtypes: ['tuple']. An error will be raised in 1.2.\n",
      "  warnings.warn(\n"
     ]
    },
    {
     "data": {
      "text/plain": [
       "LogisticRegression()"
      ]
     },
     "execution_count": 100,
     "metadata": {},
     "output_type": "execute_result"
    }
   ],
   "source": [
    "model.fit(X_train, y_train)"
   ]
  },
  {
   "cell_type": "markdown",
   "id": "cac15f0e",
   "metadata": {},
   "source": [
    "## Predicting Test Data"
   ]
  },
  {
   "cell_type": "code",
   "execution_count": 89,
   "id": "1354250b",
   "metadata": {
    "ExecuteTime": {
     "end_time": "2022-02-21T19:42:48.704055Z",
     "start_time": "2022-02-21T19:42:48.683346Z"
    }
   },
   "outputs": [
    {
     "name": "stderr",
     "output_type": "stream",
     "text": [
      "C:\\Users\\breno\\anaconda3\\envs\\dsdegree\\lib\\site-packages\\sklearn\\utils\\validation.py:1675: FutureWarning: Feature names only support names that are all strings. Got feature names with dtypes: ['tuple']. An error will be raised in 1.2.\n",
      "  warnings.warn(\n"
     ]
    }
   ],
   "source": [
    "pred = model.predict(X_test)"
   ]
  },
  {
   "cell_type": "markdown",
   "id": "532dd343",
   "metadata": {},
   "source": [
    "## Evaluating the Model"
   ]
  },
  {
   "cell_type": "markdown",
   "id": "68737b53",
   "metadata": {},
   "source": [
    "### Test Size = 0.2"
   ]
  },
  {
   "cell_type": "code",
   "execution_count": 35,
   "id": "1046cbfa",
   "metadata": {
    "ExecuteTime": {
     "end_time": "2022-02-21T18:52:50.460248Z",
     "start_time": "2022-02-21T18:52:50.440552Z"
    }
   },
   "outputs": [],
   "source": [
    "from sklearn.metrics import confusion_matrix, classification_report"
   ]
  },
  {
   "cell_type": "code",
   "execution_count": 90,
   "id": "41afa766",
   "metadata": {
    "ExecuteTime": {
     "end_time": "2022-02-21T19:42:50.938365Z",
     "start_time": "2022-02-21T19:42:50.918461Z"
    }
   },
   "outputs": [
    {
     "name": "stdout",
     "output_type": "stream",
     "text": [
      "[[104   1]\n",
      " [  4  91]]\n",
      "\n",
      "\n",
      "              precision    recall  f1-score   support\n",
      "\n",
      "           0       0.96      0.99      0.98       105\n",
      "           1       0.99      0.96      0.97        95\n",
      "\n",
      "    accuracy                           0.97       200\n",
      "   macro avg       0.98      0.97      0.97       200\n",
      "weighted avg       0.98      0.97      0.97       200\n",
      "\n"
     ]
    }
   ],
   "source": [
    "print(confusion_matrix(y_test, pred))\n",
    "print('\\n')\n",
    "print(classification_report(y_test, pred))"
   ]
  },
  {
   "cell_type": "markdown",
   "id": "085b84b1",
   "metadata": {},
   "source": [
    "### ROC Curve"
   ]
  },
  {
   "cell_type": "code",
   "execution_count": 96,
   "id": "bcdafbc8",
   "metadata": {
    "ExecuteTime": {
     "end_time": "2022-02-21T20:23:54.382733Z",
     "start_time": "2022-02-21T20:23:54.362399Z"
    }
   },
   "outputs": [],
   "source": [
    "from sklearn.metrics import roc_curve"
   ]
  },
  {
   "cell_type": "code",
   "execution_count": null,
   "id": "6dc74954",
   "metadata": {},
   "outputs": [],
   "source": [
    "from sklearn.metrics import roc_auc_score"
   ]
  },
  {
   "cell_type": "code",
   "execution_count": 95,
   "id": "b7fc7f8d",
   "metadata": {
    "ExecuteTime": {
     "end_time": "2022-02-21T20:23:34.732569Z",
     "start_time": "2022-02-21T20:23:34.557229Z"
    }
   },
   "outputs": [
    {
     "name": "stdout",
     "output_type": "stream",
     "text": [
      "ROC AUC : 0.9761\n"
     ]
    },
    {
     "data": {
      "image/png": "[encoded data removed]",
      "text/plain": [
       "<Figure size 1080x576 with 1 Axes>"
      ]
     },
     "metadata": {},
     "output_type": "display_data"
    }
   ],
   "source": [
    "fpr, tpr, thresholds = roc_curve(y_test, pred, pos_label = True)\n",
    "\n",
    "plt.figure(figsize=(15,8))\n",
    "\n",
    "plt.plot(fpr, tpr, linewidth=2)\n",
    "plt.plot([0,1], [0,1], 'k--' )\n",
    "\n",
    "plt.rcParams['font.size'] = 12\n",
    "plt.title('ROC curve for Clicked on Ad Classifier')\n",
    "plt.xlabel('False Positive Rate (1 - Specificity)')\n",
    "plt.ylabel('True Positive Rate (Sensitivity)')\n",
    "\n",
    "ROC_AUC = roc_auc_score(y_test, pred)\n",
    "\n",
    "print('ROC AUC : {:.4f}'.format(ROC_AUC))"
   ]
  },
  {
   "cell_type": "markdown",
   "id": "714b6290",
   "metadata": {},
   "source": [
    "### Test Size = 0.3"
   ]
  },
  {
   "cell_type": "code",
   "execution_count": 101,
   "id": "744a7bc6",
   "metadata": {
    "ExecuteTime": {
     "end_time": "2022-02-21T20:25:25.623479Z",
     "start_time": "2022-02-21T20:25:25.608457Z"
    }
   },
   "outputs": [],
   "source": [
    "X_train, X_test, y_train, y_test = train_test_split(X, y, test_size=0.3, random_state=101)"
   ]
  },
  {
   "cell_type": "code",
   "execution_count": 102,
   "id": "03eeadd0",
   "metadata": {
    "ExecuteTime": {
     "end_time": "2022-02-21T20:25:26.023349Z",
     "start_time": "2022-02-21T20:25:25.983270Z"
    }
   },
   "outputs": [
    {
     "name": "stdout",
     "output_type": "stream",
     "text": [
      "[[155   2]\n",
      " [  5 138]]\n",
      "\n",
      "\n",
      "              precision    recall  f1-score   support\n",
      "\n",
      "           0       0.97      0.99      0.98       157\n",
      "           1       0.99      0.97      0.98       143\n",
      "\n",
      "    accuracy                           0.98       300\n",
      "   macro avg       0.98      0.98      0.98       300\n",
      "weighted avg       0.98      0.98      0.98       300\n",
      "\n"
     ]
    },
    {
     "name": "stderr",
     "output_type": "stream",
     "text": [
      "C:\\Users\\breno\\anaconda3\\envs\\dsdegree\\lib\\site-packages\\sklearn\\utils\\validation.py:1675: FutureWarning: Feature names only support names that are all strings. Got feature names with dtypes: ['tuple']. An error will be raised in 1.2.\n",
      "  warnings.warn(\n",
      "C:\\Users\\breno\\anaconda3\\envs\\dsdegree\\lib\\site-packages\\sklearn\\utils\\validation.py:1675: FutureWarning: Feature names only support names that are all strings. Got feature names with dtypes: ['tuple']. An error will be raised in 1.2.\n",
      "  warnings.warn(\n"
     ]
    }
   ],
   "source": [
    "model = LogisticRegression()\n",
    "model.fit(X_train, y_train)\n",
    "pred = model.predict(X_test)\n",
    "\n",
    "print(confusion_matrix(y_test, pred))\n",
    "print('\\n')\n",
    "print(classification_report(y_test, pred))"
   ]
  },
  {
   "cell_type": "markdown",
   "id": "8fafd2a1",
   "metadata": {},
   "source": [
    "### ROC Curve"
   ]
  },
  {
   "cell_type": "code",
   "execution_count": 104,
   "id": "3356aa44",
   "metadata": {
    "ExecuteTime": {
     "end_time": "2022-02-21T20:56:11.250224Z",
     "start_time": "2022-02-21T20:56:11.070481Z"
    }
   },
   "outputs": [
    {
     "name": "stdout",
     "output_type": "stream",
     "text": [
      "ROC AUC : 0.9761\n"
     ]
    },
    {
     "data": {
      "image/png": "[encoded data removed]",
      "text/plain": [
       "<Figure size 1080x576 with 1 Axes>"
      ]
     },
     "metadata": {},
     "output_type": "display_data"
    }
   ],
   "source": [
    "Rfpr, tpr, thresholds = roc_curve(y_test, pred, pos_label = True)\n",
    "\n",
    "plt.figure(figsize=(15,8))\n",
    "\n",
    "plt.plot(fpr, tpr, linewidth=2)\n",
    "plt.plot([0,1], [0,1], 'k--' )\n",
    "\n",
    "plt.rcParams['font.size'] = 12\n",
    "plt.title('ROC curve for Clicked on Ad Classifier')\n",
    "plt.xlabel('False Positive Rate (1 - Specificity)')\n",
    "plt.ylabel('True Positive Rate (Sensitivity)')\n",
    "\n",
    "ROC_AUC = roc_auc_score(y_test, pred)\n",
    "\n",
    "print('ROC AUC : {:.4f}'.format(ROC_AUC))"
   ]
  },
  {
   "cell_type": "markdown",
   "id": "a5bafeab",
   "metadata": {},
   "source": [
    "## Conclusions 💯\n",
    "* The data __indicates__ that a __Logistic Regression Model__ is an __excellent__ predictor of whether or not a customer would click on this company's Ad.\n",
    "\n",
    "\n",
    "* The data __also__ indicates the following relationships:  \n",
    "  \n",
    "  1) The __greater__ the Internet Usage, the __lower__ the odds of clicking on the Ad  \n",
    "  2) The __greater__ the Time Spent on Site, the __lower__ the odds of clicking on the Ad  \n",
    "  3) The __greater__ the Area Income, the __lower__ the odds of clicking on the Ad  \n",
    "  4) The __greater__ the Age, the __higher__ the odds of cliking on the Ad  \n",
    "  5) __Gender__ has __little or no relationship__ with clicking on the add or not  \n",
    "\n",
    "\n",
    "* If the __company's goal__ was to target __older__, __low area income__ and __both genders__ of customers, the Ad seems to __perform well__.\n",
    "\n",
    "\n",
    "* __However__, if the company's goal was to target any of these __specific groups__ or __any combination__ between them:\n",
    "\n",
    "  1) Specifically __younger customers__  \n",
    "  2) Specifically __Men__  \n",
    "  3) Specifically __Women__  \n",
    "  4) Specifically __higher income customers__\n",
    "\n",
    "\n",
    "* The Ad __does not seem__ to convert the right __type__ of customers."
   ]
  }
 ],
 "metadata": {
  "kernelspec": {
   "display_name": "Python 3 (ipykernel)",
   "language": "python",
   "name": "python3"
  },
  "language_info": {
   "codemirror_mode": {
    "name": "ipython",
    "version": 3
   },
   "file_extension": ".py",
   "mimetype": "text/x-python",
   "name": "python",
   "nbconvert_exporter": "python",
   "pygments_lexer": "ipython3",
   "version": "3.9.5"
  },
  "varInspector": {
   "cols": {
    "lenName": 16,
    "lenType": 16,
    "lenVar": 40
   },
   "kernels_config": {
    "python": {
     "delete_cmd_postfix": "",
     "delete_cmd_prefix": "del ",
     "library": "var_list.py",
     "varRefreshCmd": "print(var_dic_list())"
    },
    "r": {
     "delete_cmd_postfix": ") ",
     "delete_cmd_prefix": "rm(",
     "library": "var_list.r",
     "varRefreshCmd": "cat(var_dic_list()) "
    }
   },
   "types_to_exclude": [
    "module",
    "function",
    "builtin_function_or_method",
    "instance",
    "_Feature"
   ],
   "window_display": false
  }
 },
 "nbformat": 4,
 "nbformat_minor": 5
}
