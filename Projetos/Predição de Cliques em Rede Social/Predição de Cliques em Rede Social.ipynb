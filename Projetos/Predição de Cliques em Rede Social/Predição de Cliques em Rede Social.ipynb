{
 "cells": [
  {
   "cell_type": "markdown",
   "id": "4728bfb7",
   "metadata": {},
   "source": [
    "# Clicar ou Não Clicar, eis a questão!\n",
    "\n",
    "Este projeto consiste em analisar os dados da performance de um anúncio em rede social. O objetivo é criar um modelo que consiga predizer se um consumidor clicaria ou não no anúncio, baseado nas seguintes variáveis:\n",
    "\n",
    "* __Daily Time Spent on Site__: Tempo de permanência no site, em minutos\n",
    "* __Age__: Idade, em anos\n",
    "* __Area Income__: Renda média da região do consumidor, em dólares\n",
    "* __Daily Internet Usage__: Tempo de uso de internet diário, em minutos\n",
    "* __Ad Topic Line__: Texto exibido no anúncio\n",
    "* __City__: Cidade atual do consumidor\n",
    "* __Male__: Gênero\n",
    "* __Country__: País atual do consumidor\n",
    "* __Timestamp__: Horário em que clicou ou fechou o anúncio\n",
    "* __Clicked on Ad__: Clicou ou não no anúncio\n"
   ]
  },
  {
   "cell_type": "markdown",
   "id": "6eaf61f7",
   "metadata": {},
   "source": [
    "# 1) Imports"
   ]
  },
  {
   "cell_type": "code",
   "execution_count": 2,
   "id": "c7a32dbf",
   "metadata": {
    "ExecuteTime": {
     "end_time": "2022-04-11T20:57:42.111151Z",
     "start_time": "2022-04-11T20:57:42.102347Z"
    }
   },
   "outputs": [],
   "source": [
    "import pandas as pd\n",
    "import numpy as np\n",
    "import matplotlib.pyplot as plt\n",
    "import seaborn as sns"
   ]
  },
  {
   "cell_type": "code",
   "execution_count": 3,
   "id": "1d6beed1",
   "metadata": {
    "ExecuteTime": {
     "end_time": "2022-04-11T20:57:42.221053Z",
     "start_time": "2022-04-11T20:57:42.111151Z"
    }
   },
   "outputs": [],
   "source": [
    "%matplotlib inline"
   ]
  },
  {
   "cell_type": "code",
   "execution_count": 4,
   "id": "a813d6c2",
   "metadata": {
    "ExecuteTime": {
     "end_time": "2022-04-11T20:57:42.297067Z",
     "start_time": "2022-04-11T20:57:42.221053Z"
    }
   },
   "outputs": [],
   "source": [
    "sns.set_style('whitegrid')"
   ]
  },
  {
   "cell_type": "markdown",
   "id": "0ab8e312",
   "metadata": {},
   "source": [
    "# 2) Obtendo os Dados"
   ]
  },
  {
   "cell_type": "code",
   "execution_count": 5,
   "id": "e8282d0a",
   "metadata": {
    "ExecuteTime": {
     "end_time": "2022-04-11T20:57:42.437611Z",
     "start_time": "2022-04-11T20:57:42.297067Z"
    }
   },
   "outputs": [],
   "source": [
    "adv = pd.read_csv('advertising.csv')"
   ]
  },
  {
   "cell_type": "code",
   "execution_count": 6,
   "id": "32280f6a",
   "metadata": {
    "ExecuteTime": {
     "end_time": "2022-04-11T20:57:42.521397Z",
     "start_time": "2022-04-11T20:57:42.437611Z"
    }
   },
   "outputs": [
    {
     "data": {
      "text/html": [
       "<div>\n",
       "<style scoped>\n",
       "    .dataframe tbody tr th:only-of-type {\n",
       "        vertical-align: middle;\n",
       "    }\n",
       "\n",
       "    .dataframe tbody tr th {\n",
       "        vertical-align: top;\n",
       "    }\n",
       "\n",
       "    .dataframe thead th {\n",
       "        text-align: right;\n",
       "    }\n",
       "</style>\n",
       "<table border=\"1\" class=\"dataframe\">\n",
       "  <thead>\n",
       "    <tr style=\"text-align: right;\">\n",
       "      <th></th>\n",
       "      <th>Daily Time Spent on Site</th>\n",
       "      <th>Age</th>\n",
       "      <th>Area Income</th>\n",
       "      <th>Daily Internet Usage</th>\n",
       "      <th>Ad Topic Line</th>\n",
       "      <th>City</th>\n",
       "      <th>Male</th>\n",
       "      <th>Country</th>\n",
       "      <th>Timestamp</th>\n",
       "      <th>Clicked on Ad</th>\n",
       "    </tr>\n",
       "  </thead>\n",
       "  <tbody>\n",
       "    <tr>\n",
       "      <th>0</th>\n",
       "      <td>68.95</td>\n",
       "      <td>35</td>\n",
       "      <td>61833.90</td>\n",
       "      <td>256.09</td>\n",
       "      <td>Cloned 5thgeneration orchestration</td>\n",
       "      <td>Wrightburgh</td>\n",
       "      <td>0</td>\n",
       "      <td>Tunisia</td>\n",
       "      <td>2016-03-27 00:53:11</td>\n",
       "      <td>0</td>\n",
       "    </tr>\n",
       "    <tr>\n",
       "      <th>1</th>\n",
       "      <td>80.23</td>\n",
       "      <td>31</td>\n",
       "      <td>68441.85</td>\n",
       "      <td>193.77</td>\n",
       "      <td>Monitored national standardization</td>\n",
       "      <td>West Jodi</td>\n",
       "      <td>1</td>\n",
       "      <td>Nauru</td>\n",
       "      <td>2016-04-04 01:39:02</td>\n",
       "      <td>0</td>\n",
       "    </tr>\n",
       "    <tr>\n",
       "      <th>2</th>\n",
       "      <td>69.47</td>\n",
       "      <td>26</td>\n",
       "      <td>59785.94</td>\n",
       "      <td>236.50</td>\n",
       "      <td>Organic bottom-line service-desk</td>\n",
       "      <td>Davidton</td>\n",
       "      <td>0</td>\n",
       "      <td>San Marino</td>\n",
       "      <td>2016-03-13 20:35:42</td>\n",
       "      <td>0</td>\n",
       "    </tr>\n",
       "    <tr>\n",
       "      <th>3</th>\n",
       "      <td>74.15</td>\n",
       "      <td>29</td>\n",
       "      <td>54806.18</td>\n",
       "      <td>245.89</td>\n",
       "      <td>Triple-buffered reciprocal time-frame</td>\n",
       "      <td>West Terrifurt</td>\n",
       "      <td>1</td>\n",
       "      <td>Italy</td>\n",
       "      <td>2016-01-10 02:31:19</td>\n",
       "      <td>0</td>\n",
       "    </tr>\n",
       "    <tr>\n",
       "      <th>4</th>\n",
       "      <td>68.37</td>\n",
       "      <td>35</td>\n",
       "      <td>73889.99</td>\n",
       "      <td>225.58</td>\n",
       "      <td>Robust logistical utilization</td>\n",
       "      <td>South Manuel</td>\n",
       "      <td>0</td>\n",
       "      <td>Iceland</td>\n",
       "      <td>2016-06-03 03:36:18</td>\n",
       "      <td>0</td>\n",
       "    </tr>\n",
       "  </tbody>\n",
       "</table>\n",
       "</div>"
      ],
      "text/plain": [
       "   Daily Time Spent on Site  Age  Area Income  Daily Internet Usage  \\\n",
       "0                     68.95   35     61833.90                256.09   \n",
       "1                     80.23   31     68441.85                193.77   \n",
       "2                     69.47   26     59785.94                236.50   \n",
       "3                     74.15   29     54806.18                245.89   \n",
       "4                     68.37   35     73889.99                225.58   \n",
       "\n",
       "                           Ad Topic Line            City  Male     Country  \\\n",
       "0     Cloned 5thgeneration orchestration     Wrightburgh     0     Tunisia   \n",
       "1     Monitored national standardization       West Jodi     1       Nauru   \n",
       "2       Organic bottom-line service-desk        Davidton     0  San Marino   \n",
       "3  Triple-buffered reciprocal time-frame  West Terrifurt     1       Italy   \n",
       "4          Robust logistical utilization    South Manuel     0     Iceland   \n",
       "\n",
       "             Timestamp  Clicked on Ad  \n",
       "0  2016-03-27 00:53:11              0  \n",
       "1  2016-04-04 01:39:02              0  \n",
       "2  2016-03-13 20:35:42              0  \n",
       "3  2016-01-10 02:31:19              0  \n",
       "4  2016-06-03 03:36:18              0  "
      ]
     },
     "execution_count": 6,
     "metadata": {},
     "output_type": "execute_result"
    }
   ],
   "source": [
    "adv.head()"
   ]
  },
  {
   "cell_type": "markdown",
   "id": "73b2bbd3",
   "metadata": {},
   "source": [
    "# 2.1) Conteúdo das Variáveis"
   ]
  },
  {
   "cell_type": "code",
   "execution_count": 7,
   "id": "ebb6120c",
   "metadata": {
    "ExecuteTime": {
     "end_time": "2022-04-11T20:57:42.601705Z",
     "start_time": "2022-04-11T20:57:42.521397Z"
    }
   },
   "outputs": [
    {
     "name": "stdout",
     "output_type": "stream",
     "text": [
      "<class 'pandas.core.frame.DataFrame'>\n",
      "RangeIndex: 1000 entries, 0 to 999\n",
      "Data columns (total 10 columns):\n",
      " #   Column                    Non-Null Count  Dtype  \n",
      "---  ------                    --------------  -----  \n",
      " 0   Daily Time Spent on Site  1000 non-null   float64\n",
      " 1   Age                       1000 non-null   int64  \n",
      " 2   Area Income               1000 non-null   float64\n",
      " 3   Daily Internet Usage      1000 non-null   float64\n",
      " 4   Ad Topic Line             1000 non-null   object \n",
      " 5   City                      1000 non-null   object \n",
      " 6   Male                      1000 non-null   int64  \n",
      " 7   Country                   1000 non-null   object \n",
      " 8   Timestamp                 1000 non-null   object \n",
      " 9   Clicked on Ad             1000 non-null   int64  \n",
      "dtypes: float64(3), int64(3), object(4)\n",
      "memory usage: 78.2+ KB\n"
     ]
    }
   ],
   "source": [
    "adv.info()"
   ]
  },
  {
   "cell_type": "markdown",
   "id": "2e7d1152",
   "metadata": {},
   "source": [
    "* 1) Daily Time Spent on Site --> numerical\n",
    "* 2) Age --> numerical\n",
    "* 3) Area Income --> numerical\n",
    "* 4) Daily Internet Usage --> numerical\n",
    "* 5) Male --> numerical\n",
    "* 6) Clicked on Ad --> numerical\n",
    "--------------------------------------\n",
    "* 7) Ad Topic Line --> object\n",
    "* 8) City --> object\n",
    "* 9) Country --> object\n",
    "* 10) Timestamp --> object"
   ]
  },
  {
   "cell_type": "code",
   "execution_count": 8,
   "id": "cf0af3a9",
   "metadata": {
    "ExecuteTime": {
     "end_time": "2022-04-11T20:57:42.693258Z",
     "start_time": "2022-04-11T20:57:42.601705Z"
    }
   },
   "outputs": [
    {
     "data": {
      "text/html": [
       "<div>\n",
       "<style scoped>\n",
       "    .dataframe tbody tr th:only-of-type {\n",
       "        vertical-align: middle;\n",
       "    }\n",
       "\n",
       "    .dataframe tbody tr th {\n",
       "        vertical-align: top;\n",
       "    }\n",
       "\n",
       "    .dataframe thead th {\n",
       "        text-align: right;\n",
       "    }\n",
       "</style>\n",
       "<table border=\"1\" class=\"dataframe\">\n",
       "  <thead>\n",
       "    <tr style=\"text-align: right;\">\n",
       "      <th></th>\n",
       "      <th>Daily Time Spent on Site</th>\n",
       "      <th>Age</th>\n",
       "      <th>Area Income</th>\n",
       "      <th>Daily Internet Usage</th>\n",
       "      <th>Male</th>\n",
       "      <th>Clicked on Ad</th>\n",
       "    </tr>\n",
       "  </thead>\n",
       "  <tbody>\n",
       "    <tr>\n",
       "      <th>count</th>\n",
       "      <td>1000.000000</td>\n",
       "      <td>1000.000000</td>\n",
       "      <td>1000.000000</td>\n",
       "      <td>1000.000000</td>\n",
       "      <td>1000.000000</td>\n",
       "      <td>1000.00000</td>\n",
       "    </tr>\n",
       "    <tr>\n",
       "      <th>mean</th>\n",
       "      <td>65.000200</td>\n",
       "      <td>36.009000</td>\n",
       "      <td>55000.000080</td>\n",
       "      <td>180.000100</td>\n",
       "      <td>0.481000</td>\n",
       "      <td>0.50000</td>\n",
       "    </tr>\n",
       "    <tr>\n",
       "      <th>std</th>\n",
       "      <td>15.853615</td>\n",
       "      <td>8.785562</td>\n",
       "      <td>13414.634022</td>\n",
       "      <td>43.902339</td>\n",
       "      <td>0.499889</td>\n",
       "      <td>0.50025</td>\n",
       "    </tr>\n",
       "    <tr>\n",
       "      <th>min</th>\n",
       "      <td>32.600000</td>\n",
       "      <td>19.000000</td>\n",
       "      <td>13996.500000</td>\n",
       "      <td>104.780000</td>\n",
       "      <td>0.000000</td>\n",
       "      <td>0.00000</td>\n",
       "    </tr>\n",
       "    <tr>\n",
       "      <th>25%</th>\n",
       "      <td>51.360000</td>\n",
       "      <td>29.000000</td>\n",
       "      <td>47031.802500</td>\n",
       "      <td>138.830000</td>\n",
       "      <td>0.000000</td>\n",
       "      <td>0.00000</td>\n",
       "    </tr>\n",
       "    <tr>\n",
       "      <th>50%</th>\n",
       "      <td>68.215000</td>\n",
       "      <td>35.000000</td>\n",
       "      <td>57012.300000</td>\n",
       "      <td>183.130000</td>\n",
       "      <td>0.000000</td>\n",
       "      <td>0.50000</td>\n",
       "    </tr>\n",
       "    <tr>\n",
       "      <th>75%</th>\n",
       "      <td>78.547500</td>\n",
       "      <td>42.000000</td>\n",
       "      <td>65470.635000</td>\n",
       "      <td>218.792500</td>\n",
       "      <td>1.000000</td>\n",
       "      <td>1.00000</td>\n",
       "    </tr>\n",
       "    <tr>\n",
       "      <th>max</th>\n",
       "      <td>91.430000</td>\n",
       "      <td>61.000000</td>\n",
       "      <td>79484.800000</td>\n",
       "      <td>269.960000</td>\n",
       "      <td>1.000000</td>\n",
       "      <td>1.00000</td>\n",
       "    </tr>\n",
       "  </tbody>\n",
       "</table>\n",
       "</div>"
      ],
      "text/plain": [
       "       Daily Time Spent on Site          Age   Area Income  \\\n",
       "count               1000.000000  1000.000000   1000.000000   \n",
       "mean                  65.000200    36.009000  55000.000080   \n",
       "std                   15.853615     8.785562  13414.634022   \n",
       "min                   32.600000    19.000000  13996.500000   \n",
       "25%                   51.360000    29.000000  47031.802500   \n",
       "50%                   68.215000    35.000000  57012.300000   \n",
       "75%                   78.547500    42.000000  65470.635000   \n",
       "max                   91.430000    61.000000  79484.800000   \n",
       "\n",
       "       Daily Internet Usage         Male  Clicked on Ad  \n",
       "count           1000.000000  1000.000000     1000.00000  \n",
       "mean             180.000100     0.481000        0.50000  \n",
       "std               43.902339     0.499889        0.50025  \n",
       "min              104.780000     0.000000        0.00000  \n",
       "25%              138.830000     0.000000        0.00000  \n",
       "50%              183.130000     0.000000        0.50000  \n",
       "75%              218.792500     1.000000        1.00000  \n",
       "max              269.960000     1.000000        1.00000  "
      ]
     },
     "execution_count": 8,
     "metadata": {},
     "output_type": "execute_result"
    }
   ],
   "source": [
    "# numeric variables overview\n",
    "adv.describe()"
   ]
  },
  {
   "cell_type": "markdown",
   "id": "c8c59804",
   "metadata": {},
   "source": [
    "# 2.2) Checar Dados Faltantes ou Duplicados"
   ]
  },
  {
   "cell_type": "code",
   "execution_count": 9,
   "id": "5e466125",
   "metadata": {
    "ExecuteTime": {
     "end_time": "2022-04-11T20:57:42.937340Z",
     "start_time": "2022-04-11T20:57:42.693258Z"
    }
   },
   "outputs": [
    {
     "data": {
      "text/plain": [
       "<AxesSubplot:>"
      ]
     },
     "execution_count": 9,
     "metadata": {},
     "output_type": "execute_result"
    },
    {
     "data": {
      "image/png": "[encoded data removed]",
      "text/plain": [
       "<Figure size 432x288 with 1 Axes>"
      ]
     },
     "metadata": {},
     "output_type": "display_data"
    }
   ],
   "source": [
    "sns.heatmap(data = adv.isnull(), yticklabels = False, cbar = False, cmap = 'viridis')"
   ]
  },
  {
   "cell_type": "markdown",
   "id": "72c324fe",
   "metadata": {},
   "source": [
    "* Sem dados faltantes."
   ]
  },
  {
   "cell_type": "code",
   "execution_count": 10,
   "id": "e7cbe66b",
   "metadata": {
    "ExecuteTime": {
     "end_time": "2022-04-11T20:57:42.953285Z",
     "start_time": "2022-04-11T20:57:42.937340Z"
    }
   },
   "outputs": [
    {
     "data": {
      "text/plain": [
       "False    1000\n",
       "dtype: int64"
      ]
     },
     "execution_count": 10,
     "metadata": {},
     "output_type": "execute_result"
    }
   ],
   "source": [
    "adv.duplicated().value_counts()"
   ]
  },
  {
   "cell_type": "markdown",
   "id": "9bc89d42",
   "metadata": {},
   "source": [
    "* Sem dados duplicados."
   ]
  },
  {
   "cell_type": "markdown",
   "id": "3e7bd43d",
   "metadata": {},
   "source": [
    "# 3) Análise Exploratória dos Dados"
   ]
  },
  {
   "cell_type": "markdown",
   "id": "dcfe846f",
   "metadata": {},
   "source": [
    "## 3.1) Variáveis Numéricas"
   ]
  },
  {
   "cell_type": "markdown",
   "id": "0200bfd9",
   "metadata": {},
   "source": [
    "### 3.1.1) Daily Time Spent on Site vs Clicked on Ad"
   ]
  },
  {
   "cell_type": "code",
   "execution_count": 11,
   "id": "9a1c173d",
   "metadata": {
    "ExecuteTime": {
     "end_time": "2022-04-11T20:57:43.237666Z",
     "start_time": "2022-04-11T20:57:42.953285Z"
    }
   },
   "outputs": [
    {
     "data": {
      "text/plain": [
       "<AxesSubplot:xlabel='Daily Time Spent on Site', ylabel='Count'>"
      ]
     },
     "execution_count": 11,
     "metadata": {},
     "output_type": "execute_result"
    },
    {
     "data": {
      "image/png": "[encoded data removed]",
      "text/plain": [
       "<Figure size 1080x360 with 1 Axes>"
      ]
     },
     "metadata": {},
     "output_type": "display_data"
    }
   ],
   "source": [
    "plt.figure(figsize=(15,5))\n",
    "sns.histplot(data = adv, x = 'Daily Time Spent on Site', hue = 'Clicked on Ad')"
   ]
  },
  {
   "cell_type": "code",
   "execution_count": 12,
   "id": "3fe7fe5b",
   "metadata": {
    "ExecuteTime": {
     "end_time": "2022-04-11T20:57:43.253579Z",
     "start_time": "2022-04-11T20:57:43.237666Z"
    }
   },
   "outputs": [
    {
     "data": {
      "text/plain": [
       "-0.748116564119635"
      ]
     },
     "execution_count": 12,
     "metadata": {},
     "output_type": "execute_result"
    }
   ],
   "source": [
    "adv['Daily Time Spent on Site'].corr(adv['Clicked on Ad'])"
   ]
  },
  {
   "cell_type": "markdown",
   "id": "552d45fc",
   "metadata": {},
   "source": [
    "* Dados indicam forte correlação negativa entre Tempo de Permanência no Site e Clicou no Anúncio."
   ]
  },
  {
   "cell_type": "markdown",
   "id": "7f811d90",
   "metadata": {},
   "source": [
    "* Em outras palavras, quanto maior o Tempo de Permanência no Site, menor a chance de ter clicado no anúncio."
   ]
  },
  {
   "cell_type": "markdown",
   "id": "5dd0f237",
   "metadata": {},
   "source": [
    "### 3.1.2) Age vs Clicked on Ad"
   ]
  },
  {
   "cell_type": "code",
   "execution_count": 13,
   "id": "518f90fd",
   "metadata": {
    "ExecuteTime": {
     "end_time": "2022-04-11T20:57:43.592102Z",
     "start_time": "2022-04-11T20:57:43.253579Z"
    }
   },
   "outputs": [
    {
     "data": {
      "text/plain": [
       "<AxesSubplot:xlabel='Age', ylabel='Count'>"
      ]
     },
     "execution_count": 13,
     "metadata": {},
     "output_type": "execute_result"
    },
    {
     "data": {
      "image/png": "[encoded data removed]",
      "text/plain": [
       "<Figure size 1080x360 with 1 Axes>"
      ]
     },
     "metadata": {},
     "output_type": "display_data"
    }
   ],
   "source": [
    "plt.figure(figsize=(15,5))\n",
    "sns.histplot(data = adv, x = 'Age', hue = 'Clicked on Ad')"
   ]
  },
  {
   "cell_type": "code",
   "execution_count": 14,
   "id": "e849614c",
   "metadata": {
    "ExecuteTime": {
     "end_time": "2022-04-11T20:57:43.601166Z",
     "start_time": "2022-04-11T20:57:43.592102Z"
    }
   },
   "outputs": [
    {
     "data": {
      "text/plain": [
       "0.4925312655560384"
      ]
     },
     "execution_count": 14,
     "metadata": {},
     "output_type": "execute_result"
    }
   ],
   "source": [
    "adv['Age'].corr(adv['Clicked on Ad'])"
   ]
  },
  {
   "cell_type": "markdown",
   "id": "a6217889",
   "metadata": {},
   "source": [
    "* Dados indicam correlação positiva moderada entre Idade e Clicou no Anúncio."
   ]
  },
  {
   "cell_type": "markdown",
   "id": "c13c324c",
   "metadata": {},
   "source": [
    "* Em outras palavras, quanto maior a Idade, maior a chance de ter clicado no anúncio."
   ]
  },
  {
   "cell_type": "markdown",
   "id": "258e90f0",
   "metadata": {},
   "source": [
    "### 3.1.3) Area Income vs Clicked on Ad"
   ]
  },
  {
   "cell_type": "code",
   "execution_count": 15,
   "id": "dedf5b7e",
   "metadata": {
    "ExecuteTime": {
     "end_time": "2022-04-11T20:57:44.081202Z",
     "start_time": "2022-04-11T20:57:43.601166Z"
    },
    "scrolled": true
   },
   "outputs": [
    {
     "data": {
      "text/plain": [
       "<AxesSubplot:xlabel='Area Income', ylabel='Count'>"
      ]
     },
     "execution_count": 15,
     "metadata": {},
     "output_type": "execute_result"
    },
    {
     "data": {
      "image/png": "[encoded data removed]",
      "text/plain": [
       "<Figure size 1080x360 with 1 Axes>"
      ]
     },
     "metadata": {},
     "output_type": "display_data"
    }
   ],
   "source": [
    "plt.figure(figsize=(15,5))\n",
    "sns.histplot(data = adv, x = 'Area Income', hue = 'Clicked on Ad')"
   ]
  },
  {
   "cell_type": "code",
   "execution_count": 16,
   "id": "ea7ed1df",
   "metadata": {
    "ExecuteTime": {
     "end_time": "2022-04-11T20:57:44.102201Z",
     "start_time": "2022-04-11T20:57:44.081202Z"
    }
   },
   "outputs": [
    {
     "data": {
      "text/plain": [
       "-0.4762546275321449"
      ]
     },
     "execution_count": 16,
     "metadata": {},
     "output_type": "execute_result"
    }
   ],
   "source": [
    "adv['Area Income'].corr(adv['Clicked on Ad'])"
   ]
  },
  {
   "cell_type": "markdown",
   "id": "565ae50e",
   "metadata": {},
   "source": [
    "* Dados indicam correlação negativa moderada entre Renda Média da Região e Clicou no Anúncio."
   ]
  },
  {
   "cell_type": "markdown",
   "id": "8ed0896d",
   "metadata": {},
   "source": [
    "* Em outras palavras, quanto maior a Renda Média da Região, menor a chance de ter clicado no anúncio."
   ]
  },
  {
   "cell_type": "markdown",
   "id": "ef10fda8",
   "metadata": {},
   "source": [
    "### 3.1.4) Daily Internet Usage vs Clicked on Ad"
   ]
  },
  {
   "cell_type": "code",
   "execution_count": 17,
   "id": "3f36077e",
   "metadata": {
    "ExecuteTime": {
     "end_time": "2022-04-11T20:57:44.361596Z",
     "start_time": "2022-04-11T20:57:44.102201Z"
    }
   },
   "outputs": [
    {
     "data": {
      "text/plain": [
       "<AxesSubplot:xlabel='Daily Internet Usage', ylabel='Count'>"
      ]
     },
     "execution_count": 17,
     "metadata": {},
     "output_type": "execute_result"
    },
    {
     "data": {
      "image/png": "[encoded data removed]",
      "text/plain": [
       "<Figure size 1080x360 with 1 Axes>"
      ]
     },
     "metadata": {},
     "output_type": "display_data"
    }
   ],
   "source": [
    "plt.figure(figsize=(15,5))\n",
    "sns.histplot(data = adv, x = 'Daily Internet Usage', hue = 'Clicked on Ad')"
   ]
  },
  {
   "cell_type": "code",
   "execution_count": 18,
   "id": "3c39cc7e",
   "metadata": {
    "ExecuteTime": {
     "end_time": "2022-04-11T20:57:44.382055Z",
     "start_time": "2022-04-11T20:57:44.361596Z"
    }
   },
   "outputs": [
    {
     "data": {
      "text/plain": [
       "-0.7865391758714905"
      ]
     },
     "execution_count": 18,
     "metadata": {},
     "output_type": "execute_result"
    }
   ],
   "source": [
    "adv['Daily Internet Usage'].corr(adv['Clicked on Ad'])"
   ]
  },
  {
   "cell_type": "markdown",
   "id": "b4ea205d",
   "metadata": {},
   "source": [
    "* Dados indicam forte correlação negativa entre Tempo de Uso Diário de Internet e Clicou no Anúncio."
   ]
  },
  {
   "cell_type": "markdown",
   "id": "725821ea",
   "metadata": {},
   "source": [
    "* Em outras palavras, quanto maior o Tempo de Uso Diário de Internet, menor a chance de ter clicado no anúncio."
   ]
  },
  {
   "cell_type": "markdown",
   "id": "4a64aff7",
   "metadata": {},
   "source": [
    "### 3.1.5) Male vs Clicked on Ad"
   ]
  },
  {
   "cell_type": "code",
   "execution_count": 19,
   "id": "1e0ed4b3",
   "metadata": {
    "ExecuteTime": {
     "end_time": "2022-04-11T20:57:44.562044Z",
     "start_time": "2022-04-11T20:57:44.382055Z"
    }
   },
   "outputs": [
    {
     "data": {
      "text/plain": [
       "<AxesSubplot:xlabel='Male', ylabel='count'>"
      ]
     },
     "execution_count": 19,
     "metadata": {},
     "output_type": "execute_result"
    },
    {
     "data": {
      "image/png": "[encoded data removed]",
      "text/plain": [
       "<Figure size 1080x360 with 1 Axes>"
      ]
     },
     "metadata": {},
     "output_type": "display_data"
    }
   ],
   "source": [
    "plt.figure(figsize=(15,5))\n",
    "sns.countplot(data = adv, x = 'Male', hue = 'Clicked on Ad')"
   ]
  },
  {
   "cell_type": "code",
   "execution_count": 20,
   "id": "f6dd4793",
   "metadata": {
    "ExecuteTime": {
     "end_time": "2022-04-11T20:57:44.571272Z",
     "start_time": "2022-04-11T20:57:44.562044Z"
    }
   },
   "outputs": [
    {
     "data": {
      "text/plain": [
       "-0.03802746574898798"
      ]
     },
     "execution_count": 20,
     "metadata": {},
     "output_type": "execute_result"
    }
   ],
   "source": [
    "adv['Male'].corr(adv['Clicked on Ad'])"
   ]
  },
  {
   "cell_type": "markdown",
   "id": "89cb2547",
   "metadata": {},
   "source": [
    "* Dados indicam correlaçao irrelevante entre Gênero e Clicou no Anúncio."
   ]
  },
  {
   "cell_type": "markdown",
   "id": "39a6142b",
   "metadata": {},
   "source": [
    "* Em outras palavras, saber o Gênero do consumidor não é um bom preditor de ter clicado no anúncio ou não."
   ]
  },
  {
   "cell_type": "markdown",
   "id": "3d5f2e28",
   "metadata": {},
   "source": [
    "## 3.2) Categorical Variables"
   ]
  },
  {
   "cell_type": "markdown",
   "id": "8ff13445",
   "metadata": {},
   "source": [
    "### 3.2.1) Ad Topic Line"
   ]
  },
  {
   "cell_type": "code",
   "execution_count": 21,
   "id": "69e3d636",
   "metadata": {
    "ExecuteTime": {
     "end_time": "2022-04-11T20:57:44.657292Z",
     "start_time": "2022-04-11T20:57:44.571272Z"
    }
   },
   "outputs": [
    {
     "data": {
      "text/plain": [
       "Cloned 5thgeneration orchestration              1\n",
       "Synchronized multi-tasking ability              1\n",
       "Customer-focused impactful success              1\n",
       "Open-source optimizing parallelism              1\n",
       "Organic logistical adapter                      1\n",
       "                                               ..\n",
       "Enhanced zero tolerance Graphic Interface       1\n",
       "De-engineered tertiary secured line             1\n",
       "Reverse-engineered well-modulated capability    1\n",
       "Integrated coherent pricing structure           1\n",
       "Virtual 5thgeneration emulation                 1\n",
       "Name: Ad Topic Line, Length: 1000, dtype: int64"
      ]
     },
     "execution_count": 21,
     "metadata": {},
     "output_type": "execute_result"
    }
   ],
   "source": [
    "adv['Ad Topic Line'].value_counts()"
   ]
  },
  {
   "cell_type": "markdown",
   "id": "7997154e",
   "metadata": {},
   "source": [
    "* Os dados brutos não apresentam valor para o modelo."
   ]
  },
  {
   "cell_type": "markdown",
   "id": "394d51e1",
   "metadata": {},
   "source": [
    "* Feature engineering para descobrir palavras frequentes pode ser um caminho para extrair valor destes dados."
   ]
  },
  {
   "cell_type": "markdown",
   "id": "7205c14b",
   "metadata": {},
   "source": [
    "### 3.2.2) City"
   ]
  },
  {
   "cell_type": "code",
   "execution_count": 22,
   "id": "ad736f56",
   "metadata": {
    "ExecuteTime": {
     "end_time": "2022-04-11T20:57:44.742352Z",
     "start_time": "2022-04-11T20:57:44.657292Z"
    }
   },
   "outputs": [
    {
     "data": {
      "text/plain": [
       "Lisamouth         3\n",
       "Williamsport      3\n",
       "Wrightburgh       2\n",
       "Lake Jose         2\n",
       "Robertfurt        2\n",
       "                 ..\n",
       "Burgessside       1\n",
       "Hurleyborough     1\n",
       "Garychester       1\n",
       "East Kevinbury    1\n",
       "Ronniemouth       1\n",
       "Name: City, Length: 969, dtype: int64"
      ]
     },
     "execution_count": 22,
     "metadata": {},
     "output_type": "execute_result"
    }
   ],
   "source": [
    "adv['City'].value_counts()"
   ]
  },
  {
   "cell_type": "markdown",
   "id": "6eb2a262",
   "metadata": {},
   "source": [
    "* Os dados brutos não apresentam valor para o modelo."
   ]
  },
  {
   "cell_type": "markdown",
   "id": "9035d60b",
   "metadata": {
    "ExecuteTime": {
     "end_time": "2022-04-11T20:35:26.061551Z",
     "start_time": "2022-04-11T20:35:26.051691Z"
    }
   },
   "source": [
    "* Feature engineering para agrupar cidades em regiões pode ser um caminho para extrair valor destes dados."
   ]
  },
  {
   "cell_type": "markdown",
   "id": "b17eb530",
   "metadata": {},
   "source": [
    "### 3.2.3) Country"
   ]
  },
  {
   "cell_type": "code",
   "execution_count": 23,
   "id": "b6e7154e",
   "metadata": {
    "ExecuteTime": {
     "end_time": "2022-04-11T20:57:44.831809Z",
     "start_time": "2022-04-11T20:57:44.742352Z"
    }
   },
   "outputs": [
    {
     "data": {
      "text/plain": [
       "France                                                 9\n",
       "Czech Republic                                         9\n",
       "Peru                                                   8\n",
       "Turkey                                                 8\n",
       "Greece                                                 8\n",
       "                                                      ..\n",
       "Romania                                                1\n",
       "British Indian Ocean Territory (Chagos Archipelago)    1\n",
       "Germany                                                1\n",
       "Aruba                                                  1\n",
       "Lesotho                                                1\n",
       "Name: Country, Length: 237, dtype: int64"
      ]
     },
     "execution_count": 23,
     "metadata": {},
     "output_type": "execute_result"
    }
   ],
   "source": [
    "adv['Country'].value_counts()"
   ]
  },
  {
   "cell_type": "markdown",
   "id": "5acdb89f",
   "metadata": {},
   "source": [
    "* Os dados brutos não apresentam valor para o modelo."
   ]
  },
  {
   "cell_type": "markdown",
   "id": "0f9bdfd5",
   "metadata": {
    "ExecuteTime": {
     "end_time": "2022-04-11T20:36:18.481157Z",
     "start_time": "2022-04-11T20:36:18.466268Z"
    }
   },
   "source": [
    "* Feature engineering para agrupar países em continentes pode ser um caminho para extrair valor destes dados."
   ]
  },
  {
   "cell_type": "markdown",
   "id": "57e289df",
   "metadata": {},
   "source": [
    "### 3.2.4) Timestamp"
   ]
  },
  {
   "cell_type": "code",
   "execution_count": 24,
   "id": "8e8a50d9",
   "metadata": {
    "ExecuteTime": {
     "end_time": "2022-04-11T20:57:44.909618Z",
     "start_time": "2022-04-11T20:57:44.831809Z"
    }
   },
   "outputs": [
    {
     "data": {
      "text/plain": [
       "2016-03-27 00:53:11    1\n",
       "2016-01-07 23:02:43    1\n",
       "2016-04-05 08:18:45    1\n",
       "2016-04-17 18:38:14    1\n",
       "2016-02-03 16:54:33    1\n",
       "                      ..\n",
       "2016-03-13 13:50:25    1\n",
       "2016-07-16 14:13:54    1\n",
       "2016-04-18 00:49:33    1\n",
       "2016-07-17 01:13:56    1\n",
       "2016-06-03 21:43:21    1\n",
       "Name: Timestamp, Length: 1000, dtype: int64"
      ]
     },
     "execution_count": 24,
     "metadata": {},
     "output_type": "execute_result"
    }
   ],
   "source": [
    "adv['Timestamp'].value_counts()"
   ]
  },
  {
   "cell_type": "markdown",
   "id": "43e3b628",
   "metadata": {},
   "source": [
    "* Os dados brutos não apresentam valor para o modelo."
   ]
  },
  {
   "cell_type": "markdown",
   "id": "9ac56562",
   "metadata": {},
   "source": [
    "* Feature engineering para descobrir períodos do dia, dias da semana, pode ser um caminho para extrair valor destes dados."
   ]
  },
  {
   "cell_type": "markdown",
   "id": "9563ad97",
   "metadata": {},
   "source": [
    "## 3.3) Matriz de Correlação Entre Variáveis"
   ]
  },
  {
   "cell_type": "code",
   "execution_count": 25,
   "id": "01ced1ad",
   "metadata": {
    "ExecuteTime": {
     "end_time": "2022-04-11T20:57:45.262488Z",
     "start_time": "2022-04-11T20:57:44.909618Z"
    }
   },
   "outputs": [
    {
     "data": {
      "text/plain": [
       "<AxesSubplot:>"
      ]
     },
     "execution_count": 25,
     "metadata": {},
     "output_type": "execute_result"
    },
    {
     "data": {
      "image/png": "[encoded data removed]",
      "text/plain": [
       "<Figure size 1080x576 with 2 Axes>"
      ]
     },
     "metadata": {},
     "output_type": "display_data"
    }
   ],
   "source": [
    "plt.figure(figsize=(15,8))\n",
    "sns.heatmap(data = adv.corr(), annot = True)"
   ]
  },
  {
   "cell_type": "markdown",
   "id": "2f71a9f0",
   "metadata": {},
   "source": [
    "Tier List Correlações com Variável Resposta \"Clicked on Ad\":\n",
    "* 1) Daily Internet Usage: -0.79\n",
    "* 2) Daily Time Spent on Site: -0.75\n",
    "* 3) Age: 0.49\n",
    "* 4) Area Income: -0.48\n",
    "* 5) Male: -0.038"
   ]
  },
  {
   "cell_type": "markdown",
   "id": "bcf69381",
   "metadata": {},
   "source": [
    "# 4) Criando o Modelo"
   ]
  },
  {
   "cell_type": "markdown",
   "id": "17f0554f",
   "metadata": {},
   "source": [
    "## 4.1) Normalização dos Dados"
   ]
  },
  {
   "cell_type": "code",
   "execution_count": 26,
   "id": "3b32b905",
   "metadata": {
    "ExecuteTime": {
     "end_time": "2022-04-11T20:57:47.352672Z",
     "start_time": "2022-04-11T20:57:45.262488Z"
    }
   },
   "outputs": [],
   "source": [
    "from sklearn.preprocessing import StandardScaler"
   ]
  },
  {
   "cell_type": "code",
   "execution_count": 27,
   "id": "a38fccaf",
   "metadata": {
    "ExecuteTime": {
     "end_time": "2022-04-11T20:57:47.372520Z",
     "start_time": "2022-04-11T20:57:47.352672Z"
    }
   },
   "outputs": [],
   "source": [
    "scaler = StandardScaler()"
   ]
  },
  {
   "cell_type": "code",
   "execution_count": 28,
   "id": "c58fa83d",
   "metadata": {
    "ExecuteTime": {
     "end_time": "2022-04-11T20:57:47.465620Z",
     "start_time": "2022-04-11T20:57:47.372520Z"
    }
   },
   "outputs": [
    {
     "data": {
      "text/plain": [
       "StandardScaler()"
      ]
     },
     "execution_count": 28,
     "metadata": {},
     "output_type": "execute_result"
    }
   ],
   "source": [
    "scaler.fit(adv[['Daily Time Spent on Site', 'Age', 'Area Income', 'Daily Internet Usage', 'Male']])"
   ]
  },
  {
   "cell_type": "code",
   "execution_count": 29,
   "id": "025122f0",
   "metadata": {
    "ExecuteTime": {
     "end_time": "2022-04-11T20:57:47.541482Z",
     "start_time": "2022-04-11T20:57:47.465620Z"
    }
   },
   "outputs": [],
   "source": [
    "scaled_features = scaler.transform(adv[['Daily Time Spent on Site', 'Age', 'Area Income',\n",
    "                                        'Daily Internet Usage', 'Male']])"
   ]
  },
  {
   "cell_type": "code",
   "execution_count": 30,
   "id": "2220f290",
   "metadata": {
    "ExecuteTime": {
     "end_time": "2022-04-11T20:57:47.632233Z",
     "start_time": "2022-04-11T20:57:47.541482Z"
    }
   },
   "outputs": [],
   "source": [
    "adv_feat = pd.DataFrame(data = scaled_features, columns = [['Daily Time Spent on Site', 'Age', 'Area Income',\n",
    "                                        'Daily Internet Usage', 'Male']])"
   ]
  },
  {
   "cell_type": "code",
   "execution_count": 31,
   "id": "826a2c5c",
   "metadata": {
    "ExecuteTime": {
     "end_time": "2022-04-11T20:57:47.717674Z",
     "start_time": "2022-04-11T20:57:47.632233Z"
    }
   },
   "outputs": [
    {
     "data": {
      "text/html": [
       "<div>\n",
       "<style scoped>\n",
       "    .dataframe tbody tr th:only-of-type {\n",
       "        vertical-align: middle;\n",
       "    }\n",
       "\n",
       "    .dataframe tbody tr th {\n",
       "        vertical-align: top;\n",
       "    }\n",
       "\n",
       "    .dataframe thead tr th {\n",
       "        text-align: left;\n",
       "    }\n",
       "</style>\n",
       "<table border=\"1\" class=\"dataframe\">\n",
       "  <thead>\n",
       "    <tr>\n",
       "      <th></th>\n",
       "      <th>Daily Time Spent on Site</th>\n",
       "      <th>Age</th>\n",
       "      <th>Area Income</th>\n",
       "      <th>Daily Internet Usage</th>\n",
       "      <th>Male</th>\n",
       "    </tr>\n",
       "  </thead>\n",
       "  <tbody>\n",
       "    <tr>\n",
       "      <th>0</th>\n",
       "      <td>0.249267</td>\n",
       "      <td>-0.114905</td>\n",
       "      <td>0.509691</td>\n",
       "      <td>1.734030</td>\n",
       "      <td>-0.962695</td>\n",
       "    </tr>\n",
       "    <tr>\n",
       "      <th>1</th>\n",
       "      <td>0.961132</td>\n",
       "      <td>-0.570425</td>\n",
       "      <td>1.002530</td>\n",
       "      <td>0.313805</td>\n",
       "      <td>1.038750</td>\n",
       "    </tr>\n",
       "    <tr>\n",
       "      <th>2</th>\n",
       "      <td>0.282083</td>\n",
       "      <td>-1.139826</td>\n",
       "      <td>0.356949</td>\n",
       "      <td>1.287589</td>\n",
       "      <td>-0.962695</td>\n",
       "    </tr>\n",
       "    <tr>\n",
       "      <th>3</th>\n",
       "      <td>0.577432</td>\n",
       "      <td>-0.798185</td>\n",
       "      <td>-0.014456</td>\n",
       "      <td>1.501580</td>\n",
       "      <td>1.038750</td>\n",
       "    </tr>\n",
       "    <tr>\n",
       "      <th>4</th>\n",
       "      <td>0.212664</td>\n",
       "      <td>-0.114905</td>\n",
       "      <td>1.408868</td>\n",
       "      <td>1.038731</td>\n",
       "      <td>-0.962695</td>\n",
       "    </tr>\n",
       "  </tbody>\n",
       "</table>\n",
       "</div>"
      ],
      "text/plain": [
       "  Daily Time Spent on Site       Age Area Income Daily Internet Usage  \\\n",
       "0                 0.249267 -0.114905    0.509691             1.734030   \n",
       "1                 0.961132 -0.570425    1.002530             0.313805   \n",
       "2                 0.282083 -1.139826    0.356949             1.287589   \n",
       "3                 0.577432 -0.798185   -0.014456             1.501580   \n",
       "4                 0.212664 -0.114905    1.408868             1.038731   \n",
       "\n",
       "       Male  \n",
       "0 -0.962695  \n",
       "1  1.038750  \n",
       "2 -0.962695  \n",
       "3  1.038750  \n",
       "4 -0.962695  "
      ]
     },
     "execution_count": 31,
     "metadata": {},
     "output_type": "execute_result"
    }
   ],
   "source": [
    "adv_feat.head()"
   ]
  },
  {
   "cell_type": "markdown",
   "id": "b9ec3832",
   "metadata": {},
   "source": [
    "## 4.2) Separação de Dados de Treino e Teste"
   ]
  },
  {
   "cell_type": "code",
   "execution_count": 32,
   "id": "fd0dccf3",
   "metadata": {
    "ExecuteTime": {
     "end_time": "2022-04-11T20:57:47.801618Z",
     "start_time": "2022-04-11T20:57:47.717674Z"
    }
   },
   "outputs": [],
   "source": [
    "X = adv_feat\n",
    "y = adv['Clicked on Ad']"
   ]
  },
  {
   "cell_type": "code",
   "execution_count": 33,
   "id": "7c66aa9f",
   "metadata": {
    "ExecuteTime": {
     "end_time": "2022-04-11T20:57:48.532463Z",
     "start_time": "2022-04-11T20:57:47.801618Z"
    }
   },
   "outputs": [],
   "source": [
    "from sklearn.model_selection import train_test_split"
   ]
  },
  {
   "cell_type": "code",
   "execution_count": 34,
   "id": "15f331b3",
   "metadata": {
    "ExecuteTime": {
     "end_time": "2022-04-11T20:57:48.542181Z",
     "start_time": "2022-04-11T20:57:48.532463Z"
    }
   },
   "outputs": [],
   "source": [
    "X_train, X_test, y_train, y_test = train_test_split(X, y, test_size=0.2, random_state=101)"
   ]
  },
  {
   "cell_type": "markdown",
   "id": "e9ef0e5b",
   "metadata": {},
   "source": [
    "## 4.3) Treinando o Modelo"
   ]
  },
  {
   "cell_type": "code",
   "execution_count": 35,
   "id": "a5bfbd2c",
   "metadata": {
    "ExecuteTime": {
     "end_time": "2022-04-11T20:57:49.722430Z",
     "start_time": "2022-04-11T20:57:48.542281Z"
    }
   },
   "outputs": [],
   "source": [
    "from sklearn.linear_model import LogisticRegression"
   ]
  },
  {
   "cell_type": "code",
   "execution_count": 36,
   "id": "75f27feb",
   "metadata": {
    "ExecuteTime": {
     "end_time": "2022-04-11T20:57:49.741474Z",
     "start_time": "2022-04-11T20:57:49.722639Z"
    }
   },
   "outputs": [],
   "source": [
    "model = LogisticRegression()"
   ]
  },
  {
   "cell_type": "code",
   "execution_count": 37,
   "id": "fec449e6",
   "metadata": {
    "ExecuteTime": {
     "end_time": "2022-04-11T20:57:50.152538Z",
     "start_time": "2022-04-11T20:57:49.741474Z"
    }
   },
   "outputs": [
    {
     "name": "stderr",
     "output_type": "stream",
     "text": [
      "C:\\Users\\breno\\anaconda3\\envs\\dsdegree\\lib\\site-packages\\sklearn\\utils\\validation.py:1675: FutureWarning: Feature names only support names that are all strings. Got feature names with dtypes: ['tuple']. An error will be raised in 1.2.\n",
      "  warnings.warn(\n"
     ]
    },
    {
     "data": {
      "text/plain": [
       "LogisticRegression()"
      ]
     },
     "execution_count": 37,
     "metadata": {},
     "output_type": "execute_result"
    }
   ],
   "source": [
    "model.fit(X_train, y_train)"
   ]
  },
  {
   "cell_type": "markdown",
   "id": "cac15f0e",
   "metadata": {},
   "source": [
    "## 4.4) Predições do Modelo"
   ]
  },
  {
   "cell_type": "code",
   "execution_count": 38,
   "id": "1354250b",
   "metadata": {
    "ExecuteTime": {
     "end_time": "2022-04-11T20:57:50.171288Z",
     "start_time": "2022-04-11T20:57:50.152538Z"
    }
   },
   "outputs": [
    {
     "name": "stderr",
     "output_type": "stream",
     "text": [
      "C:\\Users\\breno\\anaconda3\\envs\\dsdegree\\lib\\site-packages\\sklearn\\utils\\validation.py:1675: FutureWarning: Feature names only support names that are all strings. Got feature names with dtypes: ['tuple']. An error will be raised in 1.2.\n",
      "  warnings.warn(\n"
     ]
    }
   ],
   "source": [
    "pred = model.predict(X_test)"
   ]
  },
  {
   "cell_type": "markdown",
   "id": "532dd343",
   "metadata": {},
   "source": [
    "## 4.5) Avaliando o Modelo"
   ]
  },
  {
   "cell_type": "markdown",
   "id": "68737b53",
   "metadata": {},
   "source": [
    "### 4.5.1) Test Size = 0.2"
   ]
  },
  {
   "cell_type": "code",
   "execution_count": 39,
   "id": "1046cbfa",
   "metadata": {
    "ExecuteTime": {
     "end_time": "2022-04-11T20:57:50.277087Z",
     "start_time": "2022-04-11T20:57:50.171288Z"
    }
   },
   "outputs": [],
   "source": [
    "from sklearn.metrics import confusion_matrix, classification_report"
   ]
  },
  {
   "cell_type": "code",
   "execution_count": 40,
   "id": "41afa766",
   "metadata": {
    "ExecuteTime": {
     "end_time": "2022-04-11T20:57:50.385555Z",
     "start_time": "2022-04-11T20:57:50.277087Z"
    }
   },
   "outputs": [
    {
     "name": "stdout",
     "output_type": "stream",
     "text": [
      "[[105   0]\n",
      " [  4  91]]\n",
      "\n",
      "\n",
      "              precision    recall  f1-score   support\n",
      "\n",
      "           0       0.96      1.00      0.98       105\n",
      "           1       1.00      0.96      0.98        95\n",
      "\n",
      "    accuracy                           0.98       200\n",
      "   macro avg       0.98      0.98      0.98       200\n",
      "weighted avg       0.98      0.98      0.98       200\n",
      "\n"
     ]
    }
   ],
   "source": [
    "print(confusion_matrix(y_test, pred))\n",
    "print('\\n')\n",
    "print(classification_report(y_test, pred))"
   ]
  },
  {
   "cell_type": "markdown",
   "id": "085b84b1",
   "metadata": {},
   "source": [
    "### Curva ROC"
   ]
  },
  {
   "cell_type": "code",
   "execution_count": 41,
   "id": "bcdafbc8",
   "metadata": {
    "ExecuteTime": {
     "end_time": "2022-04-11T20:57:50.461413Z",
     "start_time": "2022-04-11T20:57:50.385555Z"
    }
   },
   "outputs": [],
   "source": [
    "from sklearn.metrics import roc_curve"
   ]
  },
  {
   "cell_type": "code",
   "execution_count": 42,
   "id": "6dc74954",
   "metadata": {
    "ExecuteTime": {
     "end_time": "2022-04-11T20:57:50.541357Z",
     "start_time": "2022-04-11T20:57:50.461413Z"
    }
   },
   "outputs": [],
   "source": [
    "from sklearn.metrics import roc_auc_score"
   ]
  },
  {
   "cell_type": "code",
   "execution_count": 43,
   "id": "b7fc7f8d",
   "metadata": {
    "ExecuteTime": {
     "end_time": "2022-04-11T20:57:50.813271Z",
     "start_time": "2022-04-11T20:57:50.541357Z"
    }
   },
   "outputs": [
    {
     "name": "stdout",
     "output_type": "stream",
     "text": [
      "ROC AUC : 0.9789\n"
     ]
    },
    {
     "data": {
      "image/png": "[encoded data removed]",
      "text/plain": [
       "<Figure size 1080x576 with 1 Axes>"
      ]
     },
     "metadata": {},
     "output_type": "display_data"
    }
   ],
   "source": [
    "fpr, tpr, thresholds = roc_curve(y_test, pred, pos_label = True)\n",
    "\n",
    "plt.figure(figsize=(15,8))\n",
    "\n",
    "plt.plot(fpr, tpr, linewidth=2)\n",
    "plt.plot([0,1], [0,1], 'k--' )\n",
    "\n",
    "plt.rcParams['font.size'] = 12\n",
    "plt.title('ROC curve for Clicked on Ad Classifier')\n",
    "plt.xlabel('False Positive Rate (1 - Specificity)')\n",
    "plt.ylabel('True Positive Rate (Sensitivity)')\n",
    "\n",
    "ROC_AUC = roc_auc_score(y_test, pred)\n",
    "\n",
    "print('ROC AUC : {:.4f}'.format(ROC_AUC))"
   ]
  },
  {
   "cell_type": "markdown",
   "id": "714b6290",
   "metadata": {},
   "source": [
    "### 4.5.2) Test Size = 0.3"
   ]
  },
  {
   "cell_type": "code",
   "execution_count": 44,
   "id": "744a7bc6",
   "metadata": {
    "ExecuteTime": {
     "end_time": "2022-04-11T20:57:50.832419Z",
     "start_time": "2022-04-11T20:57:50.813271Z"
    }
   },
   "outputs": [],
   "source": [
    "X_train, X_test, y_train, y_test = train_test_split(X, y, test_size=0.3, random_state=101)"
   ]
  },
  {
   "cell_type": "code",
   "execution_count": 45,
   "id": "03eeadd0",
   "metadata": {
    "ExecuteTime": {
     "end_time": "2022-04-11T20:57:50.921534Z",
     "start_time": "2022-04-11T20:57:50.832419Z"
    }
   },
   "outputs": [
    {
     "name": "stdout",
     "output_type": "stream",
     "text": [
      "[[155   2]\n",
      " [  5 138]]\n",
      "\n",
      "\n",
      "              precision    recall  f1-score   support\n",
      "\n",
      "           0       0.97      0.99      0.98       157\n",
      "           1       0.99      0.97      0.98       143\n",
      "\n",
      "    accuracy                           0.98       300\n",
      "   macro avg       0.98      0.98      0.98       300\n",
      "weighted avg       0.98      0.98      0.98       300\n",
      "\n"
     ]
    },
    {
     "name": "stderr",
     "output_type": "stream",
     "text": [
      "C:\\Users\\breno\\anaconda3\\envs\\dsdegree\\lib\\site-packages\\sklearn\\utils\\validation.py:1675: FutureWarning: Feature names only support names that are all strings. Got feature names with dtypes: ['tuple']. An error will be raised in 1.2.\n",
      "  warnings.warn(\n",
      "C:\\Users\\breno\\anaconda3\\envs\\dsdegree\\lib\\site-packages\\sklearn\\utils\\validation.py:1675: FutureWarning: Feature names only support names that are all strings. Got feature names with dtypes: ['tuple']. An error will be raised in 1.2.\n",
      "  warnings.warn(\n"
     ]
    }
   ],
   "source": [
    "model = LogisticRegression()\n",
    "model.fit(X_train, y_train)\n",
    "pred = model.predict(X_test)\n",
    "\n",
    "print(confusion_matrix(y_test, pred))\n",
    "print('\\n')\n",
    "print(classification_report(y_test, pred))"
   ]
  },
  {
   "cell_type": "markdown",
   "id": "8fafd2a1",
   "metadata": {},
   "source": [
    "### Curva ROC"
   ]
  },
  {
   "cell_type": "code",
   "execution_count": 46,
   "id": "3356aa44",
   "metadata": {
    "ExecuteTime": {
     "end_time": "2022-04-11T20:57:51.148353Z",
     "start_time": "2022-04-11T20:57:50.921534Z"
    }
   },
   "outputs": [
    {
     "name": "stdout",
     "output_type": "stream",
     "text": [
      "ROC AUC : 0.9761\n"
     ]
    },
    {
     "data": {
      "image/png": "[encoded data removed]",
      "text/plain": [
       "<Figure size 1080x576 with 1 Axes>"
      ]
     },
     "metadata": {},
     "output_type": "display_data"
    }
   ],
   "source": [
    "Rfpr, tpr, thresholds = roc_curve(y_test, pred, pos_label = True)\n",
    "\n",
    "plt.figure(figsize=(15,8))\n",
    "\n",
    "plt.plot(fpr, tpr, linewidth=2)\n",
    "plt.plot([0,1], [0,1], 'k--' )\n",
    "\n",
    "plt.rcParams['font.size'] = 12\n",
    "plt.title('ROC curve for Clicked on Ad Classifier')\n",
    "plt.xlabel('False Positive Rate (1 - Specificity)')\n",
    "plt.ylabel('True Positive Rate (Sensitivity)')\n",
    "\n",
    "ROC_AUC = roc_auc_score(y_test, pred)\n",
    "\n",
    "print('ROC AUC : {:.4f}'.format(ROC_AUC))"
   ]
  },
  {
   "cell_type": "markdown",
   "id": "a5bafeab",
   "metadata": {},
   "source": [
    "## 5) Conclusões💯\n",
    "* Os resultados __indicam__ que o __Modelo de Regressão Logística__ é um __excelente__ preditor se um consumidor clicaria ou não em um anúncio da empresa.\n",
    "\n",
    "\n",
    "* Os resultados __também__ indicam as seguintes relações:  \n",
    "  \n",
    "  1) Quanto __maior__ o Tempo Diário de Uso de Internet, __menor__ a chance de clicar no anúncio.  \n",
    "  2) Quanto __maior__ o Tempo de Permanência no Site, __menor__ a chance de clicar no anúncio.  \n",
    "  3) Quanto __maior__ a Renda da Região, __menor__ a chance de clicar no anúncio.  \n",
    "  4) Quanto__maior__ a Idade, __maior__ a chance de clicar no anúncio.  \n",
    "  5) __Gênero__ não se mostrou um bom preditor de clicar no anúncio ou não. \n",
    "\n",
    "\n",
    "* Se o __objetivo da empresa__ for atingir __adultos__, de __regiões de baixa renda__ e __independete do gênero__ dos consumidores, o anúncio __performou bem__.\n",
    "\n",
    "\n",
    "* __No entanto__, se o objetivo da empresa for atingir qualquer um dos grupos abaixo, individualmente ou combinados entre si:\n",
    "\n",
    "  1) Especificamente __consumidores jovens__  \n",
    "  2) Especificamente __homens__  \n",
    "  3) Especificamente __mulheres__  \n",
    "  4) Especificamente __consumidores de regiões de alta renda__\n",
    "\n",
    "\n",
    "* O anúncio __não demonstra__ converter os consumidores com as __características desejadas__."
   ]
  }
 ],
 "metadata": {
  "kernelspec": {
   "display_name": "Python 3 (ipykernel)",
   "language": "python",
   "name": "python3"
  },
  "language_info": {
   "codemirror_mode": {
    "name": "ipython",
    "version": 3
   },
   "file_extension": ".py",
   "mimetype": "text/x-python",
   "name": "python",
   "nbconvert_exporter": "python",
   "pygments_lexer": "ipython3",
   "version": "3.9.5"
  },
  "varInspector": {
   "cols": {
    "lenName": 16,
    "lenType": 16,
    "lenVar": 40
   },
   "kernels_config": {
    "python": {
     "delete_cmd_postfix": "",
     "delete_cmd_prefix": "del ",
     "library": "var_list.py",
     "varRefreshCmd": "print(var_dic_list())"
    },
    "r": {
     "delete_cmd_postfix": ") ",
     "delete_cmd_prefix": "rm(",
     "library": "var_list.r",
     "varRefreshCmd": "cat(var_dic_list()) "
    }
   },
   "types_to_exclude": [
    "module",
    "function",
    "builtin_function_or_method",
    "instance",
    "_Feature"
   ],
   "window_display": false
  }
 },
 "nbformat": 4,
 "nbformat_minor": 5
}
