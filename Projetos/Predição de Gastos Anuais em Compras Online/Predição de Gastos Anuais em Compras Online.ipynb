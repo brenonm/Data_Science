{
 "cells": [
  {
   "cell_type": "markdown",
   "id": "83c967e0",
   "metadata": {},
   "source": [
    "# Compras, Compras, Compras! - Análise de E-commerce\n",
    "\n",
    "Uma empresa de e-commerce cedeu gentilmente dados sobre seus usuários e seus respectivos padrões de consumo. A empresa está tentando decidir entre focar esforços em sua experiência mobile ou em seu website. \n",
    "\n",
    "A base conta com dados como e-mail do consumidor, avatar, endereço, entre outros. O objetivo do projeto é criar um modelo que seja capaz de quantificar o peso de cada variável no padrão de consumo dos clientes. As variáveis disponíveis são:\n",
    "\n",
    "* __Email__: E-mail do consumidor\n",
    "* __Address__: Endereço do consumidor\n",
    "* __Avatar__: Tom de cor do perfil do consumidor\n",
    "* __Avg. Session Length__: Tempo médio de sessão consultiva, em minutos\n",
    "* __Time on App__: Tempo médio de navegação no app, em minutos\n",
    "* __Time on Website__: Tempo médio de navegação no website, em minutos\n",
    "* __Length of Membership__: Tempo de Filiação, em anos\n",
    "* __Yearly Amount Spent__: Consumo anual na empresa tanto mobile quanto website, em dólares"
   ]
  },
  {
   "cell_type": "markdown",
   "id": "07edbe6f",
   "metadata": {},
   "source": [
    "# 1) Imports"
   ]
  },
  {
   "cell_type": "code",
   "execution_count": 1,
   "id": "4582fc7f",
   "metadata": {
    "ExecuteTime": {
     "end_time": "2022-04-12T21:00:36.976225Z",
     "start_time": "2022-04-12T21:00:19.785980Z"
    }
   },
   "outputs": [],
   "source": [
    "import pandas as pd\n",
    "import numpy as np\n",
    "import matplotlib.pyplot as plt\n",
    "import seaborn as sns"
   ]
  },
  {
   "cell_type": "code",
   "execution_count": 2,
   "id": "53584666",
   "metadata": {
    "ExecuteTime": {
     "end_time": "2022-04-12T21:00:57.448432Z",
     "start_time": "2022-04-12T21:00:57.439679Z"
    }
   },
   "outputs": [],
   "source": [
    "%matplotlib inline"
   ]
  },
  {
   "cell_type": "code",
   "execution_count": 3,
   "id": "fb34f257",
   "metadata": {
    "ExecuteTime": {
     "end_time": "2022-04-12T21:00:57.703044Z",
     "start_time": "2022-04-12T21:00:57.694998Z"
    }
   },
   "outputs": [],
   "source": [
    "sns.set_style('whitegrid')"
   ]
  },
  {
   "cell_type": "markdown",
   "id": "0110cb60",
   "metadata": {},
   "source": [
    "# 2) Obtendo os Dados"
   ]
  },
  {
   "cell_type": "code",
   "execution_count": 4,
   "id": "1e5c7d37",
   "metadata": {
    "ExecuteTime": {
     "end_time": "2022-04-12T21:00:58.849527Z",
     "start_time": "2022-04-12T21:00:58.543188Z"
    }
   },
   "outputs": [],
   "source": [
    "customers = pd.read_csv('Ecommerce Customers')"
   ]
  },
  {
   "cell_type": "code",
   "execution_count": 5,
   "id": "bc1952fd",
   "metadata": {
    "ExecuteTime": {
     "end_time": "2022-04-12T21:00:59.110691Z",
     "start_time": "2022-04-12T21:00:59.063358Z"
    }
   },
   "outputs": [
    {
     "data": {
      "text/html": [
       "<div>\n",
       "<style scoped>\n",
       "    .dataframe tbody tr th:only-of-type {\n",
       "        vertical-align: middle;\n",
       "    }\n",
       "\n",
       "    .dataframe tbody tr th {\n",
       "        vertical-align: top;\n",
       "    }\n",
       "\n",
       "    .dataframe thead th {\n",
       "        text-align: right;\n",
       "    }\n",
       "</style>\n",
       "<table border=\"1\" class=\"dataframe\">\n",
       "  <thead>\n",
       "    <tr style=\"text-align: right;\">\n",
       "      <th></th>\n",
       "      <th>Email</th>\n",
       "      <th>Address</th>\n",
       "      <th>Avatar</th>\n",
       "      <th>Avg. Session Length</th>\n",
       "      <th>Time on App</th>\n",
       "      <th>Time on Website</th>\n",
       "      <th>Length of Membership</th>\n",
       "      <th>Yearly Amount Spent</th>\n",
       "    </tr>\n",
       "  </thead>\n",
       "  <tbody>\n",
       "    <tr>\n",
       "      <th>0</th>\n",
       "      <td>mstephenson@fernandez.com</td>\n",
       "      <td>835 Frank Tunnel\\nWrightmouth, MI 82180-9605</td>\n",
       "      <td>Violet</td>\n",
       "      <td>34.497268</td>\n",
       "      <td>12.655651</td>\n",
       "      <td>39.577668</td>\n",
       "      <td>4.082621</td>\n",
       "      <td>587.951054</td>\n",
       "    </tr>\n",
       "    <tr>\n",
       "      <th>1</th>\n",
       "      <td>hduke@hotmail.com</td>\n",
       "      <td>4547 Archer Common\\nDiazchester, CA 06566-8576</td>\n",
       "      <td>DarkGreen</td>\n",
       "      <td>31.926272</td>\n",
       "      <td>11.109461</td>\n",
       "      <td>37.268959</td>\n",
       "      <td>2.664034</td>\n",
       "      <td>392.204933</td>\n",
       "    </tr>\n",
       "    <tr>\n",
       "      <th>2</th>\n",
       "      <td>pallen@yahoo.com</td>\n",
       "      <td>24645 Valerie Unions Suite 582\\nCobbborough, D...</td>\n",
       "      <td>Bisque</td>\n",
       "      <td>33.000915</td>\n",
       "      <td>11.330278</td>\n",
       "      <td>37.110597</td>\n",
       "      <td>4.104543</td>\n",
       "      <td>487.547505</td>\n",
       "    </tr>\n",
       "    <tr>\n",
       "      <th>3</th>\n",
       "      <td>riverarebecca@gmail.com</td>\n",
       "      <td>1414 David Throughway\\nPort Jason, OH 22070-1220</td>\n",
       "      <td>SaddleBrown</td>\n",
       "      <td>34.305557</td>\n",
       "      <td>13.717514</td>\n",
       "      <td>36.721283</td>\n",
       "      <td>3.120179</td>\n",
       "      <td>581.852344</td>\n",
       "    </tr>\n",
       "    <tr>\n",
       "      <th>4</th>\n",
       "      <td>mstephens@davidson-herman.com</td>\n",
       "      <td>14023 Rodriguez Passage\\nPort Jacobville, PR 3...</td>\n",
       "      <td>MediumAquaMarine</td>\n",
       "      <td>33.330673</td>\n",
       "      <td>12.795189</td>\n",
       "      <td>37.536653</td>\n",
       "      <td>4.446308</td>\n",
       "      <td>599.406092</td>\n",
       "    </tr>\n",
       "  </tbody>\n",
       "</table>\n",
       "</div>"
      ],
      "text/plain": [
       "                           Email  \\\n",
       "0      mstephenson@fernandez.com   \n",
       "1              hduke@hotmail.com   \n",
       "2               pallen@yahoo.com   \n",
       "3        riverarebecca@gmail.com   \n",
       "4  mstephens@davidson-herman.com   \n",
       "\n",
       "                                             Address            Avatar  \\\n",
       "0       835 Frank Tunnel\\nWrightmouth, MI 82180-9605            Violet   \n",
       "1     4547 Archer Common\\nDiazchester, CA 06566-8576         DarkGreen   \n",
       "2  24645 Valerie Unions Suite 582\\nCobbborough, D...            Bisque   \n",
       "3   1414 David Throughway\\nPort Jason, OH 22070-1220       SaddleBrown   \n",
       "4  14023 Rodriguez Passage\\nPort Jacobville, PR 3...  MediumAquaMarine   \n",
       "\n",
       "   Avg. Session Length  Time on App  Time on Website  Length of Membership  \\\n",
       "0            34.497268    12.655651        39.577668              4.082621   \n",
       "1            31.926272    11.109461        37.268959              2.664034   \n",
       "2            33.000915    11.330278        37.110597              4.104543   \n",
       "3            34.305557    13.717514        36.721283              3.120179   \n",
       "4            33.330673    12.795189        37.536653              4.446308   \n",
       "\n",
       "   Yearly Amount Spent  \n",
       "0           587.951054  \n",
       "1           392.204933  \n",
       "2           487.547505  \n",
       "3           581.852344  \n",
       "4           599.406092  "
      ]
     },
     "execution_count": 5,
     "metadata": {},
     "output_type": "execute_result"
    }
   ],
   "source": [
    "customers.head()"
   ]
  },
  {
   "cell_type": "markdown",
   "id": "60cbe2dc",
   "metadata": {},
   "source": [
    "# 2.1) Conteúdo das Variáveis"
   ]
  },
  {
   "cell_type": "code",
   "execution_count": 6,
   "id": "a561a909",
   "metadata": {
    "ExecuteTime": {
     "end_time": "2022-04-12T21:01:02.823344Z",
     "start_time": "2022-04-12T21:01:02.654609Z"
    }
   },
   "outputs": [
    {
     "name": "stdout",
     "output_type": "stream",
     "text": [
      "<class 'pandas.core.frame.DataFrame'>\n",
      "RangeIndex: 500 entries, 0 to 499\n",
      "Data columns (total 8 columns):\n",
      " #   Column                Non-Null Count  Dtype  \n",
      "---  ------                --------------  -----  \n",
      " 0   Email                 500 non-null    object \n",
      " 1   Address               500 non-null    object \n",
      " 2   Avatar                500 non-null    object \n",
      " 3   Avg. Session Length   500 non-null    float64\n",
      " 4   Time on App           500 non-null    float64\n",
      " 5   Time on Website       500 non-null    float64\n",
      " 6   Length of Membership  500 non-null    float64\n",
      " 7   Yearly Amount Spent   500 non-null    float64\n",
      "dtypes: float64(5), object(3)\n",
      "memory usage: 31.4+ KB\n"
     ]
    }
   ],
   "source": [
    "customers.info()"
   ]
  },
  {
   "cell_type": "code",
   "execution_count": 7,
   "id": "ff41aa62",
   "metadata": {
    "ExecuteTime": {
     "end_time": "2022-04-12T21:01:05.972406Z",
     "start_time": "2022-04-12T21:01:05.903830Z"
    }
   },
   "outputs": [
    {
     "data": {
      "text/html": [
       "<div>\n",
       "<style scoped>\n",
       "    .dataframe tbody tr th:only-of-type {\n",
       "        vertical-align: middle;\n",
       "    }\n",
       "\n",
       "    .dataframe tbody tr th {\n",
       "        vertical-align: top;\n",
       "    }\n",
       "\n",
       "    .dataframe thead th {\n",
       "        text-align: right;\n",
       "    }\n",
       "</style>\n",
       "<table border=\"1\" class=\"dataframe\">\n",
       "  <thead>\n",
       "    <tr style=\"text-align: right;\">\n",
       "      <th></th>\n",
       "      <th>Avg. Session Length</th>\n",
       "      <th>Time on App</th>\n",
       "      <th>Time on Website</th>\n",
       "      <th>Length of Membership</th>\n",
       "      <th>Yearly Amount Spent</th>\n",
       "    </tr>\n",
       "  </thead>\n",
       "  <tbody>\n",
       "    <tr>\n",
       "      <th>count</th>\n",
       "      <td>500.000000</td>\n",
       "      <td>500.000000</td>\n",
       "      <td>500.000000</td>\n",
       "      <td>500.000000</td>\n",
       "      <td>500.000000</td>\n",
       "    </tr>\n",
       "    <tr>\n",
       "      <th>mean</th>\n",
       "      <td>33.053194</td>\n",
       "      <td>12.052488</td>\n",
       "      <td>37.060445</td>\n",
       "      <td>3.533462</td>\n",
       "      <td>499.314038</td>\n",
       "    </tr>\n",
       "    <tr>\n",
       "      <th>std</th>\n",
       "      <td>0.992563</td>\n",
       "      <td>0.994216</td>\n",
       "      <td>1.010489</td>\n",
       "      <td>0.999278</td>\n",
       "      <td>79.314782</td>\n",
       "    </tr>\n",
       "    <tr>\n",
       "      <th>min</th>\n",
       "      <td>29.532429</td>\n",
       "      <td>8.508152</td>\n",
       "      <td>33.913847</td>\n",
       "      <td>0.269901</td>\n",
       "      <td>256.670582</td>\n",
       "    </tr>\n",
       "    <tr>\n",
       "      <th>25%</th>\n",
       "      <td>32.341822</td>\n",
       "      <td>11.388153</td>\n",
       "      <td>36.349257</td>\n",
       "      <td>2.930450</td>\n",
       "      <td>445.038277</td>\n",
       "    </tr>\n",
       "    <tr>\n",
       "      <th>50%</th>\n",
       "      <td>33.082008</td>\n",
       "      <td>11.983231</td>\n",
       "      <td>37.069367</td>\n",
       "      <td>3.533975</td>\n",
       "      <td>498.887875</td>\n",
       "    </tr>\n",
       "    <tr>\n",
       "      <th>75%</th>\n",
       "      <td>33.711985</td>\n",
       "      <td>12.753850</td>\n",
       "      <td>37.716432</td>\n",
       "      <td>4.126502</td>\n",
       "      <td>549.313828</td>\n",
       "    </tr>\n",
       "    <tr>\n",
       "      <th>max</th>\n",
       "      <td>36.139662</td>\n",
       "      <td>15.126994</td>\n",
       "      <td>40.005182</td>\n",
       "      <td>6.922689</td>\n",
       "      <td>765.518462</td>\n",
       "    </tr>\n",
       "  </tbody>\n",
       "</table>\n",
       "</div>"
      ],
      "text/plain": [
       "       Avg. Session Length  Time on App  Time on Website  \\\n",
       "count           500.000000   500.000000       500.000000   \n",
       "mean             33.053194    12.052488        37.060445   \n",
       "std               0.992563     0.994216         1.010489   \n",
       "min              29.532429     8.508152        33.913847   \n",
       "25%              32.341822    11.388153        36.349257   \n",
       "50%              33.082008    11.983231        37.069367   \n",
       "75%              33.711985    12.753850        37.716432   \n",
       "max              36.139662    15.126994        40.005182   \n",
       "\n",
       "       Length of Membership  Yearly Amount Spent  \n",
       "count            500.000000           500.000000  \n",
       "mean               3.533462           499.314038  \n",
       "std                0.999278            79.314782  \n",
       "min                0.269901           256.670582  \n",
       "25%                2.930450           445.038277  \n",
       "50%                3.533975           498.887875  \n",
       "75%                4.126502           549.313828  \n",
       "max                6.922689           765.518462  "
      ]
     },
     "execution_count": 7,
     "metadata": {},
     "output_type": "execute_result"
    }
   ],
   "source": [
    "# numeric variables overview\n",
    "customers.describe()"
   ]
  },
  {
   "cell_type": "markdown",
   "id": "bdb9eda1",
   "metadata": {},
   "source": [
    "# 2.2) Checar Dados Faltantes ou Duplicados"
   ]
  },
  {
   "cell_type": "code",
   "execution_count": 10,
   "id": "d0b6d631",
   "metadata": {
    "ExecuteTime": {
     "end_time": "2022-04-12T21:01:51.068743Z",
     "start_time": "2022-04-12T21:01:50.890115Z"
    }
   },
   "outputs": [
    {
     "data": {
      "text/plain": [
       "<AxesSubplot:>"
      ]
     },
     "execution_count": 10,
     "metadata": {},
     "output_type": "execute_result"
    },
    {
     "data": {
      "image/png": "[encoded data removed]",
      "text/plain": [
       "<Figure size 432x288 with 1 Axes>"
      ]
     },
     "metadata": {},
     "output_type": "display_data"
    }
   ],
   "source": [
    "sns.heatmap(data = customers.isnull(), yticklabels = False, cbar = False, cmap = 'viridis')"
   ]
  },
  {
   "cell_type": "markdown",
   "id": "83d82477",
   "metadata": {},
   "source": [
    "* Sem dados faltantes."
   ]
  },
  {
   "cell_type": "code",
   "execution_count": 12,
   "id": "5b592e1b",
   "metadata": {
    "ExecuteTime": {
     "end_time": "2022-04-12T21:02:35.489834Z",
     "start_time": "2022-04-12T21:02:35.480489Z"
    }
   },
   "outputs": [
    {
     "data": {
      "text/plain": [
       "False    500\n",
       "dtype: int64"
      ]
     },
     "execution_count": 12,
     "metadata": {},
     "output_type": "execute_result"
    }
   ],
   "source": [
    "customers.duplicated().value_counts()"
   ]
  },
  {
   "cell_type": "markdown",
   "id": "4d8391df",
   "metadata": {
    "cell_style": "center"
   },
   "source": [
    "* Sem dados duplicados."
   ]
  },
  {
   "cell_type": "markdown",
   "id": "85e8f813",
   "metadata": {},
   "source": [
    "# 3) Análise Exploratória dos Dados"
   ]
  },
  {
   "cell_type": "markdown",
   "id": "d6d035ab",
   "metadata": {},
   "source": [
    "## 3.1) Variáveis Numéricas"
   ]
  },
  {
   "cell_type": "markdown",
   "id": "82af8348",
   "metadata": {},
   "source": [
    "## 3.1.1) Avg. Session Length vs Yearly Amount Spent"
   ]
  },
  {
   "cell_type": "code",
   "execution_count": 13,
   "id": "b22dbfd7",
   "metadata": {
    "ExecuteTime": {
     "end_time": "2022-04-12T21:04:14.550136Z",
     "start_time": "2022-04-12T21:04:14.131913Z"
    }
   },
   "outputs": [
    {
     "data": {
      "text/plain": [
       "<seaborn.axisgrid.JointGrid at 0x22ec75421c0>"
      ]
     },
     "execution_count": 13,
     "metadata": {},
     "output_type": "execute_result"
    },
    {
     "data": {
      "image/png": "[encoded data removed]",
      "text/plain": [
       "<Figure size 432x432 with 3 Axes>"
      ]
     },
     "metadata": {},
     "output_type": "display_data"
    }
   ],
   "source": [
    "sns.jointplot(data = customers, x = 'Avg. Session Length', y = 'Yearly Amount Spent')"
   ]
  },
  {
   "cell_type": "code",
   "execution_count": 16,
   "id": "044d2602",
   "metadata": {
    "ExecuteTime": {
     "end_time": "2022-04-12T21:06:39.151222Z",
     "start_time": "2022-04-12T21:06:39.137405Z"
    }
   },
   "outputs": [
    {
     "data": {
      "text/plain": [
       "0.355088294707643"
      ]
     },
     "execution_count": 16,
     "metadata": {},
     "output_type": "execute_result"
    }
   ],
   "source": [
    "customers['Avg. Session Length'].corr(customers['Yearly Amount Spent'])"
   ]
  },
  {
   "cell_type": "markdown",
   "id": "6d8dfa0e",
   "metadata": {},
   "source": [
    "* Dados indicam baixa correlação positiva entre Tempo Médio de Sessão Consultiva e Consumo Anual."
   ]
  },
  {
   "cell_type": "markdown",
   "id": "fa9b4457",
   "metadata": {},
   "source": [
    "* Em outras palavras, quanto maior o Tempo Médio de Sessão Consultiva, maior a chance de ter consumido mais."
   ]
  },
  {
   "cell_type": "markdown",
   "id": "259ab820",
   "metadata": {},
   "source": [
    "## 3.1.2) Time on App vs Yearly Amount Spent"
   ]
  },
  {
   "cell_type": "code",
   "execution_count": 18,
   "id": "ff6e41db",
   "metadata": {
    "ExecuteTime": {
     "end_time": "2022-04-12T21:10:55.323445Z",
     "start_time": "2022-04-12T21:10:54.947748Z"
    }
   },
   "outputs": [
    {
     "data": {
      "text/plain": [
       "<seaborn.axisgrid.JointGrid at 0x22ed2b01520>"
      ]
     },
     "execution_count": 18,
     "metadata": {},
     "output_type": "execute_result"
    },
    {
     "data": {
      "image/png": "[encoded data removed]",
      "text/plain": [
       "<Figure size 432x432 with 3 Axes>"
      ]
     },
     "metadata": {},
     "output_type": "display_data"
    }
   ],
   "source": [
    "sns.jointplot(data = customers, x = 'Time on App', y = 'Yearly Amount Spent')"
   ]
  },
  {
   "cell_type": "code",
   "execution_count": 20,
   "id": "7436cc4e",
   "metadata": {
    "ExecuteTime": {
     "end_time": "2022-04-12T21:11:40.404075Z",
     "start_time": "2022-04-12T21:11:40.388384Z"
    }
   },
   "outputs": [
    {
     "data": {
      "text/plain": [
       "0.49932777005345036"
      ]
     },
     "execution_count": 20,
     "metadata": {},
     "output_type": "execute_result"
    }
   ],
   "source": [
    "customers['Time on App'].corr(customers['Yearly Amount Spent'])"
   ]
  },
  {
   "cell_type": "markdown",
   "id": "dbd347f3",
   "metadata": {},
   "source": [
    "* Dados indicam correlação positiva moderada entre Tempo de Navegação no App e Consumo Anual."
   ]
  },
  {
   "cell_type": "markdown",
   "id": "c7e209c2",
   "metadata": {},
   "source": [
    "* Em outras palavras, quanto maior o Tempo de Navegação no App, maior a chance de ter consumido mais."
   ]
  },
  {
   "cell_type": "markdown",
   "id": "c005d3d7",
   "metadata": {},
   "source": [
    "## 3.1.3) Time on Website vs Yearly Amount Spent"
   ]
  },
  {
   "cell_type": "code",
   "execution_count": 21,
   "id": "4f46a0b1",
   "metadata": {
    "ExecuteTime": {
     "end_time": "2022-04-12T21:13:10.815454Z",
     "start_time": "2022-04-12T21:13:10.460220Z"
    }
   },
   "outputs": [
    {
     "data": {
      "text/plain": [
       "<seaborn.axisgrid.JointGrid at 0x22ed2ca5cd0>"
      ]
     },
     "execution_count": 21,
     "metadata": {},
     "output_type": "execute_result"
    },
    {
     "data": {
      "image/png": "[encoded data removed]",
      "text/plain": [
       "<Figure size 432x432 with 3 Axes>"
      ]
     },
     "metadata": {},
     "output_type": "display_data"
    }
   ],
   "source": [
    "sns.jointplot(data = customers, x = 'Time on Website', y = 'Yearly Amount Spent')"
   ]
  },
  {
   "cell_type": "code",
   "execution_count": 23,
   "id": "191b4f5c",
   "metadata": {
    "ExecuteTime": {
     "end_time": "2022-04-12T21:13:39.824461Z",
     "start_time": "2022-04-12T21:13:39.813154Z"
    }
   },
   "outputs": [
    {
     "data": {
      "text/plain": [
       "-0.0026408446721588536"
      ]
     },
     "execution_count": 23,
     "metadata": {},
     "output_type": "execute_result"
    }
   ],
   "source": [
    "customers['Time on Website'].corr(customers['Yearly Amount Spent'])"
   ]
  },
  {
   "cell_type": "markdown",
   "id": "57edd084",
   "metadata": {},
   "source": [
    "* Dados indicam correlação irrelevante entre Tempo de Navegação no Website e Consumo Anual."
   ]
  },
  {
   "cell_type": "markdown",
   "id": "96bb34c1",
   "metadata": {},
   "source": [
    "* Em outras palavras, o Tempo de Navegação no Website não é um bom preditor do consumo anual de um consumidor."
   ]
  },
  {
   "cell_type": "markdown",
   "id": "78e5d5a2",
   "metadata": {},
   "source": [
    "## 3.1.4) Length of Membership vs Yearly Amount Spent"
   ]
  },
  {
   "cell_type": "code",
   "execution_count": 24,
   "id": "cfddfd36",
   "metadata": {
    "ExecuteTime": {
     "end_time": "2022-04-12T21:15:15.646130Z",
     "start_time": "2022-04-12T21:15:15.269861Z"
    }
   },
   "outputs": [
    {
     "data": {
      "image/png": "[encoded data removed]",
      "text/plain": [
       "<Figure size 432x432 with 3 Axes>"
      ]
     },
     "metadata": {},
     "output_type": "display_data"
    }
   ],
   "source": [
    "g = sns.jointplot(data = customers, x = 'Length of Membership', y = 'Yearly Amount Spent')\n",
    "g.fig.suptitle('Length of Membership (years) x Yearly Amount Spent ($)', weight = 'bold', fontsize = 15)\n",
    "g.fig.subplots_adjust(top=0.90)"
   ]
  },
  {
   "cell_type": "code",
   "execution_count": 25,
   "id": "46d1999d",
   "metadata": {
    "ExecuteTime": {
     "end_time": "2022-04-12T21:15:50.955350Z",
     "start_time": "2022-04-12T21:15:50.942126Z"
    }
   },
   "outputs": [
    {
     "data": {
      "text/plain": [
       "0.8090835682475813"
      ]
     },
     "execution_count": 25,
     "metadata": {},
     "output_type": "execute_result"
    }
   ],
   "source": [
    "customers['Length of Membership'].corr(customers['Yearly Amount Spent'])"
   ]
  },
  {
   "cell_type": "markdown",
   "id": "cbbbceb4",
   "metadata": {},
   "source": [
    "* Dados indicam forte correlação positiva entre Tempo de Filiação e Consumo Anual."
   ]
  },
  {
   "cell_type": "markdown",
   "id": "7a910f55",
   "metadata": {},
   "source": [
    "* Em outras palavras, quanto maior o Tempo de Filiação, maior a chance de ter consumido mais."
   ]
  },
  {
   "cell_type": "markdown",
   "id": "fe92ef9b",
   "metadata": {},
   "source": [
    "# 3.2) Variáveis Categóricas"
   ]
  },
  {
   "cell_type": "code",
   "execution_count": 26,
   "id": "08603f74",
   "metadata": {
    "ExecuteTime": {
     "end_time": "2022-04-12T21:20:49.177900Z",
     "start_time": "2022-04-12T21:20:49.161254Z"
    }
   },
   "outputs": [
    {
     "name": "stdout",
     "output_type": "stream",
     "text": [
      "<class 'pandas.core.frame.DataFrame'>\n",
      "RangeIndex: 500 entries, 0 to 499\n",
      "Data columns (total 8 columns):\n",
      " #   Column                Non-Null Count  Dtype  \n",
      "---  ------                --------------  -----  \n",
      " 0   Email                 500 non-null    object \n",
      " 1   Address               500 non-null    object \n",
      " 2   Avatar                500 non-null    object \n",
      " 3   Avg. Session Length   500 non-null    float64\n",
      " 4   Time on App           500 non-null    float64\n",
      " 5   Time on Website       500 non-null    float64\n",
      " 6   Length of Membership  500 non-null    float64\n",
      " 7   Yearly Amount Spent   500 non-null    float64\n",
      "dtypes: float64(5), object(3)\n",
      "memory usage: 31.4+ KB\n"
     ]
    }
   ],
   "source": [
    "customers.info()"
   ]
  },
  {
   "cell_type": "markdown",
   "id": "c706eae3",
   "metadata": {},
   "source": [
    "## 3.2.1) Email"
   ]
  },
  {
   "cell_type": "code",
   "execution_count": 28,
   "id": "668a0817",
   "metadata": {
    "ExecuteTime": {
     "end_time": "2022-04-12T21:21:16.278538Z",
     "start_time": "2022-04-12T21:21:16.264591Z"
    }
   },
   "outputs": [
    {
     "data": {
      "text/plain": [
       "mstephenson@fernandez.com        1\n",
       "elizabeth61@berg-braun.com       1\n",
       "pamelahampton@martin-cobb.com    1\n",
       "dbell@hotmail.com                1\n",
       "vancealicia@hotmail.com          1\n",
       "                                ..\n",
       "stevenking@patterson.com         1\n",
       "blevinseric@stephens.com         1\n",
       "campbellross@yahoo.com           1\n",
       "casey21@johnson.com              1\n",
       "hannahwilson@davidson.com        1\n",
       "Name: Email, Length: 500, dtype: int64"
      ]
     },
     "execution_count": 28,
     "metadata": {},
     "output_type": "execute_result"
    }
   ],
   "source": [
    "customers['Email'].value_counts()"
   ]
  },
  {
   "cell_type": "markdown",
   "id": "0e3ff469",
   "metadata": {},
   "source": [
    "* Os dados brutos não apresentam valor para o modelo."
   ]
  },
  {
   "cell_type": "markdown",
   "id": "ee59d53c",
   "metadata": {},
   "source": [
    "* Feature engineering para descobrir provedores de email mais frequentes pode ser um caminho para extrair valor destes dados."
   ]
  },
  {
   "cell_type": "markdown",
   "id": "44366098",
   "metadata": {},
   "source": [
    "## 3.2.2) Address"
   ]
  },
  {
   "cell_type": "code",
   "execution_count": 30,
   "id": "161d6b63",
   "metadata": {
    "ExecuteTime": {
     "end_time": "2022-04-12T21:24:14.025513Z",
     "start_time": "2022-04-12T21:24:14.005510Z"
    }
   },
   "outputs": [
    {
     "data": {
      "text/plain": [
       "835 Frank Tunnel\\nWrightmouth, MI 82180-9605                      1\n",
       "649 King Extension\\nNorth April, NY 54175                         1\n",
       "91542 Jessica Springs Suite 255\\nThomashaven, MT 39239-3790       1\n",
       "3485 Anthony Street Apt. 119\\nMikeberg, FL 32602                  1\n",
       "06307 Scott Spurs Suite 161\\nJessicaburgh, NH 26093-5908          1\n",
       "                                                                 ..\n",
       "94730 Martin Mount\\nNew Matthew, VI 08142-6708                    1\n",
       "PSC 3676, Box 1549\\nAPO AE 26130-7683                             1\n",
       "6218 Michael Station Apt. 982\\nSalazarburgh, NJ 79955             1\n",
       "691 Johnson Field Apt. 510\\nMichaelville, VI 78140                1\n",
       "49791 Rachel Heights Apt. 898\\nEast Drewborough, OR 55919-9528    1\n",
       "Name: Address, Length: 500, dtype: int64"
      ]
     },
     "execution_count": 30,
     "metadata": {},
     "output_type": "execute_result"
    }
   ],
   "source": [
    "customers['Address'].value_counts()"
   ]
  },
  {
   "cell_type": "markdown",
   "id": "0b5bc8c8",
   "metadata": {
    "ExecuteTime": {
     "end_time": "2022-04-12T21:24:24.749259Z",
     "start_time": "2022-04-12T21:24:24.740807Z"
    }
   },
   "source": [
    "* Os dados brutos não apresentam valor para o modelo."
   ]
  },
  {
   "cell_type": "markdown",
   "id": "b107ab16",
   "metadata": {},
   "source": [
    "* Feature engineering para descobrir estados e cidades pode ser um caminho para extrair valor destes dados."
   ]
  },
  {
   "cell_type": "markdown",
   "id": "4c596097",
   "metadata": {},
   "source": [
    "## 3.2.3) Avatar"
   ]
  },
  {
   "cell_type": "code",
   "execution_count": 32,
   "id": "75f2bfe9",
   "metadata": {
    "ExecuteTime": {
     "end_time": "2022-04-12T21:25:51.171106Z",
     "start_time": "2022-04-12T21:25:51.151422Z"
    }
   },
   "outputs": [
    {
     "data": {
      "text/plain": [
       "SlateBlue               7\n",
       "Cyan                    7\n",
       "CadetBlue               7\n",
       "GreenYellow             7\n",
       "Teal                    7\n",
       "                       ..\n",
       "MediumPurple            1\n",
       "CornflowerBlue          1\n",
       "LightGoldenRodYellow    1\n",
       "PowderBlue              1\n",
       "LawnGreen               1\n",
       "Name: Avatar, Length: 138, dtype: int64"
      ]
     },
     "execution_count": 32,
     "metadata": {},
     "output_type": "execute_result"
    }
   ],
   "source": [
    "customers['Avatar'].value_counts()"
   ]
  },
  {
   "cell_type": "markdown",
   "id": "2b511181",
   "metadata": {},
   "source": [
    "* Os dados brutos não apresentam valor para o modelo."
   ]
  },
  {
   "cell_type": "markdown",
   "id": "40426c68",
   "metadata": {},
   "source": [
    "* Feature engineering para descobrir cores do arco-íris pode ser um caminho para extrair valor destes dados."
   ]
  },
  {
   "cell_type": "markdown",
   "id": "893911ce",
   "metadata": {},
   "source": [
    "* Em outras palavras, ao invés de 138 tons de cores, teríamos apenas 7 categorias."
   ]
  },
  {
   "cell_type": "markdown",
   "id": "145b36ba",
   "metadata": {},
   "source": [
    "## 3.3) Matriz de Correlação Entre Variáveis"
   ]
  },
  {
   "cell_type": "code",
   "execution_count": 20,
   "id": "5efe68d8",
   "metadata": {
    "ExecuteTime": {
     "end_time": "2022-02-01T20:58:28.716325Z",
     "start_time": "2022-02-01T20:58:28.488287Z"
    }
   },
   "outputs": [
    {
     "data": {
      "text/plain": [
       "<AxesSubplot:>"
      ]
     },
     "execution_count": 20,
     "metadata": {},
     "output_type": "execute_result"
    },
    {
     "data": {
      "image/png": "[encoded data removed]",
      "text/plain": [
       "<Figure size 1080x360 with 2 Axes>"
      ]
     },
     "metadata": {},
     "output_type": "display_data"
    }
   ],
   "source": [
    "plt.figure(figsize=(15,5))\n",
    "sns.heatmap(data = customers.corr(), annot = True)"
   ]
  },
  {
   "cell_type": "markdown",
   "id": "0eed9efd",
   "metadata": {},
   "source": [
    "Tier List Correlações com Variável Resposta \"Yearly Amount Spent\":\n",
    "* 1) Length of Membership: 0.81\n",
    "* 2) Time on App: 0.5\n",
    "* 3) Avg. Session Length: 0.36\n",
    "* 4) Time on Website: -0.0026"
   ]
  },
  {
   "cell_type": "markdown",
   "id": "44634228",
   "metadata": {},
   "source": [
    "# 4) Criando o Modelo"
   ]
  },
  {
   "cell_type": "markdown",
   "id": "02e33450",
   "metadata": {},
   "source": [
    "# 4.1) Separação de Dados de Treino e Teste"
   ]
  },
  {
   "cell_type": "code",
   "execution_count": 21,
   "id": "3b5b3c9d",
   "metadata": {
    "ExecuteTime": {
     "end_time": "2022-02-01T21:02:00.530564Z",
     "start_time": "2022-02-01T21:02:00.510476Z"
    }
   },
   "outputs": [
    {
     "data": {
      "text/plain": [
       "Index(['Email', 'Address', 'Avatar', 'Avg. Session Length', 'Time on App',\n",
       "       'Time on Website', 'Length of Membership', 'Yearly Amount Spent'],\n",
       "      dtype='object')"
      ]
     },
     "execution_count": 21,
     "metadata": {},
     "output_type": "execute_result"
    }
   ],
   "source": [
    "customers.columns"
   ]
  },
  {
   "cell_type": "code",
   "execution_count": 34,
   "id": "9a748c4a",
   "metadata": {
    "ExecuteTime": {
     "end_time": "2022-04-12T21:32:25.744721Z",
     "start_time": "2022-04-12T21:32:23.301823Z"
    }
   },
   "outputs": [],
   "source": [
    "from sklearn.model_selection import train_test_split"
   ]
  },
  {
   "cell_type": "code",
   "execution_count": 35,
   "id": "86697ab6",
   "metadata": {
    "ExecuteTime": {
     "end_time": "2022-04-12T21:32:26.504373Z",
     "start_time": "2022-04-12T21:32:26.486642Z"
    }
   },
   "outputs": [],
   "source": [
    "X = customers[['Avg. Session Length', 'Time on App', 'Time on Website', 'Length of Membership']]\n",
    "y = customers['Yearly Amount Spent']"
   ]
  },
  {
   "cell_type": "code",
   "execution_count": 36,
   "id": "59e1b7a4",
   "metadata": {
    "ExecuteTime": {
     "end_time": "2022-04-12T21:32:27.054219Z",
     "start_time": "2022-04-12T21:32:27.047119Z"
    }
   },
   "outputs": [],
   "source": [
    "X_train, X_test, y_train, y_test = train_test_split(X, y, test_size=0.2, random_state=101)"
   ]
  },
  {
   "cell_type": "markdown",
   "id": "b87843b3",
   "metadata": {},
   "source": [
    "## 4.2) Treinando o Modelo"
   ]
  },
  {
   "cell_type": "code",
   "execution_count": 37,
   "id": "c2cfc3ea",
   "metadata": {
    "ExecuteTime": {
     "end_time": "2022-04-12T21:32:28.984603Z",
     "start_time": "2022-04-12T21:32:27.934154Z"
    }
   },
   "outputs": [],
   "source": [
    "from sklearn.linear_model import LinearRegression"
   ]
  },
  {
   "cell_type": "code",
   "execution_count": 38,
   "id": "587b5808",
   "metadata": {
    "ExecuteTime": {
     "end_time": "2022-04-12T21:32:29.437626Z",
     "start_time": "2022-04-12T21:32:29.421569Z"
    }
   },
   "outputs": [],
   "source": [
    "model = LinearRegression()"
   ]
  },
  {
   "cell_type": "code",
   "execution_count": 39,
   "id": "a2812077",
   "metadata": {
    "ExecuteTime": {
     "end_time": "2022-04-12T21:32:30.146833Z",
     "start_time": "2022-04-12T21:32:30.006856Z"
    }
   },
   "outputs": [
    {
     "data": {
      "text/plain": [
       "LinearRegression()"
      ]
     },
     "execution_count": 39,
     "metadata": {},
     "output_type": "execute_result"
    }
   ],
   "source": [
    "model.fit(X_train, y_train)"
   ]
  },
  {
   "cell_type": "code",
   "execution_count": 40,
   "id": "e133c014",
   "metadata": {
    "ExecuteTime": {
     "end_time": "2022-04-12T21:32:30.602386Z",
     "start_time": "2022-04-12T21:32:30.577485Z"
    }
   },
   "outputs": [],
   "source": [
    "# coefficients\n",
    "coefficients = pd.DataFrame(data = model.coef_, index = X.columns, columns = ['Values'])"
   ]
  },
  {
   "cell_type": "code",
   "execution_count": 42,
   "id": "6b8160d6",
   "metadata": {
    "ExecuteTime": {
     "end_time": "2022-04-12T21:32:39.183278Z",
     "start_time": "2022-04-12T21:32:39.174991Z"
    }
   },
   "outputs": [
    {
     "data": {
      "text/html": [
       "<div>\n",
       "<style scoped>\n",
       "    .dataframe tbody tr th:only-of-type {\n",
       "        vertical-align: middle;\n",
       "    }\n",
       "\n",
       "    .dataframe tbody tr th {\n",
       "        vertical-align: top;\n",
       "    }\n",
       "\n",
       "    .dataframe thead th {\n",
       "        text-align: right;\n",
       "    }\n",
       "</style>\n",
       "<table border=\"1\" class=\"dataframe\">\n",
       "  <thead>\n",
       "    <tr style=\"text-align: right;\">\n",
       "      <th></th>\n",
       "      <th>Values</th>\n",
       "    </tr>\n",
       "  </thead>\n",
       "  <tbody>\n",
       "    <tr>\n",
       "      <th>Avg. Session Length</th>\n",
       "      <td>26.029489</td>\n",
       "    </tr>\n",
       "    <tr>\n",
       "      <th>Time on App</th>\n",
       "      <td>38.709835</td>\n",
       "    </tr>\n",
       "    <tr>\n",
       "      <th>Time on Website</th>\n",
       "      <td>0.356184</td>\n",
       "    </tr>\n",
       "    <tr>\n",
       "      <th>Length of Membership</th>\n",
       "      <td>61.472809</td>\n",
       "    </tr>\n",
       "  </tbody>\n",
       "</table>\n",
       "</div>"
      ],
      "text/plain": [
       "                         Values\n",
       "Avg. Session Length   26.029489\n",
       "Time on App           38.709835\n",
       "Time on Website        0.356184\n",
       "Length of Membership  61.472809"
      ]
     },
     "execution_count": 42,
     "metadata": {},
     "output_type": "execute_result"
    }
   ],
   "source": [
    "coefficients"
   ]
  },
  {
   "cell_type": "markdown",
   "id": "5330da2b",
   "metadata": {},
   "source": [
    "## 4.3) Predições do Modelo"
   ]
  },
  {
   "cell_type": "code",
   "execution_count": 33,
   "id": "b0c1e1f8",
   "metadata": {
    "ExecuteTime": {
     "end_time": "2022-02-01T21:10:57.616480Z",
     "start_time": "2022-02-01T21:10:57.601460Z"
    }
   },
   "outputs": [],
   "source": [
    "pred = model.predict(X_test)"
   ]
  },
  {
   "cell_type": "code",
   "execution_count": 34,
   "id": "48b7b2a0",
   "metadata": {
    "ExecuteTime": {
     "end_time": "2022-02-01T21:12:28.597664Z",
     "start_time": "2022-02-01T21:12:28.427474Z"
    }
   },
   "outputs": [
    {
     "data": {
      "text/plain": [
       "Text(0, 0.5, 'Predictions')"
      ]
     },
     "execution_count": 34,
     "metadata": {},
     "output_type": "execute_result"
    },
    {
     "data": {
      "image/png": "[encoded data removed]",
      "text/plain": [
       "<Figure size 432x288 with 1 Axes>"
      ]
     },
     "metadata": {},
     "output_type": "display_data"
    }
   ],
   "source": [
    "# scatter plot of real vs predicted values --> the closer to a line, the better\n",
    "plt.scatter(y_test, pred)\n",
    "plt.xlabel('Y Test (True Values)')\n",
    "plt.ylabel('Predictions')"
   ]
  },
  {
   "cell_type": "markdown",
   "id": "958b2da3",
   "metadata": {},
   "source": [
    "## 4.4) Avaliando o Modelo"
   ]
  },
  {
   "cell_type": "code",
   "execution_count": 38,
   "id": "76a74c42",
   "metadata": {
    "ExecuteTime": {
     "end_time": "2022-02-01T21:13:22.768390Z",
     "start_time": "2022-02-01T21:13:22.738379Z"
    }
   },
   "outputs": [],
   "source": [
    "from sklearn import metrics"
   ]
  },
  {
   "cell_type": "markdown",
   "id": "5df9f3df",
   "metadata": {},
   "source": [
    "### 4.4.1) MAE --> Mean Absolute Error"
   ]
  },
  {
   "cell_type": "code",
   "execution_count": 36,
   "id": "b51a488f",
   "metadata": {
    "ExecuteTime": {
     "end_time": "2022-02-01T21:13:12.287875Z",
     "start_time": "2022-02-01T21:13:12.267975Z"
    }
   },
   "outputs": [],
   "source": [
    "mae = metrics.mean_absolute_error(y_test, pred)"
   ]
  },
  {
   "cell_type": "code",
   "execution_count": 37,
   "id": "145d68be",
   "metadata": {
    "ExecuteTime": {
     "end_time": "2022-02-01T21:13:14.928068Z",
     "start_time": "2022-02-01T21:13:14.908064Z"
    }
   },
   "outputs": [
    {
     "data": {
      "text/plain": [
       "7.758907540457854"
      ]
     },
     "execution_count": 37,
     "metadata": {},
     "output_type": "execute_result"
    }
   ],
   "source": [
    "mae"
   ]
  },
  {
   "cell_type": "markdown",
   "id": "4af53ae6",
   "metadata": {},
   "source": [
    "### 4.4.2) MSE --> Mean Squared Error"
   ]
  },
  {
   "cell_type": "code",
   "execution_count": 40,
   "id": "ec9a29f9",
   "metadata": {
    "ExecuteTime": {
     "end_time": "2022-02-01T21:14:42.418966Z",
     "start_time": "2022-02-01T21:14:42.403934Z"
    }
   },
   "outputs": [],
   "source": [
    "mse = metrics.mean_squared_error(y_test, pred)"
   ]
  },
  {
   "cell_type": "code",
   "execution_count": 41,
   "id": "861bb264",
   "metadata": {
    "ExecuteTime": {
     "end_time": "2022-02-01T21:14:44.579259Z",
     "start_time": "2022-02-01T21:14:44.568801Z"
    }
   },
   "outputs": [
    {
     "data": {
      "text/plain": [
       "91.82335857016906"
      ]
     },
     "execution_count": 41,
     "metadata": {},
     "output_type": "execute_result"
    }
   ],
   "source": [
    "mse"
   ]
  },
  {
   "cell_type": "markdown",
   "id": "dcd4f0d2",
   "metadata": {},
   "source": [
    "### 4.4.3) RMSE --> Root Mean Squared Error"
   ]
  },
  {
   "cell_type": "code",
   "execution_count": 43,
   "id": "0ea46b08",
   "metadata": {
    "ExecuteTime": {
     "end_time": "2022-02-01T21:15:30.529433Z",
     "start_time": "2022-02-01T21:15:30.509425Z"
    }
   },
   "outputs": [],
   "source": [
    "rmse = metrics.mean_squared_error(y_test, pred, squared = False)"
   ]
  },
  {
   "cell_type": "code",
   "execution_count": 44,
   "id": "e8a16569",
   "metadata": {
    "ExecuteTime": {
     "end_time": "2022-02-01T21:15:35.639650Z",
     "start_time": "2022-02-01T21:15:35.624450Z"
    }
   },
   "outputs": [
    {
     "data": {
      "text/plain": [
       "9.582450551407456"
      ]
     },
     "execution_count": 44,
     "metadata": {},
     "output_type": "execute_result"
    }
   ],
   "source": [
    "rmse"
   ]
  },
  {
   "cell_type": "markdown",
   "id": "46bc60e1",
   "metadata": {},
   "source": [
    "### 4.4.4) R²"
   ]
  },
  {
   "cell_type": "code",
   "execution_count": 45,
   "id": "3fae8d27",
   "metadata": {
    "ExecuteTime": {
     "end_time": "2022-02-01T21:16:09.919750Z",
     "start_time": "2022-02-01T21:16:09.914718Z"
    }
   },
   "outputs": [],
   "source": [
    "r2 = metrics.r2_score(y_test, pred)"
   ]
  },
  {
   "cell_type": "code",
   "execution_count": 46,
   "id": "d7b3f9e2",
   "metadata": {
    "ExecuteTime": {
     "end_time": "2022-02-01T21:16:11.640193Z",
     "start_time": "2022-02-01T21:16:11.610054Z"
    }
   },
   "outputs": [
    {
     "data": {
      "text/plain": [
       "0.9881661299145553"
      ]
     },
     "execution_count": 46,
     "metadata": {},
     "output_type": "execute_result"
    }
   ],
   "source": [
    "r2"
   ]
  },
  {
   "cell_type": "code",
   "execution_count": 47,
   "id": "c5372e92",
   "metadata": {
    "ExecuteTime": {
     "end_time": "2022-02-01T21:17:36.440760Z",
     "start_time": "2022-02-01T21:17:36.421010Z"
    }
   },
   "outputs": [],
   "source": [
    "indicators = pd.array([mae, mse, rmse, r2])"
   ]
  },
  {
   "cell_type": "code",
   "execution_count": 48,
   "id": "ae136cb4",
   "metadata": {
    "ExecuteTime": {
     "end_time": "2022-02-01T21:18:40.341760Z",
     "start_time": "2022-02-01T21:18:40.326617Z"
    }
   },
   "outputs": [],
   "source": [
    "results = pd.DataFrame(data = indicators, index = ['MAE','MSE','RMSE','R²'], columns = ['Values'])"
   ]
  },
  {
   "cell_type": "code",
   "execution_count": 50,
   "id": "27e83f5e",
   "metadata": {
    "ExecuteTime": {
     "end_time": "2022-02-01T21:20:52.482792Z",
     "start_time": "2022-02-01T21:20:52.472884Z"
    }
   },
   "outputs": [
    {
     "data": {
      "text/html": [
       "<div>\n",
       "<style scoped>\n",
       "    .dataframe tbody tr th:only-of-type {\n",
       "        vertical-align: middle;\n",
       "    }\n",
       "\n",
       "    .dataframe tbody tr th {\n",
       "        vertical-align: top;\n",
       "    }\n",
       "\n",
       "    .dataframe thead th {\n",
       "        text-align: right;\n",
       "    }\n",
       "</style>\n",
       "<table border=\"1\" class=\"dataframe\">\n",
       "  <thead>\n",
       "    <tr style=\"text-align: right;\">\n",
       "      <th></th>\n",
       "      <th>Values</th>\n",
       "    </tr>\n",
       "  </thead>\n",
       "  <tbody>\n",
       "    <tr>\n",
       "      <th>MAE</th>\n",
       "      <td>7.758908</td>\n",
       "    </tr>\n",
       "    <tr>\n",
       "      <th>MSE</th>\n",
       "      <td>91.823359</td>\n",
       "    </tr>\n",
       "    <tr>\n",
       "      <th>RMSE</th>\n",
       "      <td>9.582451</td>\n",
       "    </tr>\n",
       "    <tr>\n",
       "      <th>R²</th>\n",
       "      <td>0.988166</td>\n",
       "    </tr>\n",
       "  </tbody>\n",
       "</table>\n",
       "</div>"
      ],
      "text/plain": [
       "         Values\n",
       "MAE    7.758908\n",
       "MSE   91.823359\n",
       "RMSE   9.582451\n",
       "R²     0.988166"
      ]
     },
     "execution_count": 50,
     "metadata": {},
     "output_type": "execute_result"
    }
   ],
   "source": [
    "results"
   ]
  },
  {
   "cell_type": "markdown",
   "id": "74c586ee",
   "metadata": {},
   "source": [
    "* O resultado encontrado é que 98,81% da variância da variável resposta pode ser explicada pelas variáveis do modelo."
   ]
  },
  {
   "cell_type": "markdown",
   "id": "62fb8bca",
   "metadata": {},
   "source": [
    "* Em outras palavras, o modelo não performou bem em 1.19% da base de clientes, o que indica um excelente modelo."
   ]
  },
  {
   "cell_type": "markdown",
   "id": "1dd15f19",
   "metadata": {},
   "source": [
    "# 5) Conclusões 💯"
   ]
  },
  {
   "cell_type": "markdown",
   "id": "40fc840e",
   "metadata": {},
   "source": [
    "## 5.1) Interpretação dos Coeficientes"
   ]
  },
  {
   "cell_type": "code",
   "execution_count": 51,
   "id": "6ce97456",
   "metadata": {
    "ExecuteTime": {
     "end_time": "2022-02-01T21:21:37.073421Z",
     "start_time": "2022-02-01T21:21:37.053438Z"
    }
   },
   "outputs": [
    {
     "data": {
      "text/html": [
       "<div>\n",
       "<style scoped>\n",
       "    .dataframe tbody tr th:only-of-type {\n",
       "        vertical-align: middle;\n",
       "    }\n",
       "\n",
       "    .dataframe tbody tr th {\n",
       "        vertical-align: top;\n",
       "    }\n",
       "\n",
       "    .dataframe thead th {\n",
       "        text-align: right;\n",
       "    }\n",
       "</style>\n",
       "<table border=\"1\" class=\"dataframe\">\n",
       "  <thead>\n",
       "    <tr style=\"text-align: right;\">\n",
       "      <th></th>\n",
       "      <th>Values</th>\n",
       "    </tr>\n",
       "  </thead>\n",
       "  <tbody>\n",
       "    <tr>\n",
       "      <th>Avg. Session Length</th>\n",
       "      <td>26.029489</td>\n",
       "    </tr>\n",
       "    <tr>\n",
       "      <th>Time on App</th>\n",
       "      <td>38.709835</td>\n",
       "    </tr>\n",
       "    <tr>\n",
       "      <th>Time on Website</th>\n",
       "      <td>0.356184</td>\n",
       "    </tr>\n",
       "    <tr>\n",
       "      <th>Length of Membership</th>\n",
       "      <td>61.472809</td>\n",
       "    </tr>\n",
       "  </tbody>\n",
       "</table>\n",
       "</div>"
      ],
      "text/plain": [
       "                         Values\n",
       "Avg. Session Length   26.029489\n",
       "Time on App           38.709835\n",
       "Time on Website        0.356184\n",
       "Length of Membership  61.472809"
      ]
     },
     "execution_count": 51,
     "metadata": {},
     "output_type": "execute_result"
    }
   ],
   "source": [
    "coefficients"
   ]
  },
  {
   "cell_type": "markdown",
   "id": "c89e9417",
   "metadata": {},
   "source": [
    "Podemos interpretar estes dados da seguinte forma:\n",
    "* Um aumento de 1 unidade no __Tempo de Filiação__ gera um aumento de U\\\\$61.47 no Consumo Anual.\n",
    "* Um aumento de 1 unidade no __Tempo de Navegação no Aplicativo__, gera um aumento de U\\\\$38.71 no Consumo Anual.\n",
    "* Um aumento de 1 unidade no __Tempo Médio de Sessão Consultiva__ gera um aumento de U\\\\$26.03 no Consumo Anual.\n",
    "* Um aumento de 1 unidade no __Tempo de Navegação no Website__ gera um aumento de U\\\\$0.36 no Consumo Anual."
   ]
  },
  {
   "cell_type": "markdown",
   "id": "cc48a00a",
   "metadata": {},
   "source": [
    "## 5.2) Evidências 🔍"
   ]
  },
  {
   "cell_type": "markdown",
   "id": "90419927",
   "metadata": {},
   "source": [
    "### 1) Os dados indicam que se a empresa tivesse que escolher entre investir no Aplicativo ou no Website, o Aplicativo poderia trazer ganhos mais significativos."
   ]
  },
  {
   "cell_type": "markdown",
   "id": "2009ddb2",
   "metadata": {},
   "source": [
    "### 2) No entanto, mais importante do que essa decisão,  os dados indicam que o Tempo de Filiação é o que mais contribui para o Consumo Anual. Em outras palavras, a empresa deveria focar principalmente em estratégias de fidelização, como por exemplo:\n",
    "* Programa de Pontos\n",
    "* Comunicações Personalizadas\n",
    "* Ofertas Exclusivas\n",
    "* Reengajar o consumidor através de automações de marketing\n",
    "* Ofertar excelente atendimento ao consumidor (contato direto, documentar feedbacks, pesquisas de satisfação, monitorar redes sociais) "
   ]
  },
  {
   "cell_type": "markdown",
   "id": "a5574d91",
   "metadata": {},
   "source": [
    "### 3) Outra forma de olhar para os dados encontrados é que o Aplicativo já performa super bem, mas o Website não. Uma rápida pesquisa sobre a experiência do cliente no Website e no Aplicativo pode indicar pontos positivos e negativos em ambas as plataformas."
   ]
  },
  {
   "cell_type": "markdown",
   "id": "e85c8767",
   "metadata": {},
   "source": [
    "### 4) A partir destas informações, a empresa pode perceber que um baixo investimento no Website pode trazer grandes retornos, dado a situação atual muito inferior ao Aplicativo."
   ]
  },
  {
   "cell_type": "markdown",
   "id": "6607f79a",
   "metadata": {},
   "source": [
    "### 5) Outro cenário seria descobrir que os clientes simplesmente preferem o Aplicativo ao Website, pela praticidade. Nesse caso, focar em estratégias mobile, como por exemplo:\n",
    "* Estimular o download através de um cupom de uso único, comunicado por uma campanha de e-mail marketing\n",
    "* Notificações Push para comunicar novidades e promoções\n",
    "* Testar todas as telas e funções para evitar problemas de UX (User Experience) e receber boas avaliações\n",
    "* Otimizar o App para SEO e conseguir downloads assertivos"
   ]
  }
 ],
 "metadata": {
  "kernelspec": {
   "display_name": "Python 3 (ipykernel)",
   "language": "python",
   "name": "python3"
  },
  "language_info": {
   "codemirror_mode": {
    "name": "ipython",
    "version": 3
   },
   "file_extension": ".py",
   "mimetype": "text/x-python",
   "name": "python",
   "nbconvert_exporter": "python",
   "pygments_lexer": "ipython3",
   "version": "3.9.5"
  },
  "varInspector": {
   "cols": {
    "lenName": 16,
    "lenType": 16,
    "lenVar": 40
   },
   "kernels_config": {
    "python": {
     "delete_cmd_postfix": "",
     "delete_cmd_prefix": "del ",
     "library": "var_list.py",
     "varRefreshCmd": "print(var_dic_list())"
    },
    "r": {
     "delete_cmd_postfix": ") ",
     "delete_cmd_prefix": "rm(",
     "library": "var_list.r",
     "varRefreshCmd": "cat(var_dic_list()) "
    }
   },
   "types_to_exclude": [
    "module",
    "function",
    "builtin_function_or_method",
    "instance",
    "_Feature"
   ],
   "window_display": false
  }
 },
 "nbformat": 4,
 "nbformat_minor": 5
}
