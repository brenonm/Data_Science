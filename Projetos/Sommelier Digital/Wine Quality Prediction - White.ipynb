{
 "cells": [
  {
   "cell_type": "markdown",
   "id": "7714eb44",
   "metadata": {},
   "source": [
    "# Wine Quality Prediction"
   ]
  },
  {
   "cell_type": "markdown",
   "id": "5524d028",
   "metadata": {},
   "source": [
    "Data Set: https://archive.ics.uci.edu/ml/datasets/Wine+Quality\n",
    "\n",
    "The two datasets are related to red and white variants of the Portuguese \"Vinho Verde\" wine. For more details, consult: [Web Link] or the reference [Cortez et al., 2009]. Due to privacy and logistic issues, only physicochemical (inputs) and sensory (the output) variables are available (e.g. there is no data about grape types, wine brand, wine selling price, etc.).\n",
    "\n",
    "These datasets can be viewed as classification or regression tasks. The classes are ordered and not balanced (e.g. there are many more normal wines than excellent or poor ones). Outlier detection algorithms could be used to detect the few excellent or poor wines. Also, we are not sure if all input variables are relevant. So it could be interesting to test feature selection methods.\n",
    "\n",
    "We will use Whine_Quality_White.\n",
    "\n",
    "Input variables (based on physicochemical tests):\n",
    "\n",
    "    1 - fixed acidity\n",
    "    2 - volatile acidity\n",
    "    3 - citric acid\n",
    "    4 - residual sugar\n",
    "    5 - chlorides\n",
    "    6 - free sulfur dioxide\n",
    "    7 - total sulfur dioxide\n",
    "    8 - density\n",
    "    9 - pH\n",
    "    10 - sulphates\n",
    "    11 - alcohol\n",
    "\n",
    "Output variable (based on sensory data):\n",
    "\n",
    "    12 - quality (score between 0 and 10)"
   ]
  },
  {
   "cell_type": "markdown",
   "id": "226d689f",
   "metadata": {},
   "source": [
    "# Imports"
   ]
  },
  {
   "cell_type": "code",
   "execution_count": 1,
   "id": "c593c592",
   "metadata": {
    "ExecuteTime": {
     "end_time": "2022-02-15T23:37:44.481888Z",
     "start_time": "2022-02-15T23:37:24.845575Z"
    }
   },
   "outputs": [],
   "source": [
    "import pandas as pd\n",
    "import numpy as np\n",
    "import matplotlib.pyplot as plt\n",
    "import seaborn as sns"
   ]
  },
  {
   "cell_type": "code",
   "execution_count": 2,
   "id": "e7218750",
   "metadata": {
    "ExecuteTime": {
     "end_time": "2022-02-15T23:37:47.620280Z",
     "start_time": "2022-02-15T23:37:47.613300Z"
    }
   },
   "outputs": [],
   "source": [
    "%matplotlib inline"
   ]
  },
  {
   "cell_type": "code",
   "execution_count": 3,
   "id": "1536725a",
   "metadata": {
    "ExecuteTime": {
     "end_time": "2022-02-15T23:37:48.583335Z",
     "start_time": "2022-02-15T23:37:48.568291Z"
    }
   },
   "outputs": [],
   "source": [
    "sns.set_style('whitegrid')"
   ]
  },
  {
   "cell_type": "markdown",
   "id": "f189388e",
   "metadata": {},
   "source": [
    "# Get the Data"
   ]
  },
  {
   "cell_type": "code",
   "execution_count": 4,
   "id": "9ff33834",
   "metadata": {
    "ExecuteTime": {
     "end_time": "2022-02-15T23:37:49.606783Z",
     "start_time": "2022-02-15T23:37:49.425721Z"
    }
   },
   "outputs": [],
   "source": [
    "wine = pd.read_csv('winequality-white.csv', sep = ';')"
   ]
  },
  {
   "cell_type": "code",
   "execution_count": 5,
   "id": "30f20443",
   "metadata": {
    "ExecuteTime": {
     "end_time": "2022-02-15T23:37:50.241455Z",
     "start_time": "2022-02-15T23:37:50.147627Z"
    }
   },
   "outputs": [
    {
     "data": {
      "text/html": [
       "<div>\n",
       "<style scoped>\n",
       "    .dataframe tbody tr th:only-of-type {\n",
       "        vertical-align: middle;\n",
       "    }\n",
       "\n",
       "    .dataframe tbody tr th {\n",
       "        vertical-align: top;\n",
       "    }\n",
       "\n",
       "    .dataframe thead th {\n",
       "        text-align: right;\n",
       "    }\n",
       "</style>\n",
       "<table border=\"1\" class=\"dataframe\">\n",
       "  <thead>\n",
       "    <tr style=\"text-align: right;\">\n",
       "      <th></th>\n",
       "      <th>fixed acidity</th>\n",
       "      <th>volatile acidity</th>\n",
       "      <th>citric acid</th>\n",
       "      <th>residual sugar</th>\n",
       "      <th>chlorides</th>\n",
       "      <th>free sulfur dioxide</th>\n",
       "      <th>total sulfur dioxide</th>\n",
       "      <th>density</th>\n",
       "      <th>pH</th>\n",
       "      <th>sulphates</th>\n",
       "      <th>alcohol</th>\n",
       "      <th>quality</th>\n",
       "    </tr>\n",
       "  </thead>\n",
       "  <tbody>\n",
       "    <tr>\n",
       "      <th>0</th>\n",
       "      <td>7.0</td>\n",
       "      <td>0.27</td>\n",
       "      <td>0.36</td>\n",
       "      <td>20.7</td>\n",
       "      <td>0.045</td>\n",
       "      <td>45.0</td>\n",
       "      <td>170.0</td>\n",
       "      <td>1.0010</td>\n",
       "      <td>3.00</td>\n",
       "      <td>0.45</td>\n",
       "      <td>8.8</td>\n",
       "      <td>6</td>\n",
       "    </tr>\n",
       "    <tr>\n",
       "      <th>1</th>\n",
       "      <td>6.3</td>\n",
       "      <td>0.30</td>\n",
       "      <td>0.34</td>\n",
       "      <td>1.6</td>\n",
       "      <td>0.049</td>\n",
       "      <td>14.0</td>\n",
       "      <td>132.0</td>\n",
       "      <td>0.9940</td>\n",
       "      <td>3.30</td>\n",
       "      <td>0.49</td>\n",
       "      <td>9.5</td>\n",
       "      <td>6</td>\n",
       "    </tr>\n",
       "    <tr>\n",
       "      <th>2</th>\n",
       "      <td>8.1</td>\n",
       "      <td>0.28</td>\n",
       "      <td>0.40</td>\n",
       "      <td>6.9</td>\n",
       "      <td>0.050</td>\n",
       "      <td>30.0</td>\n",
       "      <td>97.0</td>\n",
       "      <td>0.9951</td>\n",
       "      <td>3.26</td>\n",
       "      <td>0.44</td>\n",
       "      <td>10.1</td>\n",
       "      <td>6</td>\n",
       "    </tr>\n",
       "    <tr>\n",
       "      <th>3</th>\n",
       "      <td>7.2</td>\n",
       "      <td>0.23</td>\n",
       "      <td>0.32</td>\n",
       "      <td>8.5</td>\n",
       "      <td>0.058</td>\n",
       "      <td>47.0</td>\n",
       "      <td>186.0</td>\n",
       "      <td>0.9956</td>\n",
       "      <td>3.19</td>\n",
       "      <td>0.40</td>\n",
       "      <td>9.9</td>\n",
       "      <td>6</td>\n",
       "    </tr>\n",
       "    <tr>\n",
       "      <th>4</th>\n",
       "      <td>7.2</td>\n",
       "      <td>0.23</td>\n",
       "      <td>0.32</td>\n",
       "      <td>8.5</td>\n",
       "      <td>0.058</td>\n",
       "      <td>47.0</td>\n",
       "      <td>186.0</td>\n",
       "      <td>0.9956</td>\n",
       "      <td>3.19</td>\n",
       "      <td>0.40</td>\n",
       "      <td>9.9</td>\n",
       "      <td>6</td>\n",
       "    </tr>\n",
       "  </tbody>\n",
       "</table>\n",
       "</div>"
      ],
      "text/plain": [
       "   fixed acidity  volatile acidity  citric acid  residual sugar  chlorides  \\\n",
       "0            7.0              0.27         0.36            20.7      0.045   \n",
       "1            6.3              0.30         0.34             1.6      0.049   \n",
       "2            8.1              0.28         0.40             6.9      0.050   \n",
       "3            7.2              0.23         0.32             8.5      0.058   \n",
       "4            7.2              0.23         0.32             8.5      0.058   \n",
       "\n",
       "   free sulfur dioxide  total sulfur dioxide  density    pH  sulphates  \\\n",
       "0                 45.0                 170.0   1.0010  3.00       0.45   \n",
       "1                 14.0                 132.0   0.9940  3.30       0.49   \n",
       "2                 30.0                  97.0   0.9951  3.26       0.44   \n",
       "3                 47.0                 186.0   0.9956  3.19       0.40   \n",
       "4                 47.0                 186.0   0.9956  3.19       0.40   \n",
       "\n",
       "   alcohol  quality  \n",
       "0      8.8        6  \n",
       "1      9.5        6  \n",
       "2     10.1        6  \n",
       "3      9.9        6  \n",
       "4      9.9        6  "
      ]
     },
     "execution_count": 5,
     "metadata": {},
     "output_type": "execute_result"
    }
   ],
   "source": [
    "wine.head()"
   ]
  },
  {
   "cell_type": "markdown",
   "id": "b3c4b754",
   "metadata": {},
   "source": [
    "# Variable Content"
   ]
  },
  {
   "cell_type": "code",
   "execution_count": 6,
   "id": "fac85578",
   "metadata": {
    "ExecuteTime": {
     "end_time": "2022-02-15T23:37:51.449848Z",
     "start_time": "2022-02-15T23:37:51.193903Z"
    }
   },
   "outputs": [
    {
     "name": "stdout",
     "output_type": "stream",
     "text": [
      "<class 'pandas.core.frame.DataFrame'>\n",
      "RangeIndex: 4898 entries, 0 to 4897\n",
      "Data columns (total 12 columns):\n",
      " #   Column                Non-Null Count  Dtype  \n",
      "---  ------                --------------  -----  \n",
      " 0   fixed acidity         4898 non-null   float64\n",
      " 1   volatile acidity      4898 non-null   float64\n",
      " 2   citric acid           4898 non-null   float64\n",
      " 3   residual sugar        4898 non-null   float64\n",
      " 4   chlorides             4898 non-null   float64\n",
      " 5   free sulfur dioxide   4898 non-null   float64\n",
      " 6   total sulfur dioxide  4898 non-null   float64\n",
      " 7   density               4898 non-null   float64\n",
      " 8   pH                    4898 non-null   float64\n",
      " 9   sulphates             4898 non-null   float64\n",
      " 10  alcohol               4898 non-null   float64\n",
      " 11  quality               4898 non-null   int64  \n",
      "dtypes: float64(11), int64(1)\n",
      "memory usage: 459.3 KB\n"
     ]
    }
   ],
   "source": [
    "wine.info()"
   ]
  },
  {
   "cell_type": "markdown",
   "id": "10105834",
   "metadata": {},
   "source": [
    "* All numerical variables"
   ]
  },
  {
   "cell_type": "code",
   "execution_count": 7,
   "id": "9164e684",
   "metadata": {
    "ExecuteTime": {
     "end_time": "2022-02-15T23:37:52.552146Z",
     "start_time": "2022-02-15T23:37:52.479962Z"
    }
   },
   "outputs": [
    {
     "data": {
      "text/html": [
       "<div>\n",
       "<style scoped>\n",
       "    .dataframe tbody tr th:only-of-type {\n",
       "        vertical-align: middle;\n",
       "    }\n",
       "\n",
       "    .dataframe tbody tr th {\n",
       "        vertical-align: top;\n",
       "    }\n",
       "\n",
       "    .dataframe thead th {\n",
       "        text-align: right;\n",
       "    }\n",
       "</style>\n",
       "<table border=\"1\" class=\"dataframe\">\n",
       "  <thead>\n",
       "    <tr style=\"text-align: right;\">\n",
       "      <th></th>\n",
       "      <th>fixed acidity</th>\n",
       "      <th>volatile acidity</th>\n",
       "      <th>citric acid</th>\n",
       "      <th>residual sugar</th>\n",
       "      <th>chlorides</th>\n",
       "      <th>free sulfur dioxide</th>\n",
       "      <th>total sulfur dioxide</th>\n",
       "      <th>density</th>\n",
       "      <th>pH</th>\n",
       "      <th>sulphates</th>\n",
       "      <th>alcohol</th>\n",
       "      <th>quality</th>\n",
       "    </tr>\n",
       "  </thead>\n",
       "  <tbody>\n",
       "    <tr>\n",
       "      <th>count</th>\n",
       "      <td>4898.000000</td>\n",
       "      <td>4898.000000</td>\n",
       "      <td>4898.000000</td>\n",
       "      <td>4898.000000</td>\n",
       "      <td>4898.000000</td>\n",
       "      <td>4898.000000</td>\n",
       "      <td>4898.000000</td>\n",
       "      <td>4898.000000</td>\n",
       "      <td>4898.000000</td>\n",
       "      <td>4898.000000</td>\n",
       "      <td>4898.000000</td>\n",
       "      <td>4898.000000</td>\n",
       "    </tr>\n",
       "    <tr>\n",
       "      <th>mean</th>\n",
       "      <td>6.854788</td>\n",
       "      <td>0.278241</td>\n",
       "      <td>0.334192</td>\n",
       "      <td>6.391415</td>\n",
       "      <td>0.045772</td>\n",
       "      <td>35.308085</td>\n",
       "      <td>138.360657</td>\n",
       "      <td>0.994027</td>\n",
       "      <td>3.188267</td>\n",
       "      <td>0.489847</td>\n",
       "      <td>10.514267</td>\n",
       "      <td>5.877909</td>\n",
       "    </tr>\n",
       "    <tr>\n",
       "      <th>std</th>\n",
       "      <td>0.843868</td>\n",
       "      <td>0.100795</td>\n",
       "      <td>0.121020</td>\n",
       "      <td>5.072058</td>\n",
       "      <td>0.021848</td>\n",
       "      <td>17.007137</td>\n",
       "      <td>42.498065</td>\n",
       "      <td>0.002991</td>\n",
       "      <td>0.151001</td>\n",
       "      <td>0.114126</td>\n",
       "      <td>1.230621</td>\n",
       "      <td>0.885639</td>\n",
       "    </tr>\n",
       "    <tr>\n",
       "      <th>min</th>\n",
       "      <td>3.800000</td>\n",
       "      <td>0.080000</td>\n",
       "      <td>0.000000</td>\n",
       "      <td>0.600000</td>\n",
       "      <td>0.009000</td>\n",
       "      <td>2.000000</td>\n",
       "      <td>9.000000</td>\n",
       "      <td>0.987110</td>\n",
       "      <td>2.720000</td>\n",
       "      <td>0.220000</td>\n",
       "      <td>8.000000</td>\n",
       "      <td>3.000000</td>\n",
       "    </tr>\n",
       "    <tr>\n",
       "      <th>25%</th>\n",
       "      <td>6.300000</td>\n",
       "      <td>0.210000</td>\n",
       "      <td>0.270000</td>\n",
       "      <td>1.700000</td>\n",
       "      <td>0.036000</td>\n",
       "      <td>23.000000</td>\n",
       "      <td>108.000000</td>\n",
       "      <td>0.991723</td>\n",
       "      <td>3.090000</td>\n",
       "      <td>0.410000</td>\n",
       "      <td>9.500000</td>\n",
       "      <td>5.000000</td>\n",
       "    </tr>\n",
       "    <tr>\n",
       "      <th>50%</th>\n",
       "      <td>6.800000</td>\n",
       "      <td>0.260000</td>\n",
       "      <td>0.320000</td>\n",
       "      <td>5.200000</td>\n",
       "      <td>0.043000</td>\n",
       "      <td>34.000000</td>\n",
       "      <td>134.000000</td>\n",
       "      <td>0.993740</td>\n",
       "      <td>3.180000</td>\n",
       "      <td>0.470000</td>\n",
       "      <td>10.400000</td>\n",
       "      <td>6.000000</td>\n",
       "    </tr>\n",
       "    <tr>\n",
       "      <th>75%</th>\n",
       "      <td>7.300000</td>\n",
       "      <td>0.320000</td>\n",
       "      <td>0.390000</td>\n",
       "      <td>9.900000</td>\n",
       "      <td>0.050000</td>\n",
       "      <td>46.000000</td>\n",
       "      <td>167.000000</td>\n",
       "      <td>0.996100</td>\n",
       "      <td>3.280000</td>\n",
       "      <td>0.550000</td>\n",
       "      <td>11.400000</td>\n",
       "      <td>6.000000</td>\n",
       "    </tr>\n",
       "    <tr>\n",
       "      <th>max</th>\n",
       "      <td>14.200000</td>\n",
       "      <td>1.100000</td>\n",
       "      <td>1.660000</td>\n",
       "      <td>65.800000</td>\n",
       "      <td>0.346000</td>\n",
       "      <td>289.000000</td>\n",
       "      <td>440.000000</td>\n",
       "      <td>1.038980</td>\n",
       "      <td>3.820000</td>\n",
       "      <td>1.080000</td>\n",
       "      <td>14.200000</td>\n",
       "      <td>9.000000</td>\n",
       "    </tr>\n",
       "  </tbody>\n",
       "</table>\n",
       "</div>"
      ],
      "text/plain": [
       "       fixed acidity  volatile acidity  citric acid  residual sugar  \\\n",
       "count    4898.000000       4898.000000  4898.000000     4898.000000   \n",
       "mean        6.854788          0.278241     0.334192        6.391415   \n",
       "std         0.843868          0.100795     0.121020        5.072058   \n",
       "min         3.800000          0.080000     0.000000        0.600000   \n",
       "25%         6.300000          0.210000     0.270000        1.700000   \n",
       "50%         6.800000          0.260000     0.320000        5.200000   \n",
       "75%         7.300000          0.320000     0.390000        9.900000   \n",
       "max        14.200000          1.100000     1.660000       65.800000   \n",
       "\n",
       "         chlorides  free sulfur dioxide  total sulfur dioxide      density  \\\n",
       "count  4898.000000          4898.000000           4898.000000  4898.000000   \n",
       "mean      0.045772            35.308085            138.360657     0.994027   \n",
       "std       0.021848            17.007137             42.498065     0.002991   \n",
       "min       0.009000             2.000000              9.000000     0.987110   \n",
       "25%       0.036000            23.000000            108.000000     0.991723   \n",
       "50%       0.043000            34.000000            134.000000     0.993740   \n",
       "75%       0.050000            46.000000            167.000000     0.996100   \n",
       "max       0.346000           289.000000            440.000000     1.038980   \n",
       "\n",
       "                pH    sulphates      alcohol      quality  \n",
       "count  4898.000000  4898.000000  4898.000000  4898.000000  \n",
       "mean      3.188267     0.489847    10.514267     5.877909  \n",
       "std       0.151001     0.114126     1.230621     0.885639  \n",
       "min       2.720000     0.220000     8.000000     3.000000  \n",
       "25%       3.090000     0.410000     9.500000     5.000000  \n",
       "50%       3.180000     0.470000    10.400000     6.000000  \n",
       "75%       3.280000     0.550000    11.400000     6.000000  \n",
       "max       3.820000     1.080000    14.200000     9.000000  "
      ]
     },
     "execution_count": 7,
     "metadata": {},
     "output_type": "execute_result"
    }
   ],
   "source": [
    "wine.describe()"
   ]
  },
  {
   "cell_type": "markdown",
   "id": "2ff751a6",
   "metadata": {},
   "source": [
    "# Check Missing Data"
   ]
  },
  {
   "cell_type": "code",
   "execution_count": 8,
   "id": "f3934e57",
   "metadata": {
    "ExecuteTime": {
     "end_time": "2022-02-15T23:37:54.865899Z",
     "start_time": "2022-02-15T23:37:53.594735Z"
    }
   },
   "outputs": [
    {
     "data": {
      "text/plain": [
       "<AxesSubplot:>"
      ]
     },
     "execution_count": 8,
     "metadata": {},
     "output_type": "execute_result"
    },
    {
     "data": {
      "image/png": "[encoded data removed]",
      "text/plain": [
       "<Figure size 432x288 with 1 Axes>"
      ]
     },
     "metadata": {},
     "output_type": "display_data"
    }
   ],
   "source": [
    "sns.heatmap(data = wine.isnull(),yticklabels = False, cbar = False, cmap = 'viridis' )"
   ]
  },
  {
   "cell_type": "markdown",
   "id": "fa625828",
   "metadata": {},
   "source": [
    "* No missing data"
   ]
  },
  {
   "cell_type": "markdown",
   "id": "78aa5d16",
   "metadata": {},
   "source": [
    "# Exploratory Data Analysis (EDA)"
   ]
  },
  {
   "cell_type": "code",
   "execution_count": 9,
   "id": "928f955f",
   "metadata": {
    "ExecuteTime": {
     "end_time": "2022-02-15T23:37:56.423079Z",
     "start_time": "2022-02-15T23:37:56.407094Z"
    }
   },
   "outputs": [
    {
     "data": {
      "text/plain": [
       "Index(['fixed acidity', 'volatile acidity', 'citric acid', 'residual sugar',\n",
       "       'chlorides', 'free sulfur dioxide', 'total sulfur dioxide', 'density',\n",
       "       'pH', 'sulphates', 'alcohol', 'quality'],\n",
       "      dtype='object')"
      ]
     },
     "execution_count": 9,
     "metadata": {},
     "output_type": "execute_result"
    }
   ],
   "source": [
    "wine.columns"
   ]
  },
  {
   "cell_type": "markdown",
   "id": "62c9e755",
   "metadata": {},
   "source": [
    "## Response Variable: Quality"
   ]
  },
  {
   "cell_type": "code",
   "execution_count": 10,
   "id": "3dd9fd65",
   "metadata": {
    "ExecuteTime": {
     "end_time": "2022-02-15T23:37:57.624943Z",
     "start_time": "2022-02-15T23:37:57.444962Z"
    }
   },
   "outputs": [
    {
     "data": {
      "text/plain": [
       "<AxesSubplot:xlabel='quality', ylabel='count'>"
      ]
     },
     "execution_count": 10,
     "metadata": {},
     "output_type": "execute_result"
    },
    {
     "data": {
      "image/png": "[encoded data removed]",
      "text/plain": [
       "<Figure size 1080x360 with 1 Axes>"
      ]
     },
     "metadata": {},
     "output_type": "display_data"
    }
   ],
   "source": [
    "plt.figure(figsize=(15,5))\n",
    "sns.countplot(data = wine, x = 'quality', order = wine['quality'].value_counts().index)"
   ]
  },
  {
   "cell_type": "code",
   "execution_count": 11,
   "id": "88dd63a1",
   "metadata": {
    "ExecuteTime": {
     "end_time": "2022-02-15T23:37:58.002767Z",
     "start_time": "2022-02-15T23:37:57.994768Z"
    }
   },
   "outputs": [
    {
     "data": {
      "text/plain": [
       "6    2198\n",
       "5    1457\n",
       "7     880\n",
       "8     175\n",
       "4     163\n",
       "3      20\n",
       "9       5\n",
       "Name: quality, dtype: int64"
      ]
     },
     "execution_count": 11,
     "metadata": {},
     "output_type": "execute_result"
    }
   ],
   "source": [
    "wine['quality'].value_counts()"
   ]
  },
  {
   "cell_type": "markdown",
   "id": "8c48e80f",
   "metadata": {},
   "source": [
    "## New Variable: Wine Quality"
   ]
  },
  {
   "cell_type": "code",
   "execution_count": 12,
   "id": "f04d6421",
   "metadata": {
    "ExecuteTime": {
     "end_time": "2022-02-15T23:37:58.968939Z",
     "start_time": "2022-02-15T23:37:58.957000Z"
    }
   },
   "outputs": [],
   "source": [
    "white = wine.copy()"
   ]
  },
  {
   "cell_type": "code",
   "execution_count": 13,
   "id": "a6392327",
   "metadata": {
    "ExecuteTime": {
     "end_time": "2022-02-15T23:37:59.380008Z",
     "start_time": "2022-02-15T23:37:59.367987Z"
    }
   },
   "outputs": [],
   "source": [
    "white['wine_quality'] = np.where(white['quality'] > 6, 1, 0)"
   ]
  },
  {
   "cell_type": "code",
   "execution_count": 14,
   "id": "d7ab23c9",
   "metadata": {
    "ExecuteTime": {
     "end_time": "2022-02-15T23:37:59.875714Z",
     "start_time": "2022-02-15T23:37:59.851665Z"
    }
   },
   "outputs": [
    {
     "data": {
      "text/html": [
       "<div>\n",
       "<style scoped>\n",
       "    .dataframe tbody tr th:only-of-type {\n",
       "        vertical-align: middle;\n",
       "    }\n",
       "\n",
       "    .dataframe tbody tr th {\n",
       "        vertical-align: top;\n",
       "    }\n",
       "\n",
       "    .dataframe thead th {\n",
       "        text-align: right;\n",
       "    }\n",
       "</style>\n",
       "<table border=\"1\" class=\"dataframe\">\n",
       "  <thead>\n",
       "    <tr style=\"text-align: right;\">\n",
       "      <th></th>\n",
       "      <th>fixed acidity</th>\n",
       "      <th>volatile acidity</th>\n",
       "      <th>citric acid</th>\n",
       "      <th>residual sugar</th>\n",
       "      <th>chlorides</th>\n",
       "      <th>free sulfur dioxide</th>\n",
       "      <th>total sulfur dioxide</th>\n",
       "      <th>density</th>\n",
       "      <th>pH</th>\n",
       "      <th>sulphates</th>\n",
       "      <th>alcohol</th>\n",
       "      <th>quality</th>\n",
       "      <th>wine_quality</th>\n",
       "    </tr>\n",
       "  </thead>\n",
       "  <tbody>\n",
       "    <tr>\n",
       "      <th>0</th>\n",
       "      <td>7.0</td>\n",
       "      <td>0.27</td>\n",
       "      <td>0.36</td>\n",
       "      <td>20.7</td>\n",
       "      <td>0.045</td>\n",
       "      <td>45.0</td>\n",
       "      <td>170.0</td>\n",
       "      <td>1.0010</td>\n",
       "      <td>3.00</td>\n",
       "      <td>0.45</td>\n",
       "      <td>8.8</td>\n",
       "      <td>6</td>\n",
       "      <td>0</td>\n",
       "    </tr>\n",
       "    <tr>\n",
       "      <th>1</th>\n",
       "      <td>6.3</td>\n",
       "      <td>0.30</td>\n",
       "      <td>0.34</td>\n",
       "      <td>1.6</td>\n",
       "      <td>0.049</td>\n",
       "      <td>14.0</td>\n",
       "      <td>132.0</td>\n",
       "      <td>0.9940</td>\n",
       "      <td>3.30</td>\n",
       "      <td>0.49</td>\n",
       "      <td>9.5</td>\n",
       "      <td>6</td>\n",
       "      <td>0</td>\n",
       "    </tr>\n",
       "    <tr>\n",
       "      <th>2</th>\n",
       "      <td>8.1</td>\n",
       "      <td>0.28</td>\n",
       "      <td>0.40</td>\n",
       "      <td>6.9</td>\n",
       "      <td>0.050</td>\n",
       "      <td>30.0</td>\n",
       "      <td>97.0</td>\n",
       "      <td>0.9951</td>\n",
       "      <td>3.26</td>\n",
       "      <td>0.44</td>\n",
       "      <td>10.1</td>\n",
       "      <td>6</td>\n",
       "      <td>0</td>\n",
       "    </tr>\n",
       "    <tr>\n",
       "      <th>3</th>\n",
       "      <td>7.2</td>\n",
       "      <td>0.23</td>\n",
       "      <td>0.32</td>\n",
       "      <td>8.5</td>\n",
       "      <td>0.058</td>\n",
       "      <td>47.0</td>\n",
       "      <td>186.0</td>\n",
       "      <td>0.9956</td>\n",
       "      <td>3.19</td>\n",
       "      <td>0.40</td>\n",
       "      <td>9.9</td>\n",
       "      <td>6</td>\n",
       "      <td>0</td>\n",
       "    </tr>\n",
       "    <tr>\n",
       "      <th>4</th>\n",
       "      <td>7.2</td>\n",
       "      <td>0.23</td>\n",
       "      <td>0.32</td>\n",
       "      <td>8.5</td>\n",
       "      <td>0.058</td>\n",
       "      <td>47.0</td>\n",
       "      <td>186.0</td>\n",
       "      <td>0.9956</td>\n",
       "      <td>3.19</td>\n",
       "      <td>0.40</td>\n",
       "      <td>9.9</td>\n",
       "      <td>6</td>\n",
       "      <td>0</td>\n",
       "    </tr>\n",
       "  </tbody>\n",
       "</table>\n",
       "</div>"
      ],
      "text/plain": [
       "   fixed acidity  volatile acidity  citric acid  residual sugar  chlorides  \\\n",
       "0            7.0              0.27         0.36            20.7      0.045   \n",
       "1            6.3              0.30         0.34             1.6      0.049   \n",
       "2            8.1              0.28         0.40             6.9      0.050   \n",
       "3            7.2              0.23         0.32             8.5      0.058   \n",
       "4            7.2              0.23         0.32             8.5      0.058   \n",
       "\n",
       "   free sulfur dioxide  total sulfur dioxide  density    pH  sulphates  \\\n",
       "0                 45.0                 170.0   1.0010  3.00       0.45   \n",
       "1                 14.0                 132.0   0.9940  3.30       0.49   \n",
       "2                 30.0                  97.0   0.9951  3.26       0.44   \n",
       "3                 47.0                 186.0   0.9956  3.19       0.40   \n",
       "4                 47.0                 186.0   0.9956  3.19       0.40   \n",
       "\n",
       "   alcohol  quality  wine_quality  \n",
       "0      8.8        6             0  \n",
       "1      9.5        6             0  \n",
       "2     10.1        6             0  \n",
       "3      9.9        6             0  \n",
       "4      9.9        6             0  "
      ]
     },
     "execution_count": 14,
     "metadata": {},
     "output_type": "execute_result"
    }
   ],
   "source": [
    "white.head()"
   ]
  },
  {
   "cell_type": "code",
   "execution_count": 15,
   "id": "f16ac8cb",
   "metadata": {
    "ExecuteTime": {
     "end_time": "2022-02-15T23:38:00.451904Z",
     "start_time": "2022-02-15T23:38:00.337560Z"
    }
   },
   "outputs": [
    {
     "data": {
      "text/plain": [
       "<AxesSubplot:xlabel='wine_quality', ylabel='count'>"
      ]
     },
     "execution_count": 15,
     "metadata": {},
     "output_type": "execute_result"
    },
    {
     "data": {
      "image/png": "[encoded data removed]",
      "text/plain": [
       "<Figure size 432x288 with 1 Axes>"
      ]
     },
     "metadata": {},
     "output_type": "display_data"
    }
   ],
   "source": [
    "sns.countplot(data = white, x = 'wine_quality')"
   ]
  },
  {
   "cell_type": "code",
   "execution_count": 16,
   "id": "20d589a9",
   "metadata": {
    "ExecuteTime": {
     "end_time": "2022-02-15T23:38:00.820849Z",
     "start_time": "2022-02-15T23:38:00.812820Z"
    }
   },
   "outputs": [],
   "source": [
    "white.drop('quality', axis = 1, inplace = True)"
   ]
  },
  {
   "cell_type": "code",
   "execution_count": 17,
   "id": "59d4179a",
   "metadata": {
    "ExecuteTime": {
     "end_time": "2022-02-15T23:38:01.395964Z",
     "start_time": "2022-02-15T23:38:01.375948Z"
    }
   },
   "outputs": [
    {
     "data": {
      "text/html": [
       "<div>\n",
       "<style scoped>\n",
       "    .dataframe tbody tr th:only-of-type {\n",
       "        vertical-align: middle;\n",
       "    }\n",
       "\n",
       "    .dataframe tbody tr th {\n",
       "        vertical-align: top;\n",
       "    }\n",
       "\n",
       "    .dataframe thead th {\n",
       "        text-align: right;\n",
       "    }\n",
       "</style>\n",
       "<table border=\"1\" class=\"dataframe\">\n",
       "  <thead>\n",
       "    <tr style=\"text-align: right;\">\n",
       "      <th></th>\n",
       "      <th>fixed acidity</th>\n",
       "      <th>volatile acidity</th>\n",
       "      <th>citric acid</th>\n",
       "      <th>residual sugar</th>\n",
       "      <th>chlorides</th>\n",
       "      <th>free sulfur dioxide</th>\n",
       "      <th>total sulfur dioxide</th>\n",
       "      <th>density</th>\n",
       "      <th>pH</th>\n",
       "      <th>sulphates</th>\n",
       "      <th>alcohol</th>\n",
       "      <th>wine_quality</th>\n",
       "    </tr>\n",
       "  </thead>\n",
       "  <tbody>\n",
       "    <tr>\n",
       "      <th>0</th>\n",
       "      <td>7.0</td>\n",
       "      <td>0.27</td>\n",
       "      <td>0.36</td>\n",
       "      <td>20.7</td>\n",
       "      <td>0.045</td>\n",
       "      <td>45.0</td>\n",
       "      <td>170.0</td>\n",
       "      <td>1.0010</td>\n",
       "      <td>3.00</td>\n",
       "      <td>0.45</td>\n",
       "      <td>8.8</td>\n",
       "      <td>0</td>\n",
       "    </tr>\n",
       "    <tr>\n",
       "      <th>1</th>\n",
       "      <td>6.3</td>\n",
       "      <td>0.30</td>\n",
       "      <td>0.34</td>\n",
       "      <td>1.6</td>\n",
       "      <td>0.049</td>\n",
       "      <td>14.0</td>\n",
       "      <td>132.0</td>\n",
       "      <td>0.9940</td>\n",
       "      <td>3.30</td>\n",
       "      <td>0.49</td>\n",
       "      <td>9.5</td>\n",
       "      <td>0</td>\n",
       "    </tr>\n",
       "    <tr>\n",
       "      <th>2</th>\n",
       "      <td>8.1</td>\n",
       "      <td>0.28</td>\n",
       "      <td>0.40</td>\n",
       "      <td>6.9</td>\n",
       "      <td>0.050</td>\n",
       "      <td>30.0</td>\n",
       "      <td>97.0</td>\n",
       "      <td>0.9951</td>\n",
       "      <td>3.26</td>\n",
       "      <td>0.44</td>\n",
       "      <td>10.1</td>\n",
       "      <td>0</td>\n",
       "    </tr>\n",
       "    <tr>\n",
       "      <th>3</th>\n",
       "      <td>7.2</td>\n",
       "      <td>0.23</td>\n",
       "      <td>0.32</td>\n",
       "      <td>8.5</td>\n",
       "      <td>0.058</td>\n",
       "      <td>47.0</td>\n",
       "      <td>186.0</td>\n",
       "      <td>0.9956</td>\n",
       "      <td>3.19</td>\n",
       "      <td>0.40</td>\n",
       "      <td>9.9</td>\n",
       "      <td>0</td>\n",
       "    </tr>\n",
       "    <tr>\n",
       "      <th>4</th>\n",
       "      <td>7.2</td>\n",
       "      <td>0.23</td>\n",
       "      <td>0.32</td>\n",
       "      <td>8.5</td>\n",
       "      <td>0.058</td>\n",
       "      <td>47.0</td>\n",
       "      <td>186.0</td>\n",
       "      <td>0.9956</td>\n",
       "      <td>3.19</td>\n",
       "      <td>0.40</td>\n",
       "      <td>9.9</td>\n",
       "      <td>0</td>\n",
       "    </tr>\n",
       "  </tbody>\n",
       "</table>\n",
       "</div>"
      ],
      "text/plain": [
       "   fixed acidity  volatile acidity  citric acid  residual sugar  chlorides  \\\n",
       "0            7.0              0.27         0.36            20.7      0.045   \n",
       "1            6.3              0.30         0.34             1.6      0.049   \n",
       "2            8.1              0.28         0.40             6.9      0.050   \n",
       "3            7.2              0.23         0.32             8.5      0.058   \n",
       "4            7.2              0.23         0.32             8.5      0.058   \n",
       "\n",
       "   free sulfur dioxide  total sulfur dioxide  density    pH  sulphates  \\\n",
       "0                 45.0                 170.0   1.0010  3.00       0.45   \n",
       "1                 14.0                 132.0   0.9940  3.30       0.49   \n",
       "2                 30.0                  97.0   0.9951  3.26       0.44   \n",
       "3                 47.0                 186.0   0.9956  3.19       0.40   \n",
       "4                 47.0                 186.0   0.9956  3.19       0.40   \n",
       "\n",
       "   alcohol  wine_quality  \n",
       "0      8.8             0  \n",
       "1      9.5             0  \n",
       "2     10.1             0  \n",
       "3      9.9             0  \n",
       "4      9.9             0  "
      ]
     },
     "execution_count": 17,
     "metadata": {},
     "output_type": "execute_result"
    }
   ],
   "source": [
    "white.head()"
   ]
  },
  {
   "cell_type": "markdown",
   "id": "83aae849",
   "metadata": {},
   "source": [
    "### Fixed Acidity vs Wine Quality"
   ]
  },
  {
   "cell_type": "code",
   "execution_count": 18,
   "id": "69f97f4f",
   "metadata": {
    "ExecuteTime": {
     "end_time": "2022-02-15T23:38:03.397230Z",
     "start_time": "2022-02-15T23:38:02.902046Z"
    }
   },
   "outputs": [
    {
     "data": {
      "text/plain": [
       "<AxesSubplot:xlabel='fixed acidity', ylabel='Count'>"
      ]
     },
     "execution_count": 18,
     "metadata": {},
     "output_type": "execute_result"
    },
    {
     "data": {
      "image/png": "[encoded data removed]",
      "text/plain": [
       "<Figure size 1080x360 with 1 Axes>"
      ]
     },
     "metadata": {},
     "output_type": "display_data"
    }
   ],
   "source": [
    "plt.figure(figsize=(15,5))\n",
    "sns.histplot(data = white, x = 'fixed acidity', hue = 'wine_quality')"
   ]
  },
  {
   "cell_type": "markdown",
   "id": "a22da476",
   "metadata": {},
   "source": [
    "* Data indicates low or no relationship between Fixed Acidity and Wine Quality"
   ]
  },
  {
   "cell_type": "markdown",
   "id": "59458ca0",
   "metadata": {},
   "source": [
    "### Volatile Acidity vs Wine Quality"
   ]
  },
  {
   "cell_type": "code",
   "execution_count": 19,
   "id": "efea5d6b",
   "metadata": {
    "ExecuteTime": {
     "end_time": "2022-02-15T23:38:05.182533Z",
     "start_time": "2022-02-15T23:38:04.776115Z"
    }
   },
   "outputs": [
    {
     "data": {
      "text/plain": [
       "<AxesSubplot:xlabel='volatile acidity', ylabel='Count'>"
      ]
     },
     "execution_count": 19,
     "metadata": {},
     "output_type": "execute_result"
    },
    {
     "data": {
      "image/png": "[encoded data removed]",
      "text/plain": [
       "<Figure size 1080x360 with 1 Axes>"
      ]
     },
     "metadata": {},
     "output_type": "display_data"
    }
   ],
   "source": [
    "plt.figure(figsize=(15,5))\n",
    "sns.histplot(data = white, x = 'volatile acidity', hue = 'wine_quality')"
   ]
  },
  {
   "cell_type": "markdown",
   "id": "1316c77d",
   "metadata": {},
   "source": [
    "* Data indicates low or no relationship between Volatile Acidity and Wine Quality"
   ]
  },
  {
   "cell_type": "markdown",
   "id": "312ef40a",
   "metadata": {},
   "source": [
    "### Citric Acid vs Wine Quality"
   ]
  },
  {
   "cell_type": "code",
   "execution_count": 20,
   "id": "16c57415",
   "metadata": {
    "ExecuteTime": {
     "end_time": "2022-02-15T23:38:07.034377Z",
     "start_time": "2022-02-15T23:38:06.511036Z"
    }
   },
   "outputs": [
    {
     "data": {
      "text/plain": [
       "<AxesSubplot:xlabel='citric acid', ylabel='Count'>"
      ]
     },
     "execution_count": 20,
     "metadata": {},
     "output_type": "execute_result"
    },
    {
     "data": {
      "image/png": "[encoded data removed]",
      "text/plain": [
       "<Figure size 1080x360 with 1 Axes>"
      ]
     },
     "metadata": {},
     "output_type": "display_data"
    }
   ],
   "source": [
    "plt.figure(figsize=(15,5))\n",
    "sns.histplot(data = white, x = 'citric acid', hue = 'wine_quality')"
   ]
  },
  {
   "cell_type": "markdown",
   "id": "11865dc7",
   "metadata": {},
   "source": [
    "* Data indicates low or no relationship between Citric Acid and Wine Quality"
   ]
  },
  {
   "cell_type": "markdown",
   "id": "18661631",
   "metadata": {},
   "source": [
    "### Residual Sugar vs Wine Quality"
   ]
  },
  {
   "cell_type": "code",
   "execution_count": 21,
   "id": "65bfcb2b",
   "metadata": {
    "ExecuteTime": {
     "end_time": "2022-02-15T23:38:08.888112Z",
     "start_time": "2022-02-15T23:38:08.455441Z"
    }
   },
   "outputs": [
    {
     "data": {
      "text/plain": [
       "<AxesSubplot:xlabel='residual sugar', ylabel='Count'>"
      ]
     },
     "execution_count": 21,
     "metadata": {},
     "output_type": "execute_result"
    },
    {
     "data": {
      "image/png": "[encoded data removed]",
      "text/plain": [
       "<Figure size 1080x360 with 1 Axes>"
      ]
     },
     "metadata": {},
     "output_type": "display_data"
    }
   ],
   "source": [
    "plt.figure(figsize=(15,5))\n",
    "sns.histplot(data = white, x = 'residual sugar', hue = 'wine_quality')"
   ]
  },
  {
   "cell_type": "markdown",
   "id": "339789ba",
   "metadata": {},
   "source": [
    "* Data indicates low or no relationship between Residual Sugar and Wine Quality"
   ]
  },
  {
   "cell_type": "markdown",
   "id": "95c05e45",
   "metadata": {},
   "source": [
    "### Chlorides vs Wine Quality"
   ]
  },
  {
   "cell_type": "code",
   "execution_count": 22,
   "id": "666ec458",
   "metadata": {
    "ExecuteTime": {
     "end_time": "2022-02-15T23:38:11.348731Z",
     "start_time": "2022-02-15T23:38:10.572333Z"
    }
   },
   "outputs": [
    {
     "data": {
      "text/plain": [
       "<AxesSubplot:xlabel='chlorides', ylabel='Count'>"
      ]
     },
     "execution_count": 22,
     "metadata": {},
     "output_type": "execute_result"
    },
    {
     "data": {
      "image/png": "[encoded data removed]",
      "text/plain": [
       "<Figure size 1080x360 with 1 Axes>"
      ]
     },
     "metadata": {},
     "output_type": "display_data"
    }
   ],
   "source": [
    "plt.figure(figsize=(15,5))\n",
    "sns.histplot(data = white, x = 'chlorides', hue = 'wine_quality')"
   ]
  },
  {
   "cell_type": "markdown",
   "id": "2bc764a8",
   "metadata": {},
   "source": [
    "* Data indicates low inverse relationship between Chlorides and Wine Quality"
   ]
  },
  {
   "cell_type": "markdown",
   "id": "08f41fd2",
   "metadata": {},
   "source": [
    "### Free Sulfur Dioxide vs Wine Quality"
   ]
  },
  {
   "cell_type": "code",
   "execution_count": 23,
   "id": "a62a5248",
   "metadata": {
    "ExecuteTime": {
     "end_time": "2022-02-15T23:38:13.174559Z",
     "start_time": "2022-02-15T23:38:12.697349Z"
    }
   },
   "outputs": [
    {
     "data": {
      "text/plain": [
       "<AxesSubplot:xlabel='free sulfur dioxide', ylabel='Count'>"
      ]
     },
     "execution_count": 23,
     "metadata": {},
     "output_type": "execute_result"
    },
    {
     "data": {
      "image/png": "[encoded data removed]",
      "text/plain": [
       "<Figure size 1080x360 with 1 Axes>"
      ]
     },
     "metadata": {},
     "output_type": "display_data"
    }
   ],
   "source": [
    "plt.figure(figsize=(15,5))\n",
    "sns.histplot(data = white, x = 'free sulfur dioxide', hue = 'wine_quality')"
   ]
  },
  {
   "cell_type": "markdown",
   "id": "e39cc5ba",
   "metadata": {},
   "source": [
    "* Data indicates low or no relationship between Free Sulfur Dioxie and Wine Quality"
   ]
  },
  {
   "cell_type": "markdown",
   "id": "a77abaff",
   "metadata": {},
   "source": [
    "### Total Sulfur Dioxide vs Wine Quality"
   ]
  },
  {
   "cell_type": "code",
   "execution_count": 24,
   "id": "1eb0cf5b",
   "metadata": {
    "ExecuteTime": {
     "end_time": "2022-02-15T23:38:15.652090Z",
     "start_time": "2022-02-15T23:38:15.248172Z"
    }
   },
   "outputs": [
    {
     "data": {
      "text/plain": [
       "<AxesSubplot:xlabel='total sulfur dioxide', ylabel='Count'>"
      ]
     },
     "execution_count": 24,
     "metadata": {},
     "output_type": "execute_result"
    },
    {
     "data": {
      "image/png": "[encoded data removed]",
      "text/plain": [
       "<Figure size 1080x360 with 1 Axes>"
      ]
     },
     "metadata": {},
     "output_type": "display_data"
    }
   ],
   "source": [
    "plt.figure(figsize=(15,5))\n",
    "sns.histplot(data = white, x = 'total sulfur dioxide', hue = 'wine_quality')"
   ]
  },
  {
   "cell_type": "markdown",
   "id": "205731cc",
   "metadata": {},
   "source": [
    "* Data indicates low inverse relationship between Total Sulfur Dioxide and Wine Quality"
   ]
  },
  {
   "cell_type": "markdown",
   "id": "eedc21ca",
   "metadata": {},
   "source": [
    "### Density vs Wine Quality"
   ]
  },
  {
   "cell_type": "code",
   "execution_count": 25,
   "id": "c44f1551",
   "metadata": {
    "ExecuteTime": {
     "end_time": "2022-02-15T23:38:17.592090Z",
     "start_time": "2022-02-15T23:38:17.115048Z"
    }
   },
   "outputs": [
    {
     "data": {
      "text/plain": [
       "<AxesSubplot:xlabel='density', ylabel='Count'>"
      ]
     },
     "execution_count": 25,
     "metadata": {},
     "output_type": "execute_result"
    },
    {
     "data": {
      "image/png": "[encoded data removed]",
      "text/plain": [
       "<Figure size 1080x360 with 1 Axes>"
      ]
     },
     "metadata": {},
     "output_type": "display_data"
    }
   ],
   "source": [
    "plt.figure(figsize=(15,5))\n",
    "sns.histplot(data = white, x = 'density', hue = 'wine_quality')"
   ]
  },
  {
   "cell_type": "markdown",
   "id": "c828bb4b",
   "metadata": {},
   "source": [
    "* Data indicates some inverse relationship between Density and Wine Quality"
   ]
  },
  {
   "cell_type": "markdown",
   "id": "961ad274",
   "metadata": {},
   "source": [
    "### pH vs Wine Quality"
   ]
  },
  {
   "cell_type": "code",
   "execution_count": 26,
   "id": "4f974d6b",
   "metadata": {
    "ExecuteTime": {
     "end_time": "2022-02-15T23:38:19.535581Z",
     "start_time": "2022-02-15T23:38:19.208454Z"
    }
   },
   "outputs": [
    {
     "data": {
      "text/plain": [
       "<AxesSubplot:xlabel='pH', ylabel='Count'>"
      ]
     },
     "execution_count": 26,
     "metadata": {},
     "output_type": "execute_result"
    },
    {
     "data": {
      "image/png": "[encoded data removed]",
      "text/plain": [
       "<Figure size 1080x360 with 1 Axes>"
      ]
     },
     "metadata": {},
     "output_type": "display_data"
    }
   ],
   "source": [
    "plt.figure(figsize=(15,5))\n",
    "sns.histplot(data = white, x = 'pH', hue = 'wine_quality')"
   ]
  },
  {
   "cell_type": "markdown",
   "id": "86ceb41e",
   "metadata": {},
   "source": [
    "* Data indicates low or no relationship between pH and Wine Quality"
   ]
  },
  {
   "cell_type": "markdown",
   "id": "6ad2a6e1",
   "metadata": {},
   "source": [
    "### Sulphates vs Wine Quality"
   ]
  },
  {
   "cell_type": "code",
   "execution_count": 27,
   "id": "6ea720e3",
   "metadata": {
    "ExecuteTime": {
     "end_time": "2022-02-15T23:38:21.382200Z",
     "start_time": "2022-02-15T23:38:21.049011Z"
    }
   },
   "outputs": [
    {
     "data": {
      "text/plain": [
       "<AxesSubplot:xlabel='sulphates', ylabel='Count'>"
      ]
     },
     "execution_count": 27,
     "metadata": {},
     "output_type": "execute_result"
    },
    {
     "data": {
      "image/png": "[encoded data removed]",
      "text/plain": [
       "<Figure size 1080x360 with 1 Axes>"
      ]
     },
     "metadata": {},
     "output_type": "display_data"
    }
   ],
   "source": [
    "plt.figure(figsize=(15,5))\n",
    "sns.histplot(data = white, x = 'sulphates', hue = 'wine_quality')"
   ]
  },
  {
   "cell_type": "markdown",
   "id": "a258da74",
   "metadata": {
    "ExecuteTime": {
     "end_time": "2022-02-03T01:11:10.606560Z",
     "start_time": "2022-02-03T01:11:10.591369Z"
    }
   },
   "source": [
    "* Data indicates low or no relationship between Sulphates and Wine Quality"
   ]
  },
  {
   "cell_type": "markdown",
   "id": "e8a66552",
   "metadata": {},
   "source": [
    "### Alcohol vs Wine Quality"
   ]
  },
  {
   "cell_type": "code",
   "execution_count": 28,
   "id": "23d4d7a3",
   "metadata": {
    "ExecuteTime": {
     "end_time": "2022-02-15T23:38:23.195736Z",
     "start_time": "2022-02-15T23:38:22.931278Z"
    }
   },
   "outputs": [
    {
     "data": {
      "text/plain": [
       "<AxesSubplot:xlabel='alcohol', ylabel='Count'>"
      ]
     },
     "execution_count": 28,
     "metadata": {},
     "output_type": "execute_result"
    },
    {
     "data": {
      "image/png": "[encoded data removed]",
      "text/plain": [
       "<Figure size 1080x360 with 1 Axes>"
      ]
     },
     "metadata": {},
     "output_type": "display_data"
    }
   ],
   "source": [
    "plt.figure(figsize=(15,5))\n",
    "sns.histplot(data = white, x = 'alcohol', hue = 'wine_quality')"
   ]
  },
  {
   "cell_type": "markdown",
   "id": "2305bb8b",
   "metadata": {},
   "source": [
    "* Data indicates some relationship between Alcohol and Wine Quality"
   ]
  },
  {
   "cell_type": "markdown",
   "id": "6cb8a124",
   "metadata": {},
   "source": [
    "## Variable Correlation"
   ]
  },
  {
   "cell_type": "code",
   "execution_count": 29,
   "id": "04ad644f",
   "metadata": {
    "ExecuteTime": {
     "end_time": "2022-02-15T23:38:25.595646Z",
     "start_time": "2022-02-15T23:38:24.851311Z"
    }
   },
   "outputs": [
    {
     "data": {
      "text/plain": [
       "<AxesSubplot:>"
      ]
     },
     "execution_count": 29,
     "metadata": {},
     "output_type": "execute_result"
    },
    {
     "data": {
      "image/png": "[encoded data removed]",
      "text/plain": [
       "<Figure size 1080x576 with 2 Axes>"
      ]
     },
     "metadata": {},
     "output_type": "display_data"
    }
   ],
   "source": [
    "plt.figure(figsize=(15,8))\n",
    "sns.heatmap(data = white.corr(), annot = True)"
   ]
  },
  {
   "cell_type": "markdown",
   "id": "0b385224",
   "metadata": {},
   "source": [
    "### Alcohol vs Density"
   ]
  },
  {
   "cell_type": "code",
   "execution_count": 30,
   "id": "c0bb1aac",
   "metadata": {
    "ExecuteTime": {
     "end_time": "2022-02-15T23:38:27.411043Z",
     "start_time": "2022-02-15T23:38:26.552141Z"
    }
   },
   "outputs": [
    {
     "data": {
      "text/plain": [
       "<seaborn.axisgrid.JointGrid at 0x1ebae1ca520>"
      ]
     },
     "execution_count": 30,
     "metadata": {},
     "output_type": "execute_result"
    },
    {
     "data": {
      "text/plain": [
       "<Figure size 1080x360 with 0 Axes>"
      ]
     },
     "metadata": {},
     "output_type": "display_data"
    },
    {
     "data": {
      "image/png": "[encoded data removed]",
      "text/plain": [
       "<Figure size 432x432 with 3 Axes>"
      ]
     },
     "metadata": {},
     "output_type": "display_data"
    }
   ],
   "source": [
    "plt.figure(figsize=(15,5))\n",
    "sns.jointplot(data = white, x = 'alcohol', y = 'density', hue = 'wine_quality')"
   ]
  },
  {
   "cell_type": "markdown",
   "id": "7dc9f0a9",
   "metadata": {},
   "source": [
    "# Normalizing Variables"
   ]
  },
  {
   "cell_type": "code",
   "execution_count": 31,
   "id": "132e1f17",
   "metadata": {
    "ExecuteTime": {
     "end_time": "2022-02-15T23:38:30.092328Z",
     "start_time": "2022-02-15T23:38:28.160420Z"
    }
   },
   "outputs": [],
   "source": [
    "from sklearn.preprocessing import StandardScaler"
   ]
  },
  {
   "cell_type": "code",
   "execution_count": 32,
   "id": "a391ef22",
   "metadata": {
    "ExecuteTime": {
     "end_time": "2022-02-15T23:38:30.662036Z",
     "start_time": "2022-02-15T23:38:30.658100Z"
    }
   },
   "outputs": [],
   "source": [
    "scaler = StandardScaler()"
   ]
  },
  {
   "cell_type": "code",
   "execution_count": 33,
   "id": "21b59312",
   "metadata": {
    "ExecuteTime": {
     "end_time": "2022-02-15T23:38:31.498729Z",
     "start_time": "2022-02-15T23:38:31.474730Z"
    }
   },
   "outputs": [
    {
     "data": {
      "text/plain": [
       "StandardScaler()"
      ]
     },
     "execution_count": 33,
     "metadata": {},
     "output_type": "execute_result"
    }
   ],
   "source": [
    "scaler.fit(white.drop('wine_quality', axis = 1))"
   ]
  },
  {
   "cell_type": "code",
   "execution_count": 34,
   "id": "96bf0499",
   "metadata": {
    "ExecuteTime": {
     "end_time": "2022-02-15T23:38:32.137543Z",
     "start_time": "2022-02-15T23:38:32.117513Z"
    }
   },
   "outputs": [],
   "source": [
    "scaled_features = scaler.transform(white.drop('wine_quality', axis = 1))"
   ]
  },
  {
   "cell_type": "code",
   "execution_count": 35,
   "id": "10731c73",
   "metadata": {
    "ExecuteTime": {
     "end_time": "2022-02-15T23:38:32.707177Z",
     "start_time": "2022-02-15T23:38:32.687126Z"
    }
   },
   "outputs": [],
   "source": [
    "white_feat = pd.DataFrame(data = scaled_features, columns = white.columns[:-1])"
   ]
  },
  {
   "cell_type": "code",
   "execution_count": 36,
   "id": "4d6f2017",
   "metadata": {
    "ExecuteTime": {
     "end_time": "2022-02-15T23:38:33.278279Z",
     "start_time": "2022-02-15T23:38:33.266242Z"
    }
   },
   "outputs": [
    {
     "data": {
      "text/html": [
       "<div>\n",
       "<style scoped>\n",
       "    .dataframe tbody tr th:only-of-type {\n",
       "        vertical-align: middle;\n",
       "    }\n",
       "\n",
       "    .dataframe tbody tr th {\n",
       "        vertical-align: top;\n",
       "    }\n",
       "\n",
       "    .dataframe thead th {\n",
       "        text-align: right;\n",
       "    }\n",
       "</style>\n",
       "<table border=\"1\" class=\"dataframe\">\n",
       "  <thead>\n",
       "    <tr style=\"text-align: right;\">\n",
       "      <th></th>\n",
       "      <th>fixed acidity</th>\n",
       "      <th>volatile acidity</th>\n",
       "      <th>citric acid</th>\n",
       "      <th>residual sugar</th>\n",
       "      <th>chlorides</th>\n",
       "      <th>free sulfur dioxide</th>\n",
       "      <th>total sulfur dioxide</th>\n",
       "      <th>density</th>\n",
       "      <th>pH</th>\n",
       "      <th>sulphates</th>\n",
       "      <th>alcohol</th>\n",
       "    </tr>\n",
       "  </thead>\n",
       "  <tbody>\n",
       "    <tr>\n",
       "      <th>0</th>\n",
       "      <td>0.172097</td>\n",
       "      <td>-0.081770</td>\n",
       "      <td>0.213280</td>\n",
       "      <td>2.821349</td>\n",
       "      <td>-0.035355</td>\n",
       "      <td>0.569932</td>\n",
       "      <td>0.744565</td>\n",
       "      <td>2.331512</td>\n",
       "      <td>-1.246921</td>\n",
       "      <td>-0.349184</td>\n",
       "      <td>-1.393152</td>\n",
       "    </tr>\n",
       "    <tr>\n",
       "      <th>1</th>\n",
       "      <td>-0.657501</td>\n",
       "      <td>0.215896</td>\n",
       "      <td>0.048001</td>\n",
       "      <td>-0.944765</td>\n",
       "      <td>0.147747</td>\n",
       "      <td>-1.253019</td>\n",
       "      <td>-0.149685</td>\n",
       "      <td>-0.009154</td>\n",
       "      <td>0.740029</td>\n",
       "      <td>0.001342</td>\n",
       "      <td>-0.824276</td>\n",
       "    </tr>\n",
       "    <tr>\n",
       "      <th>2</th>\n",
       "      <td>1.475751</td>\n",
       "      <td>0.017452</td>\n",
       "      <td>0.543838</td>\n",
       "      <td>0.100282</td>\n",
       "      <td>0.193523</td>\n",
       "      <td>-0.312141</td>\n",
       "      <td>-0.973336</td>\n",
       "      <td>0.358665</td>\n",
       "      <td>0.475102</td>\n",
       "      <td>-0.436816</td>\n",
       "      <td>-0.336667</td>\n",
       "    </tr>\n",
       "    <tr>\n",
       "      <th>3</th>\n",
       "      <td>0.409125</td>\n",
       "      <td>-0.478657</td>\n",
       "      <td>-0.117278</td>\n",
       "      <td>0.415768</td>\n",
       "      <td>0.559727</td>\n",
       "      <td>0.687541</td>\n",
       "      <td>1.121091</td>\n",
       "      <td>0.525855</td>\n",
       "      <td>0.011480</td>\n",
       "      <td>-0.787342</td>\n",
       "      <td>-0.499203</td>\n",
       "    </tr>\n",
       "    <tr>\n",
       "      <th>4</th>\n",
       "      <td>0.409125</td>\n",
       "      <td>-0.478657</td>\n",
       "      <td>-0.117278</td>\n",
       "      <td>0.415768</td>\n",
       "      <td>0.559727</td>\n",
       "      <td>0.687541</td>\n",
       "      <td>1.121091</td>\n",
       "      <td>0.525855</td>\n",
       "      <td>0.011480</td>\n",
       "      <td>-0.787342</td>\n",
       "      <td>-0.499203</td>\n",
       "    </tr>\n",
       "  </tbody>\n",
       "</table>\n",
       "</div>"
      ],
      "text/plain": [
       "   fixed acidity  volatile acidity  citric acid  residual sugar  chlorides  \\\n",
       "0       0.172097         -0.081770     0.213280        2.821349  -0.035355   \n",
       "1      -0.657501          0.215896     0.048001       -0.944765   0.147747   \n",
       "2       1.475751          0.017452     0.543838        0.100282   0.193523   \n",
       "3       0.409125         -0.478657    -0.117278        0.415768   0.559727   \n",
       "4       0.409125         -0.478657    -0.117278        0.415768   0.559727   \n",
       "\n",
       "   free sulfur dioxide  total sulfur dioxide   density        pH  sulphates  \\\n",
       "0             0.569932              0.744565  2.331512 -1.246921  -0.349184   \n",
       "1            -1.253019             -0.149685 -0.009154  0.740029   0.001342   \n",
       "2            -0.312141             -0.973336  0.358665  0.475102  -0.436816   \n",
       "3             0.687541              1.121091  0.525855  0.011480  -0.787342   \n",
       "4             0.687541              1.121091  0.525855  0.011480  -0.787342   \n",
       "\n",
       "    alcohol  \n",
       "0 -1.393152  \n",
       "1 -0.824276  \n",
       "2 -0.336667  \n",
       "3 -0.499203  \n",
       "4 -0.499203  "
      ]
     },
     "execution_count": 36,
     "metadata": {},
     "output_type": "execute_result"
    }
   ],
   "source": [
    "white_feat.head()"
   ]
  },
  {
   "cell_type": "markdown",
   "id": "ac9b0f08",
   "metadata": {},
   "source": [
    "# Training and Testing Data"
   ]
  },
  {
   "cell_type": "code",
   "execution_count": 37,
   "id": "8e51ea57",
   "metadata": {
    "ExecuteTime": {
     "end_time": "2022-02-15T23:38:35.047416Z",
     "start_time": "2022-02-15T23:38:34.336354Z"
    }
   },
   "outputs": [],
   "source": [
    "from sklearn.model_selection import train_test_split"
   ]
  },
  {
   "cell_type": "code",
   "execution_count": 38,
   "id": "fce0ee97",
   "metadata": {
    "ExecuteTime": {
     "end_time": "2022-02-15T23:38:35.502283Z",
     "start_time": "2022-02-15T23:38:35.486274Z"
    }
   },
   "outputs": [],
   "source": [
    "X = white_feat\n",
    "y = white['wine_quality']"
   ]
  },
  {
   "cell_type": "code",
   "execution_count": 39,
   "id": "eeb258fb",
   "metadata": {
    "ExecuteTime": {
     "end_time": "2022-02-15T23:38:35.970661Z",
     "start_time": "2022-02-15T23:38:35.952611Z"
    }
   },
   "outputs": [],
   "source": [
    "X_train, X_test, y_train, y_test = train_test_split(X, y, test_size=0.20, random_state=101)"
   ]
  },
  {
   "cell_type": "markdown",
   "id": "9bf6c4fa",
   "metadata": {},
   "source": [
    "## Training the Model"
   ]
  },
  {
   "cell_type": "code",
   "execution_count": 40,
   "id": "4f0a7f5e",
   "metadata": {
    "ExecuteTime": {
     "end_time": "2022-02-15T23:38:39.016876Z",
     "start_time": "2022-02-15T23:38:37.283335Z"
    }
   },
   "outputs": [],
   "source": [
    "from sklearn.neighbors import KNeighborsClassifier"
   ]
  },
  {
   "cell_type": "markdown",
   "id": "69a4b114",
   "metadata": {},
   "source": [
    "### k = 1"
   ]
  },
  {
   "cell_type": "code",
   "execution_count": 41,
   "id": "afed35bd",
   "metadata": {
    "ExecuteTime": {
     "end_time": "2022-02-15T23:38:40.746590Z",
     "start_time": "2022-02-15T23:38:40.726645Z"
    }
   },
   "outputs": [],
   "source": [
    "model = KNeighborsClassifier(n_neighbors = 1)"
   ]
  },
  {
   "cell_type": "code",
   "execution_count": 42,
   "id": "f6d50c5b",
   "metadata": {
    "ExecuteTime": {
     "end_time": "2022-02-15T23:38:41.376152Z",
     "start_time": "2022-02-15T23:38:41.336209Z"
    }
   },
   "outputs": [
    {
     "data": {
      "text/plain": [
       "KNeighborsClassifier(n_neighbors=1)"
      ]
     },
     "execution_count": 42,
     "metadata": {},
     "output_type": "execute_result"
    }
   ],
   "source": [
    "model.fit(X_train, y_train)"
   ]
  },
  {
   "cell_type": "markdown",
   "id": "ecaa8cd4",
   "metadata": {},
   "source": [
    "## Predicting Test Data"
   ]
  },
  {
   "cell_type": "code",
   "execution_count": 43,
   "id": "f6d3ef40",
   "metadata": {
    "ExecuteTime": {
     "end_time": "2022-02-15T23:38:42.452280Z",
     "start_time": "2022-02-15T23:38:42.387774Z"
    }
   },
   "outputs": [],
   "source": [
    "pred = model.predict(X_test)"
   ]
  },
  {
   "cell_type": "markdown",
   "id": "0138854c",
   "metadata": {},
   "source": [
    "## Evaluating the Model"
   ]
  },
  {
   "cell_type": "code",
   "execution_count": 44,
   "id": "2e906a58",
   "metadata": {
    "ExecuteTime": {
     "end_time": "2022-02-15T23:38:43.363414Z",
     "start_time": "2022-02-15T23:38:43.351437Z"
    }
   },
   "outputs": [],
   "source": [
    "from sklearn.metrics import confusion_matrix, classification_report"
   ]
  },
  {
   "cell_type": "code",
   "execution_count": 45,
   "id": "9f0c8f93",
   "metadata": {
    "ExecuteTime": {
     "end_time": "2022-02-15T23:38:46.766522Z",
     "start_time": "2022-02-15T23:38:46.726573Z"
    },
    "scrolled": true
   },
   "outputs": [
    {
     "name": "stdout",
     "output_type": "stream",
     "text": [
      "[[711  74]\n",
      " [ 52 143]]\n",
      "\n",
      "\n",
      "              precision    recall  f1-score   support\n",
      "\n",
      "           0       0.93      0.91      0.92       785\n",
      "           1       0.66      0.73      0.69       195\n",
      "\n",
      "    accuracy                           0.87       980\n",
      "   macro avg       0.80      0.82      0.81       980\n",
      "weighted avg       0.88      0.87      0.87       980\n",
      "\n"
     ]
    }
   ],
   "source": [
    "print(confusion_matrix(y_test, pred))\n",
    "print('\\n')\n",
    "print(classification_report(y_test, pred))"
   ]
  },
  {
   "cell_type": "markdown",
   "id": "096c0829",
   "metadata": {},
   "source": [
    "## Apply Elbow Method to Discover Optimal k Value"
   ]
  },
  {
   "cell_type": "markdown",
   "id": "01f3b381",
   "metadata": {},
   "source": [
    "### Metric: Euclidean / Weights: Uniform"
   ]
  },
  {
   "cell_type": "code",
   "execution_count": 66,
   "id": "42ccafbb",
   "metadata": {
    "ExecuteTime": {
     "end_time": "2022-02-16T00:30:22.889263Z",
     "start_time": "2022-02-16T00:30:17.953299Z"
    }
   },
   "outputs": [],
   "source": [
    "error_rate = []\n",
    "\n",
    "for i in range(1,50):\n",
    "    model = KNeighborsClassifier(n_neighbors = i)\n",
    "    model.fit(X_train, y_train)\n",
    "    pred = model.predict(X_test)\n",
    "    error_rate.append(np.mean(pred != y_test))"
   ]
  },
  {
   "cell_type": "code",
   "execution_count": 67,
   "id": "a9a373ae",
   "metadata": {
    "ExecuteTime": {
     "end_time": "2022-02-16T00:30:23.251098Z",
     "start_time": "2022-02-16T00:30:22.954032Z"
    }
   },
   "outputs": [
    {
     "data": {
      "text/plain": [
       "Text(0, 0.5, 'Error Rate')"
      ]
     },
     "execution_count": 67,
     "metadata": {},
     "output_type": "execute_result"
    },
    {
     "data": {
      "image/png": "[encoded data removed]",
      "text/plain": [
       "<Figure size 864x360 with 1 Axes>"
      ]
     },
     "metadata": {},
     "output_type": "display_data"
    }
   ],
   "source": [
    "plt.figure(figsize = (12,5))\n",
    "plt.plot(range(1,50), error_rate, color='blue',\n",
    "         linestyle = 'dashed',\n",
    "         marker = 'o',\n",
    "         markerfacecolor ='red',\n",
    "         markersize = 10)\n",
    "\n",
    "plt.title('Error Rate vs K Value')\n",
    "plt.xlabel('K')\n",
    "plt.ylabel('Error Rate')"
   ]
  },
  {
   "cell_type": "code",
   "execution_count": 68,
   "id": "269d67cc",
   "metadata": {
    "ExecuteTime": {
     "end_time": "2022-02-16T00:30:23.963365Z",
     "start_time": "2022-02-16T00:30:23.952393Z"
    }
   },
   "outputs": [
    {
     "data": {
      "text/plain": [
       "0.15306122448979592"
      ]
     },
     "execution_count": 68,
     "metadata": {},
     "output_type": "execute_result"
    }
   ],
   "source": [
    "error_rate[9]"
   ]
  },
  {
   "cell_type": "markdown",
   "id": "22329d2c",
   "metadata": {},
   "source": [
    "### Metric: Euclidean / Weights: Distance"
   ]
  },
  {
   "cell_type": "code",
   "execution_count": 69,
   "id": "c2563b11",
   "metadata": {
    "ExecuteTime": {
     "end_time": "2022-02-16T00:30:35.772447Z",
     "start_time": "2022-02-16T00:30:31.630983Z"
    }
   },
   "outputs": [],
   "source": [
    "error_rate = []\n",
    "\n",
    "for i in range(1,50):\n",
    "    model = KNeighborsClassifier(n_neighbors = i, weights = 'distance')\n",
    "    model.fit(X_train, y_train)\n",
    "    pred = model.predict(X_test)\n",
    "    error_rate.append(np.mean(pred != y_test))"
   ]
  },
  {
   "cell_type": "code",
   "execution_count": 70,
   "id": "bf40dca0",
   "metadata": {
    "ExecuteTime": {
     "end_time": "2022-02-16T00:30:36.009268Z",
     "start_time": "2022-02-16T00:30:35.838114Z"
    }
   },
   "outputs": [
    {
     "data": {
      "text/plain": [
       "Text(0, 0.5, 'Error Rate')"
      ]
     },
     "execution_count": 70,
     "metadata": {},
     "output_type": "execute_result"
    },
    {
     "data": {
      "image/png": "[encoded data removed]",
      "text/plain": [
       "<Figure size 864x360 with 1 Axes>"
      ]
     },
     "metadata": {},
     "output_type": "display_data"
    }
   ],
   "source": [
    "plt.figure(figsize = (12,5))\n",
    "plt.plot(range(1,50), error_rate, color='blue',\n",
    "         linestyle = 'dashed',\n",
    "         marker = 'o',\n",
    "         markerfacecolor ='red',\n",
    "         markersize = 10)\n",
    "\n",
    "plt.title('Error Rate vs K Value')\n",
    "plt.xlabel('K')\n",
    "plt.ylabel('Error Rate')"
   ]
  },
  {
   "cell_type": "code",
   "execution_count": 71,
   "id": "39a6643f",
   "metadata": {
    "ExecuteTime": {
     "end_time": "2022-02-16T00:30:36.582527Z",
     "start_time": "2022-02-16T00:30:36.571544Z"
    }
   },
   "outputs": [
    {
     "data": {
      "text/plain": [
       "0.11122448979591837"
      ]
     },
     "execution_count": 71,
     "metadata": {},
     "output_type": "execute_result"
    }
   ],
   "source": [
    "error_rate[12]"
   ]
  },
  {
   "cell_type": "markdown",
   "id": "397da18e",
   "metadata": {},
   "source": [
    "### Metric: Manhattan / Weights: Uniform"
   ]
  },
  {
   "cell_type": "code",
   "execution_count": 72,
   "id": "ae55dc66",
   "metadata": {
    "ExecuteTime": {
     "end_time": "2022-02-16T00:30:53.873058Z",
     "start_time": "2022-02-16T00:30:49.046208Z"
    }
   },
   "outputs": [],
   "source": [
    "error_rate = []\n",
    "\n",
    "for i in range(1,50):\n",
    "    model = KNeighborsClassifier(n_neighbors = i, metric = 'manhattan')\n",
    "    model.fit(X_train, y_train)\n",
    "    pred = model.predict(X_test)\n",
    "    error_rate.append(np.mean(pred != y_test))"
   ]
  },
  {
   "cell_type": "code",
   "execution_count": 73,
   "id": "08633023",
   "metadata": {
    "ExecuteTime": {
     "end_time": "2022-02-16T00:30:54.108670Z",
     "start_time": "2022-02-16T00:30:53.937232Z"
    }
   },
   "outputs": [
    {
     "data": {
      "text/plain": [
       "Text(0, 0.5, 'Error Rate')"
      ]
     },
     "execution_count": 73,
     "metadata": {},
     "output_type": "execute_result"
    },
    {
     "data": {
      "image/png": "[encoded data removed]",
      "text/plain": [
       "<Figure size 864x360 with 1 Axes>"
      ]
     },
     "metadata": {},
     "output_type": "display_data"
    }
   ],
   "source": [
    "plt.figure(figsize = (12,5))\n",
    "plt.plot(range(1,50), error_rate, color='blue',\n",
    "         linestyle = 'dashed',\n",
    "         marker = 'o',\n",
    "         markerfacecolor ='red',\n",
    "         markersize = 10)\n",
    "\n",
    "plt.title('Error Rate vs K Value')\n",
    "plt.xlabel('K')\n",
    "plt.ylabel('Error Rate')"
   ]
  },
  {
   "cell_type": "code",
   "execution_count": 74,
   "id": "35529122",
   "metadata": {
    "ExecuteTime": {
     "end_time": "2022-02-16T00:30:54.943068Z",
     "start_time": "2022-02-16T00:30:54.930028Z"
    }
   },
   "outputs": [
    {
     "data": {
      "text/plain": [
       "0.14795918367346939"
      ]
     },
     "execution_count": 74,
     "metadata": {},
     "output_type": "execute_result"
    }
   ],
   "source": [
    "error_rate[10]"
   ]
  },
  {
   "cell_type": "markdown",
   "id": "a02dc3dd",
   "metadata": {},
   "source": [
    "### Metric: Manhattan / Weights: Distance"
   ]
  },
  {
   "cell_type": "code",
   "execution_count": 75,
   "id": "134ca371",
   "metadata": {
    "ExecuteTime": {
     "end_time": "2022-02-16T00:31:01.852077Z",
     "start_time": "2022-02-16T00:30:57.881609Z"
    }
   },
   "outputs": [],
   "source": [
    "error_rate = []\n",
    "\n",
    "for i in range(1,50):\n",
    "    model = KNeighborsClassifier(n_neighbors = i, metric= 'manhattan', weights= 'distance')\n",
    "    model.fit(X_train, y_train)\n",
    "    pred = model.predict(X_test)\n",
    "    error_rate.append(np.mean(pred != y_test))"
   ]
  },
  {
   "cell_type": "code",
   "execution_count": 76,
   "id": "22638b69",
   "metadata": {
    "ExecuteTime": {
     "end_time": "2022-02-16T00:31:02.085232Z",
     "start_time": "2022-02-16T00:31:01.915099Z"
    }
   },
   "outputs": [
    {
     "data": {
      "text/plain": [
       "Text(0, 0.5, 'Error Rate')"
      ]
     },
     "execution_count": 76,
     "metadata": {},
     "output_type": "execute_result"
    },
    {
     "data": {
      "image/png": "[encoded data removed]",
      "text/plain": [
       "<Figure size 864x360 with 1 Axes>"
      ]
     },
     "metadata": {},
     "output_type": "display_data"
    }
   ],
   "source": [
    "plt.figure(figsize = (12,5))\n",
    "plt.plot(range(1,50), error_rate, color='blue',\n",
    "         linestyle = 'dashed',\n",
    "         marker = 'o',\n",
    "         markerfacecolor ='red',\n",
    "         markersize = 10)\n",
    "\n",
    "plt.title('Error Rate vs K Value')\n",
    "plt.xlabel('K')\n",
    "plt.ylabel('Error Rate')"
   ]
  },
  {
   "cell_type": "code",
   "execution_count": 78,
   "id": "34796952",
   "metadata": {
    "ExecuteTime": {
     "end_time": "2022-02-16T00:31:45.006628Z",
     "start_time": "2022-02-16T00:31:45.001680Z"
    }
   },
   "outputs": [
    {
     "data": {
      "text/plain": [
       "0.10918367346938776"
      ]
     },
     "execution_count": 78,
     "metadata": {},
     "output_type": "execute_result"
    }
   ],
   "source": [
    "error_rate[10]"
   ]
  },
  {
   "cell_type": "markdown",
   "id": "ee7100ec",
   "metadata": {},
   "source": [
    "The following combination of paramaters presented the best performance:\n",
    "* __n_neighbours__ = 11\n",
    "* __metric__ = 'manhattan'\n",
    "* __weights__ = 'distance'\n"
   ]
  },
  {
   "cell_type": "markdown",
   "id": "729f836b",
   "metadata": {},
   "source": [
    "## Optimal Results"
   ]
  },
  {
   "cell_type": "code",
   "execution_count": 52,
   "id": "0c048db9",
   "metadata": {
    "ExecuteTime": {
     "end_time": "2022-02-15T23:43:39.889287Z",
     "start_time": "2022-02-15T23:43:39.799168Z"
    }
   },
   "outputs": [],
   "source": [
    "model = KNeighborsClassifier(metric='manhattan', n_neighbors=11, weights='distance')\n",
    "model.fit(X_train, y_train)\n",
    "pred = model.predict(X_test)"
   ]
  },
  {
   "cell_type": "code",
   "execution_count": 53,
   "id": "ef9ab55c",
   "metadata": {
    "ExecuteTime": {
     "end_time": "2022-02-15T23:43:48.102664Z",
     "start_time": "2022-02-15T23:43:48.078639Z"
    }
   },
   "outputs": [
    {
     "name": "stdout",
     "output_type": "stream",
     "text": [
      "[[744  41]\n",
      " [ 66 129]]\n",
      "\n",
      "\n",
      "              precision    recall  f1-score   support\n",
      "\n",
      "           0       0.92      0.95      0.93       785\n",
      "           1       0.76      0.66      0.71       195\n",
      "\n",
      "    accuracy                           0.89       980\n",
      "   macro avg       0.84      0.80      0.82       980\n",
      "weighted avg       0.89      0.89      0.89       980\n",
      "\n"
     ]
    }
   ],
   "source": [
    "print(confusion_matrix(y_test, pred))\n",
    "print('\\n')\n",
    "print(classification_report(y_test, pred))"
   ]
  }
 ],
 "metadata": {
  "kernelspec": {
   "display_name": "Python 3 (ipykernel)",
   "language": "python",
   "name": "python3"
  },
  "language_info": {
   "codemirror_mode": {
    "name": "ipython",
    "version": 3
   },
   "file_extension": ".py",
   "mimetype": "text/x-python",
   "name": "python",
   "nbconvert_exporter": "python",
   "pygments_lexer": "ipython3",
   "version": "3.9.5"
  },
  "varInspector": {
   "cols": {
    "lenName": 16,
    "lenType": 16,
    "lenVar": 40
   },
   "kernels_config": {
    "python": {
     "delete_cmd_postfix": "",
     "delete_cmd_prefix": "del ",
     "library": "var_list.py",
     "varRefreshCmd": "print(var_dic_list())"
    },
    "r": {
     "delete_cmd_postfix": ") ",
     "delete_cmd_prefix": "rm(",
     "library": "var_list.r",
     "varRefreshCmd": "cat(var_dic_list()) "
    }
   },
   "types_to_exclude": [
    "module",
    "function",
    "builtin_function_or_method",
    "instance",
    "_Feature"
   ],
   "window_display": false
  }
 },
 "nbformat": 4,
 "nbformat_minor": 5
}
